{
  "nbformat": 4,
  "nbformat_minor": 0,
  "metadata": {
    "colab": {
      "name": "lab3.ipynb",
      "provenance": [],
      "collapsed_sections": []
    },
    "kernelspec": {
      "name": "python3",
      "display_name": "Python 3"
    },
    "language_info": {
      "name": "python"
    },
    "accelerator": "GPU"
  },
  "cells": [
    {
      "cell_type": "code",
      "execution_count": 1,
      "metadata": {
        "id": "OVsyGPllorS7",
        "colab": {
          "base_uri": "https://localhost:8080/"
        },
        "outputId": "77e0f1c8-23e5-4401-97e3-28371a137fac"
      },
      "outputs": [
        {
          "output_type": "stream",
          "name": "stdout",
          "text": [
            "Mounted at /content/drive\n"
          ]
        }
      ],
      "source": [
        "from google.colab import drive\n",
        "drive.mount('/content/drive')"
      ]
    },
    {
      "cell_type": "markdown",
      "source": [
        "Switch to the project working directory"
      ],
      "metadata": {
        "id": "d_OXP0PQpRxn"
      }
    },
    {
      "cell_type": "code",
      "source": [
        "%cd /content/drive/MyDrive/adversarial-yolo\n",
        "%ls"
      ],
      "metadata": {
        "id": "mb5172o9oys5",
        "colab": {
          "base_uri": "https://localhost:8080/"
        },
        "outputId": "021e5f80-1e1b-4253-9646-07a83c15fb67"
      },
      "execution_count": 2,
      "outputs": [
        {
          "output_type": "stream",
          "name": "stdout",
          "text": [
            "/content/drive/MyDrive/adversarial-yolo\n",
            " adversarial_examples.ipynb   image.py             predictions.jpg\n",
            " batch_detect.py              \u001b[0m\u001b[01;34minria\u001b[0m/               \u001b[01;34m__pycache__\u001b[0m/\n",
            " batch_rotate.py              inria.tar            pytorch041_cuda92_colab.sh\n",
            " \u001b[01;34mcfg\u001b[0m/                         lab3.ipynb           README.md\n",
            " cfg.py                       \u001b[01;34mlayers\u001b[0m/              recall.py\n",
            " class_only.json              LICENSE              region_loss.py\n",
            " class_shift.json             load_data.py         run_docker.sh\n",
            " clean_results.json           median_pool.py       \u001b[01;34mruns\u001b[0m/\n",
            " craft_adv.py                 \u001b[01;34mmodels\u001b[0m/              \u001b[01;34msaved_patches\u001b[0m/\n",
            " darknet.py                   noise_results.json   \u001b[01;34mscripts\u001b[0m/\n",
            " \u001b[01;34mdata\u001b[0m/                        \u001b[01;34mnon_printability\u001b[0m/    \u001b[01;34mtest\u001b[0m/\n",
            " dataset.py                  \u001b[01;34m'oude versies'\u001b[0m/       test_patch.py\n",
            " debug.py                     partial.py           \u001b[01;34mtools\u001b[0m/\n",
            " demo.py                      patch_config.py      train_patch.py\n",
            " detect.py                    \u001b[01;34mpatches\u001b[0m/             train.py\n",
            " \u001b[01;34mDGXContainer\u001b[0m/                patch.jpg            up_results.json\n",
            " eval.py                      patch_results.json   utils.py\n",
            " Evaluation.ipynb             patch_simen.json     valid.py\n",
            " FocalLoss.py                 patch_up.json        \u001b[01;34mweights\u001b[0m/\n",
            " _gitignore                   \u001b[01;34mpersons\u001b[0m/             \u001b[01;34myolo-labels\u001b[0m/\n",
            " how_to_debug.md              pr-curve.eps\n"
          ]
        }
      ]
    },
    {
      "cell_type": "markdown",
      "source": [
        "Install packages that you need here"
      ],
      "metadata": {
        "id": "Ril7SrNXpiKC"
      }
    },
    {
      "cell_type": "code",
      "source": [
        "!pip3 install tensorboardX"
      ],
      "metadata": {
        "id": "Zola2_M0owGl",
        "colab": {
          "base_uri": "https://localhost:8080/"
        },
        "outputId": "564157f6-0de6-4d75-dbf2-6d63e9edb1fe"
      },
      "execution_count": 3,
      "outputs": [
        {
          "output_type": "stream",
          "name": "stdout",
          "text": [
            "Collecting tensorboardX\n",
            "  Downloading tensorboardX-2.5-py2.py3-none-any.whl (125 kB)\n",
            "\u001b[?25l\r\u001b[K     |██▋                             | 10 kB 25.9 MB/s eta 0:00:01\r\u001b[K     |█████▎                          | 20 kB 33.4 MB/s eta 0:00:01\r\u001b[K     |███████▉                        | 30 kB 26.2 MB/s eta 0:00:01\r\u001b[K     |██████████▌                     | 40 kB 15.4 MB/s eta 0:00:01\r\u001b[K     |█████████████                   | 51 kB 13.2 MB/s eta 0:00:01\r\u001b[K     |███████████████▊                | 61 kB 15.3 MB/s eta 0:00:01\r\u001b[K     |██████████████████▎             | 71 kB 15.4 MB/s eta 0:00:01\r\u001b[K     |█████████████████████           | 81 kB 13.0 MB/s eta 0:00:01\r\u001b[K     |███████████████████████▌        | 92 kB 14.4 MB/s eta 0:00:01\r\u001b[K     |██████████████████████████▏     | 102 kB 14.5 MB/s eta 0:00:01\r\u001b[K     |████████████████████████████▊   | 112 kB 14.5 MB/s eta 0:00:01\r\u001b[K     |███████████████████████████████▍| 122 kB 14.5 MB/s eta 0:00:01\r\u001b[K     |████████████████████████████████| 125 kB 14.5 MB/s \n",
            "\u001b[?25hRequirement already satisfied: numpy in /usr/local/lib/python3.7/dist-packages (from tensorboardX) (1.21.6)\n",
            "Requirement already satisfied: protobuf>=3.8.0 in /usr/local/lib/python3.7/dist-packages (from tensorboardX) (3.17.3)\n",
            "Requirement already satisfied: six in /usr/local/lib/python3.7/dist-packages (from tensorboardX) (1.15.0)\n",
            "Installing collected packages: tensorboardX\n",
            "Successfully installed tensorboardX-2.5\n"
          ]
        }
      ]
    },
    {
      "cell_type": "markdown",
      "source": [
        "## 2.1 Attack Human-Detection"
      ],
      "metadata": {
        "id": "cyzJFl8ypqEp"
      }
    },
    {
      "cell_type": "markdown",
      "source": [
        "\n",
        "### (1) Detect without patch\n",
        "Utilize the apis in detect.py to recognize images of people. Feel free to edit the source code if it’s needed. The result should be plotted after running the code.\n",
        "\n"
      ],
      "metadata": {
        "id": "DX4vBER8p3RE"
      }
    },
    {
      "cell_type": "code",
      "source": [
        "# Your code starts here\n",
        "# Hint: To directly run the main function in a file, use \n",
        "\n",
        "%run detect.py cfg/yolov2.cfg weights/yolo.weights persons/person_006.jpg"
      ],
      "metadata": {
        "id": "xtHxSlg2qT_F",
        "colab": {
          "base_uri": "https://localhost:8080/"
        },
        "outputId": "a44464fc-cd06-4452-fe69-7b7d2b49268b"
      },
      "execution_count": 5,
      "outputs": [
        {
          "output_type": "stream",
          "name": "stdout",
          "text": [
            "layer     filters    size              input                output\n",
            "    0 conv     32  3 x 3 / 1   608 x 608 x   3   ->   608 x 608 x  32\n",
            "    1 max          2 x 2 / 2   608 x 608 x  32   ->   304 x 304 x  32\n",
            "    2 conv     64  3 x 3 / 1   304 x 304 x  32   ->   304 x 304 x  64\n",
            "    3 max          2 x 2 / 2   304 x 304 x  64   ->   152 x 152 x  64\n",
            "    4 conv    128  3 x 3 / 1   152 x 152 x  64   ->   152 x 152 x 128\n",
            "    5 conv     64  1 x 1 / 1   152 x 152 x 128   ->   152 x 152 x  64\n",
            "    6 conv    128  3 x 3 / 1   152 x 152 x  64   ->   152 x 152 x 128\n",
            "    7 max          2 x 2 / 2   152 x 152 x 128   ->    76 x  76 x 128\n",
            "    8 conv    256  3 x 3 / 1    76 x  76 x 128   ->    76 x  76 x 256\n",
            "    9 conv    128  1 x 1 / 1    76 x  76 x 256   ->    76 x  76 x 128\n",
            "   10 conv    256  3 x 3 / 1    76 x  76 x 128   ->    76 x  76 x 256\n",
            "   11 max          2 x 2 / 2    76 x  76 x 256   ->    38 x  38 x 256\n",
            "   12 conv    512  3 x 3 / 1    38 x  38 x 256   ->    38 x  38 x 512\n",
            "   13 conv    256  1 x 1 / 1    38 x  38 x 512   ->    38 x  38 x 256\n",
            "   14 conv    512  3 x 3 / 1    38 x  38 x 256   ->    38 x  38 x 512\n",
            "   15 conv    256  1 x 1 / 1    38 x  38 x 512   ->    38 x  38 x 256\n",
            "   16 conv    512  3 x 3 / 1    38 x  38 x 256   ->    38 x  38 x 512\n",
            "   17 max          2 x 2 / 2    38 x  38 x 512   ->    19 x  19 x 512\n",
            "   18 conv   1024  3 x 3 / 1    19 x  19 x 512   ->    19 x  19 x1024\n",
            "   19 conv    512  1 x 1 / 1    19 x  19 x1024   ->    19 x  19 x 512\n",
            "   20 conv   1024  3 x 3 / 1    19 x  19 x 512   ->    19 x  19 x1024\n",
            "   21 conv    512  1 x 1 / 1    19 x  19 x1024   ->    19 x  19 x 512\n",
            "   22 conv   1024  3 x 3 / 1    19 x  19 x 512   ->    19 x  19 x1024\n",
            "   23 conv   1024  3 x 3 / 1    19 x  19 x1024   ->    19 x  19 x1024\n",
            "   24 conv   1024  3 x 3 / 1    19 x  19 x1024   ->    19 x  19 x1024\n",
            "   25 route  16\n",
            "   26 conv     64  1 x 1 / 1    38 x  38 x 512   ->    38 x  38 x  64\n",
            "   27 reorg              / 2    38 x  38 x  64   ->    19 x  19 x 256\n",
            "   28 route  27 24\n",
            "   29 conv   1024  3 x 3 / 1    19 x  19 x1280   ->    19 x  19 x1024\n",
            "   30 conv    425  1 x 1 / 1    19 x  19 x1024   ->    19 x  19 x 425\n",
            "   31 detection\n",
            "Loading weights from weights/yolo.weights... Done!\n",
            "torch.Size([1805, 80])\n",
            "persons/person_006.jpg: Predicted in 0.059059 seconds.\n",
            "[0]person: 0.996859\n",
            "save plot results to predictions.jpg\n"
          ]
        },
        {
          "output_type": "stream",
          "name": "stderr",
          "text": [
            "/content/drive/MyDrive/adversarial-yolo/utils.py:146: UserWarning: Implicit dimension choice for softmax has been deprecated. Change the call to include dim=X as an argument.\n",
            "  cls_confs = torch.nn.Softmax()(Variable(output[5:5+num_classes].transpose(0,1))).data\n"
          ]
        }
      ]
    },
    {
      "cell_type": "markdown",
      "source": [
        "### (2) Train patches\n",
        "Now we will train two patches by ourselves. One of the patches has a starter image as input and the other one is completely generated by our code. To do these, please \n",
        "\n",
        "\n",
        "*   Take a look at train_patch.py and edit the relevant code.\n",
        "*   Write a wrapped-up api for generating these two kinds of patches.\n",
        "*   Call the api to generate a with-starter-image patch and a without-starter-image patch.\n",
        "\n",
        "Please make sure to save these images since you need to use them in the next step."
      ],
      "metadata": {
        "id": "7E31o5roroyh"
      }
    },
    {
      "cell_type": "code",
      "source": [
        "def patch_training_caller(starter_img):\n",
        "  %run train_patch.py 'paper_obj' $starter_img"
      ],
      "metadata": {
        "id": "ZjXyqjr_s9ul"
      },
      "execution_count": null,
      "outputs": []
    },
    {
      "cell_type": "code",
      "source": [
        "patch_training_caller('patches/object_upper.jpg')"
      ],
      "metadata": {
        "id": "XviomW4ld-SK"
      },
      "execution_count": null,
      "outputs": []
    },
    {
      "cell_type": "code",
      "source": [
        "patch_training_caller('no')"
      ],
      "metadata": {
        "id": "1Agqq7SdeVBd"
      },
      "execution_count": null,
      "outputs": []
    },
    {
      "cell_type": "code",
      "source": [
        "%run train_patch.py paper_obj"
      ],
      "metadata": {
        "id": "fl-Tqv0btOOb",
        "colab": {
          "base_uri": "https://localhost:8080/"
        },
        "outputId": "6b893cec-4fd4-43a1-c4fd-3443e93b06d0"
      },
      "execution_count": null,
      "outputs": [
        {
          "metadata": {
            "tags": null
          },
          "name": "stdout",
          "output_type": "stream",
          "text": [
            "One epoch is 77\n"
          ]
        },
        {
          "metadata": {
            "tags": null
          },
          "name": "stderr",
          "output_type": "stream",
          "text": [
            "/usr/local/lib/python3.7/dist-packages/torch/utils/data/dataloader.py:490: UserWarning: This DataLoader will create 10 worker processes in total. Our suggested max number of worker in current system is 2, which is smaller than what this DataLoader is going to create. Please be aware that excessive worker creation might get DataLoader running slow or even freeze, lower the worker number to avoid potential slowness/freeze if necessary.\n",
            "  cpuset_checked))\n",
            "Running epoch 0:   0%|          | 0/77 [00:00<?, ?it/s]/content/drive/MyDrive/adversarial-yolo/train_patch.py:91: UserWarning: Anomaly Detection has been enabled. This mode will increase the runtime and should only be enabled for debugging.\n",
            "  with autograd.detect_anomaly():\n",
            "/usr/local/lib/python3.7/dist-packages/torch/nn/functional.py:4256: UserWarning: Default grid_sample and affine_grid behavior has changed to align_corners=False since 1.3.0. Please specify align_corners=True if the old behavior is desired. See the documentation of grid_sample for details.\n",
            "  \"Default grid_sample and affine_grid behavior has changed \"\n",
            "/usr/local/lib/python3.7/dist-packages/torch/nn/functional.py:4194: UserWarning: Default grid_sample and affine_grid behavior has changed to align_corners=False since 1.3.0. Please specify align_corners=True if the old behavior is desired. See the documentation of grid_sample for details.\n",
            "  \"Default grid_sample and affine_grid behavior has changed \"\n",
            "Running epoch 0: 100%|██████████| 77/77 [00:43<00:00,  2.33it/s]"
          ]
        },
        {
          "metadata": {
            "tags": null
          },
          "name": "stdout",
          "output_type": "stream",
          "text": [
            "\n",
            "\n"
          ]
        },
        {
          "metadata": {
            "tags": null
          },
          "name": "stderr",
          "output_type": "stream",
          "text": [
            "\rRunning epoch 0: 100%|██████████| 77/77 [00:43<00:00,  1.75it/s]"
          ]
        },
        {
          "metadata": {
            "tags": null
          },
          "name": "stdout",
          "output_type": "stream",
          "text": [
            "  EPOCH NR:  0\n",
            "EPOCH LOSS:  tensor(1.0189, device='cuda:0', grad_fn=<DivBackward0>)\n",
            "  DET LOSS:  0.718886220609987\n",
            "  NPS LOSS:  0.0005849992210807449\n",
            "   TV LOSS:  0.2993801652224033\n",
            "EPOCH TIME:  44.45975708961487\n"
          ]
        },
        {
          "metadata": {
            "tags": null
          },
          "name": "stderr",
          "output_type": "stream",
          "text": [
            "\n",
            "Running epoch 1: 100%|██████████| 77/77 [00:41<00:00,  2.27it/s]"
          ]
        },
        {
          "metadata": {
            "tags": null
          },
          "name": "stdout",
          "output_type": "stream",
          "text": [
            "\n",
            "\n"
          ]
        },
        {
          "metadata": {
            "tags": null
          },
          "name": "stderr",
          "output_type": "stream",
          "text": [
            "\rRunning epoch 1: 100%|██████████| 77/77 [00:41<00:00,  1.85it/s]"
          ]
        },
        {
          "metadata": {
            "tags": null
          },
          "name": "stdout",
          "output_type": "stream",
          "text": [
            "  EPOCH NR:  1\n",
            "EPOCH LOSS:  tensor(1.0920, device='cuda:0', grad_fn=<DivBackward0>)\n",
            "  DET LOSS:  0.7154908048642146\n",
            "  NPS LOSS:  0.0005893675896169788\n",
            "   TV LOSS:  0.37593444446464636\n",
            "EPOCH TIME:  42.1858696937561\n"
          ]
        },
        {
          "metadata": {
            "tags": null
          },
          "name": "stderr",
          "output_type": "stream",
          "text": [
            "\n",
            "Running epoch 2: 100%|██████████| 77/77 [00:41<00:00,  2.28it/s]"
          ]
        },
        {
          "metadata": {
            "tags": null
          },
          "name": "stdout",
          "output_type": "stream",
          "text": [
            "\n",
            "\n"
          ]
        },
        {
          "metadata": {
            "tags": null
          },
          "name": "stderr",
          "output_type": "stream",
          "text": [
            "\rRunning epoch 2: 100%|██████████| 77/77 [00:42<00:00,  1.83it/s]"
          ]
        },
        {
          "metadata": {
            "tags": null
          },
          "name": "stdout",
          "output_type": "stream",
          "text": [
            "  EPOCH NR:  2\n",
            "EPOCH LOSS:  tensor(1.1057, device='cuda:0', grad_fn=<DivBackward0>)\n",
            "  DET LOSS:  0.7146898554517077\n",
            "  NPS LOSS:  0.0005876001018982429\n",
            "   TV LOSS:  0.3904097076360281\n",
            "EPOCH TIME:  42.50148916244507\n"
          ]
        },
        {
          "metadata": {
            "tags": null
          },
          "name": "stderr",
          "output_type": "stream",
          "text": [
            "\n",
            "Running epoch 3: 100%|██████████| 77/77 [00:41<00:00,  2.29it/s]"
          ]
        },
        {
          "metadata": {
            "tags": null
          },
          "name": "stdout",
          "output_type": "stream",
          "text": [
            "\n",
            "\n"
          ]
        },
        {
          "metadata": {
            "tags": null
          },
          "name": "stderr",
          "output_type": "stream",
          "text": [
            "\rRunning epoch 3: 100%|██████████| 77/77 [00:42<00:00,  1.83it/s]"
          ]
        },
        {
          "metadata": {
            "tags": null
          },
          "name": "stdout",
          "output_type": "stream",
          "text": [
            "  EPOCH NR:  3\n",
            "EPOCH LOSS:  tensor(1.1185, device='cuda:0', grad_fn=<DivBackward0>)\n",
            "  DET LOSS:  0.7166452144647574\n",
            "  NPS LOSS:  0.000586986399630641\n",
            "   TV LOSS:  0.401245863019646\n",
            "EPOCH TIME:  42.63328814506531\n"
          ]
        },
        {
          "metadata": {
            "tags": null
          },
          "name": "stderr",
          "output_type": "stream",
          "text": [
            "\n",
            "Running epoch 4: 100%|██████████| 77/77 [00:41<00:00,  2.28it/s]"
          ]
        },
        {
          "metadata": {
            "tags": null
          },
          "name": "stdout",
          "output_type": "stream",
          "text": [
            "\n",
            "\n"
          ]
        },
        {
          "metadata": {
            "tags": null
          },
          "name": "stderr",
          "output_type": "stream",
          "text": [
            "\rRunning epoch 4: 100%|██████████| 77/77 [00:42<00:00,  1.83it/s]"
          ]
        },
        {
          "metadata": {
            "tags": null
          },
          "name": "stdout",
          "output_type": "stream",
          "text": [
            "  EPOCH NR:  4\n",
            "EPOCH LOSS:  tensor(1.1404, device='cuda:0', grad_fn=<DivBackward0>)\n",
            "  DET LOSS:  0.712179629059581\n",
            "  NPS LOSS:  0.0005958754215510441\n",
            "   TV LOSS:  0.42766753110018646\n",
            "EPOCH TIME:  42.64937138557434\n"
          ]
        },
        {
          "metadata": {
            "tags": null
          },
          "name": "stderr",
          "output_type": "stream",
          "text": [
            "\n",
            "Running epoch 5: 100%|██████████| 77/77 [00:41<00:00,  2.30it/s]"
          ]
        },
        {
          "metadata": {
            "tags": null
          },
          "name": "stdout",
          "output_type": "stream",
          "text": [
            "\n",
            "\n"
          ]
        },
        {
          "metadata": {
            "tags": null
          },
          "name": "stderr",
          "output_type": "stream",
          "text": [
            "\rRunning epoch 5: 100%|██████████| 77/77 [00:42<00:00,  1.83it/s]"
          ]
        },
        {
          "metadata": {
            "tags": null
          },
          "name": "stdout",
          "output_type": "stream",
          "text": [
            "  EPOCH NR:  5\n",
            "EPOCH LOSS:  tensor(1.1213, device='cuda:0', grad_fn=<DivBackward0>)\n",
            "  DET LOSS:  0.7089426935493172\n",
            "  NPS LOSS:  0.0005904095445445122\n",
            "   TV LOSS:  0.4117707470794777\n",
            "EPOCH TIME:  42.481815338134766\n"
          ]
        },
        {
          "metadata": {
            "tags": null
          },
          "name": "stderr",
          "output_type": "stream",
          "text": [
            "\n",
            "Running epoch 6: 100%|██████████| 77/77 [00:41<00:00,  2.29it/s]"
          ]
        },
        {
          "metadata": {
            "tags": null
          },
          "name": "stdout",
          "output_type": "stream",
          "text": [
            "\n",
            "\n"
          ]
        },
        {
          "metadata": {
            "tags": null
          },
          "name": "stderr",
          "output_type": "stream",
          "text": [
            "\rRunning epoch 6: 100%|██████████| 77/77 [00:42<00:00,  1.83it/s]"
          ]
        },
        {
          "metadata": {
            "tags": null
          },
          "name": "stdout",
          "output_type": "stream",
          "text": [
            "  EPOCH NR:  6\n",
            "EPOCH LOSS:  tensor(1.1408, device='cuda:0', grad_fn=<DivBackward0>)\n",
            "  DET LOSS:  0.7123611762926176\n",
            "  NPS LOSS:  0.0005927511805354001\n",
            "   TV LOSS:  0.42784832359908465\n",
            "EPOCH TIME:  42.481504917144775\n"
          ]
        },
        {
          "metadata": {
            "tags": null
          },
          "name": "stderr",
          "output_type": "stream",
          "text": [
            "\n",
            "Running epoch 7: 100%|██████████| 77/77 [00:41<00:00,  2.29it/s]"
          ]
        },
        {
          "metadata": {
            "tags": null
          },
          "name": "stdout",
          "output_type": "stream",
          "text": [
            "\n",
            "\n"
          ]
        },
        {
          "metadata": {
            "tags": null
          },
          "name": "stderr",
          "output_type": "stream",
          "text": [
            "\rRunning epoch 7: 100%|██████████| 77/77 [00:41<00:00,  1.84it/s]"
          ]
        },
        {
          "metadata": {
            "tags": null
          },
          "name": "stdout",
          "output_type": "stream",
          "text": [
            "  EPOCH NR:  7\n",
            "EPOCH LOSS:  tensor(1.1409, device='cuda:0', grad_fn=<DivBackward0>)\n",
            "  DET LOSS:  0.7109534539185561\n",
            "  NPS LOSS:  0.0005938060386650652\n",
            "   TV LOSS:  0.42932001685167287\n",
            "EPOCH TIME:  42.365275859832764\n"
          ]
        },
        {
          "metadata": {
            "tags": null
          },
          "name": "stderr",
          "output_type": "stream",
          "text": [
            "\n",
            "Running epoch 8: 100%|██████████| 77/77 [00:41<00:00,  2.29it/s]"
          ]
        },
        {
          "metadata": {
            "tags": null
          },
          "name": "stdout",
          "output_type": "stream",
          "text": [
            "\n",
            "\n"
          ]
        },
        {
          "metadata": {
            "tags": null
          },
          "name": "stderr",
          "output_type": "stream",
          "text": [
            "\rRunning epoch 8: 100%|██████████| 77/77 [00:41<00:00,  1.83it/s]"
          ]
        },
        {
          "metadata": {
            "tags": null
          },
          "name": "stdout",
          "output_type": "stream",
          "text": [
            "  EPOCH NR:  8\n",
            "EPOCH LOSS:  tensor(1.1262, device='cuda:0', grad_fn=<DivBackward0>)\n",
            "  DET LOSS:  0.7115769726889474\n",
            "  NPS LOSS:  0.000591404574270082\n",
            "   TV LOSS:  0.4139940974774299\n",
            "EPOCH TIME:  42.45814776420593\n"
          ]
        },
        {
          "metadata": {
            "tags": null
          },
          "name": "stderr",
          "output_type": "stream",
          "text": [
            "\n",
            "Running epoch 9: 100%|██████████| 77/77 [00:42<00:00,  2.28it/s]"
          ]
        },
        {
          "metadata": {
            "tags": null
          },
          "name": "stdout",
          "output_type": "stream",
          "text": [
            "\n",
            "\n"
          ]
        },
        {
          "metadata": {
            "tags": null
          },
          "name": "stderr",
          "output_type": "stream",
          "text": [
            "\rRunning epoch 9: 100%|██████████| 77/77 [00:42<00:00,  1.81it/s]"
          ]
        },
        {
          "metadata": {
            "tags": null
          },
          "name": "stdout",
          "output_type": "stream",
          "text": [
            "  EPOCH NR:  9\n",
            "EPOCH LOSS:  tensor(1.1164, device='cuda:0', grad_fn=<DivBackward0>)\n",
            "  DET LOSS:  0.707474918334515\n",
            "  NPS LOSS:  0.0005931782146141707\n",
            "   TV LOSS:  0.40838123954735794\n",
            "EPOCH TIME:  43.00382089614868\n"
          ]
        },
        {
          "metadata": {
            "tags": null
          },
          "name": "stderr",
          "output_type": "stream",
          "text": [
            "\n",
            "Running epoch 10: 100%|██████████| 77/77 [00:41<00:00,  2.28it/s]"
          ]
        },
        {
          "metadata": {
            "tags": null
          },
          "name": "stdout",
          "output_type": "stream",
          "text": [
            "\n",
            "\n"
          ]
        },
        {
          "metadata": {
            "tags": null
          },
          "name": "stderr",
          "output_type": "stream",
          "text": [
            "\rRunning epoch 10: 100%|██████████| 77/77 [00:42<00:00,  1.83it/s]"
          ]
        },
        {
          "metadata": {
            "tags": null
          },
          "name": "stdout",
          "output_type": "stream",
          "text": [
            "  EPOCH NR:  10\n",
            "EPOCH LOSS:  tensor(1.1391, device='cuda:0', grad_fn=<DivBackward0>)\n",
            "  DET LOSS:  0.7060174431119647\n",
            "  NPS LOSS:  0.0005981870427993792\n",
            "   TV LOSS:  0.4325234204917759\n",
            "EPOCH TIME:  42.46916890144348\n"
          ]
        },
        {
          "metadata": {
            "tags": null
          },
          "name": "stderr",
          "output_type": "stream",
          "text": [
            "\n",
            "Running epoch 11: 100%|██████████| 77/77 [00:42<00:00,  2.27it/s]"
          ]
        },
        {
          "metadata": {
            "tags": null
          },
          "name": "stdout",
          "output_type": "stream",
          "text": [
            "\n",
            "\n"
          ]
        },
        {
          "metadata": {
            "tags": null
          },
          "name": "stderr",
          "output_type": "stream",
          "text": [
            "\rRunning epoch 11: 100%|██████████| 77/77 [00:42<00:00,  1.81it/s]"
          ]
        },
        {
          "metadata": {
            "tags": null
          },
          "name": "stdout",
          "output_type": "stream",
          "text": [
            "  EPOCH NR:  11\n",
            "EPOCH LOSS:  tensor(1.1366, device='cuda:0', grad_fn=<DivBackward0>)\n",
            "  DET LOSS:  0.7026622891426086\n",
            "  NPS LOSS:  0.0005993187720826887\n",
            "   TV LOSS:  0.4332910764527011\n",
            "EPOCH TIME:  42.97332406044006\n"
          ]
        },
        {
          "metadata": {
            "tags": null
          },
          "name": "stderr",
          "output_type": "stream",
          "text": [
            "\n",
            "Running epoch 12: 100%|██████████| 77/77 [00:42<00:00,  2.29it/s]"
          ]
        },
        {
          "metadata": {
            "tags": null
          },
          "name": "stdout",
          "output_type": "stream",
          "text": [
            "\n",
            "\n"
          ]
        },
        {
          "metadata": {
            "tags": null
          },
          "name": "stderr",
          "output_type": "stream",
          "text": [
            "\rRunning epoch 12: 100%|██████████| 77/77 [00:42<00:00,  1.82it/s]"
          ]
        },
        {
          "metadata": {
            "tags": null
          },
          "name": "stdout",
          "output_type": "stream",
          "text": [
            "  EPOCH NR:  12\n",
            "EPOCH LOSS:  tensor(1.1300, device='cuda:0', grad_fn=<DivBackward0>)\n",
            "  DET LOSS:  0.7014006863940846\n",
            "  NPS LOSS:  0.000597107972550605\n",
            "   TV LOSS:  0.42803896363679467\n",
            "EPOCH TIME:  42.80940341949463\n"
          ]
        },
        {
          "metadata": {
            "tags": null
          },
          "name": "stderr",
          "output_type": "stream",
          "text": [
            "\n",
            "Running epoch 13: 100%|██████████| 77/77 [00:41<00:00,  2.31it/s]"
          ]
        },
        {
          "metadata": {
            "tags": null
          },
          "name": "stdout",
          "output_type": "stream",
          "text": [
            "\n",
            "\n"
          ]
        },
        {
          "metadata": {
            "tags": null
          },
          "name": "stderr",
          "output_type": "stream",
          "text": [
            "\rRunning epoch 13: 100%|██████████| 77/77 [00:42<00:00,  1.83it/s]"
          ]
        },
        {
          "metadata": {
            "tags": null
          },
          "name": "stdout",
          "output_type": "stream",
          "text": [
            "  EPOCH NR:  13\n",
            "EPOCH LOSS:  tensor(1.1114, device='cuda:0', grad_fn=<DivBackward0>)\n",
            "  DET LOSS:  0.7000917056938271\n",
            "  NPS LOSS:  0.0005963379003155929\n",
            "   TV LOSS:  0.4107472048951434\n",
            "EPOCH TIME:  42.64233660697937\n"
          ]
        },
        {
          "metadata": {
            "tags": null
          },
          "name": "stderr",
          "output_type": "stream",
          "text": [
            "\n",
            "Running epoch 14: 100%|██████████| 77/77 [00:42<00:00,  2.30it/s]"
          ]
        },
        {
          "metadata": {
            "tags": null
          },
          "name": "stdout",
          "output_type": "stream",
          "text": [
            "\n",
            "\n"
          ]
        },
        {
          "metadata": {
            "tags": null
          },
          "name": "stderr",
          "output_type": "stream",
          "text": [
            "\rRunning epoch 14: 100%|██████████| 77/77 [00:42<00:00,  1.82it/s]"
          ]
        },
        {
          "metadata": {
            "tags": null
          },
          "name": "stdout",
          "output_type": "stream",
          "text": [
            "  EPOCH NR:  14\n",
            "EPOCH LOSS:  tensor(1.1332, device='cuda:0', grad_fn=<DivBackward0>)\n",
            "  DET LOSS:  0.6993400671265342\n",
            "  NPS LOSS:  0.0005996105141707926\n",
            "   TV LOSS:  0.43327561098259765\n",
            "EPOCH TIME:  42.83932900428772\n"
          ]
        },
        {
          "metadata": {
            "tags": null
          },
          "name": "stderr",
          "output_type": "stream",
          "text": [
            "\n",
            "Running epoch 15: 100%|██████████| 77/77 [00:41<00:00,  2.30it/s]"
          ]
        },
        {
          "metadata": {
            "tags": null
          },
          "name": "stdout",
          "output_type": "stream",
          "text": [
            "\n",
            "\n"
          ]
        },
        {
          "metadata": {
            "tags": null
          },
          "name": "stderr",
          "output_type": "stream",
          "text": [
            "\rRunning epoch 15: 100%|██████████| 77/77 [00:42<00:00,  1.83it/s]"
          ]
        },
        {
          "metadata": {
            "tags": null
          },
          "name": "stdout",
          "output_type": "stream",
          "text": [
            "  EPOCH NR:  15\n",
            "EPOCH LOSS:  tensor(1.1179, device='cuda:0', grad_fn=<DivBackward0>)\n",
            "  DET LOSS:  0.6974578066305681\n",
            "  NPS LOSS:  0.0005935444156397376\n",
            "   TV LOSS:  0.41983643483805966\n",
            "EPOCH TIME:  42.55400013923645\n"
          ]
        },
        {
          "metadata": {
            "tags": null
          },
          "name": "stderr",
          "output_type": "stream",
          "text": [
            "\n",
            "Running epoch 16: 100%|██████████| 77/77 [00:42<00:00,  2.28it/s]"
          ]
        },
        {
          "metadata": {
            "tags": null
          },
          "name": "stdout",
          "output_type": "stream",
          "text": [
            "\n",
            "\n"
          ]
        },
        {
          "metadata": {
            "tags": null
          },
          "name": "stderr",
          "output_type": "stream",
          "text": [
            "\rRunning epoch 16: 100%|██████████| 77/77 [00:42<00:00,  1.82it/s]"
          ]
        },
        {
          "metadata": {
            "tags": null
          },
          "name": "stdout",
          "output_type": "stream",
          "text": [
            "  EPOCH NR:  16\n",
            "EPOCH LOSS:  tensor(1.1240, device='cuda:0', grad_fn=<DivBackward0>)\n",
            "  DET LOSS:  0.6978834751364472\n",
            "  NPS LOSS:  0.000595748782091375\n",
            "   TV LOSS:  0.425523152599087\n",
            "EPOCH TIME:  42.89514231681824\n"
          ]
        },
        {
          "metadata": {
            "tags": null
          },
          "name": "stderr",
          "output_type": "stream",
          "text": [
            "\n",
            "Running epoch 17: 100%|██████████| 77/77 [00:41<00:00,  2.29it/s]"
          ]
        },
        {
          "metadata": {
            "tags": null
          },
          "name": "stdout",
          "output_type": "stream",
          "text": [
            "\n",
            "\n"
          ]
        },
        {
          "metadata": {
            "tags": null
          },
          "name": "stderr",
          "output_type": "stream",
          "text": [
            "\rRunning epoch 17: 100%|██████████| 77/77 [00:42<00:00,  1.82it/s]"
          ]
        },
        {
          "metadata": {
            "tags": null
          },
          "name": "stdout",
          "output_type": "stream",
          "text": [
            "  EPOCH NR:  17\n",
            "EPOCH LOSS:  tensor(1.1435, device='cuda:0', grad_fn=<DivBackward0>)\n",
            "  DET LOSS:  0.6991124424067411\n",
            "  NPS LOSS:  0.0005999809499926768\n",
            "   TV LOSS:  0.44374707999167506\n",
            "EPOCH TIME:  42.6628155708313\n"
          ]
        },
        {
          "metadata": {
            "tags": null
          },
          "name": "stderr",
          "output_type": "stream",
          "text": [
            "\n",
            "Running epoch 18: 100%|██████████| 77/77 [00:42<00:00,  2.28it/s]"
          ]
        },
        {
          "metadata": {
            "tags": null
          },
          "name": "stdout",
          "output_type": "stream",
          "text": [
            "\n",
            "\n"
          ]
        },
        {
          "metadata": {
            "tags": null
          },
          "name": "stderr",
          "output_type": "stream",
          "text": [
            "\rRunning epoch 18: 100%|██████████| 77/77 [00:42<00:00,  1.82it/s]"
          ]
        },
        {
          "metadata": {
            "tags": null
          },
          "name": "stdout",
          "output_type": "stream",
          "text": [
            "  EPOCH NR:  18\n",
            "EPOCH LOSS:  tensor(1.1344, device='cuda:0', grad_fn=<DivBackward0>)\n",
            "  DET LOSS:  0.6955152370712974\n",
            "  NPS LOSS:  0.0005991579556547396\n",
            "   TV LOSS:  0.4383132585457393\n",
            "EPOCH TIME:  42.80231785774231\n"
          ]
        },
        {
          "metadata": {
            "tags": null
          },
          "name": "stderr",
          "output_type": "stream",
          "text": [
            "\n",
            "Running epoch 19: 100%|██████████| 77/77 [00:42<00:00,  2.29it/s]"
          ]
        },
        {
          "metadata": {
            "tags": null
          },
          "name": "stdout",
          "output_type": "stream",
          "text": [
            "\n",
            "\n"
          ]
        },
        {
          "metadata": {
            "tags": null
          },
          "name": "stderr",
          "output_type": "stream",
          "text": [
            "\rRunning epoch 19: 100%|██████████| 77/77 [00:42<00:00,  1.82it/s]"
          ]
        },
        {
          "metadata": {
            "tags": null
          },
          "name": "stdout",
          "output_type": "stream",
          "text": [
            "  EPOCH NR:  19\n",
            "EPOCH LOSS:  tensor(1.1607, device='cuda:0', grad_fn=<DivBackward0>)\n",
            "  DET LOSS:  0.6942750974134966\n",
            "  NPS LOSS:  0.0006076848405026287\n",
            "   TV LOSS:  0.4657920529315998\n",
            "EPOCH TIME:  42.823874711990356\n"
          ]
        },
        {
          "metadata": {
            "tags": null
          },
          "name": "stderr",
          "output_type": "stream",
          "text": [
            "\n",
            "Running epoch 20: 100%|██████████| 77/77 [00:41<00:00,  2.28it/s]"
          ]
        },
        {
          "metadata": {
            "tags": null
          },
          "name": "stdout",
          "output_type": "stream",
          "text": [
            "\n",
            "\n"
          ]
        },
        {
          "metadata": {
            "tags": null
          },
          "name": "stderr",
          "output_type": "stream",
          "text": [
            "\rRunning epoch 20: 100%|██████████| 77/77 [00:42<00:00,  1.82it/s]"
          ]
        },
        {
          "metadata": {
            "tags": null
          },
          "name": "stdout",
          "output_type": "stream",
          "text": [
            "  EPOCH NR:  20\n",
            "EPOCH LOSS:  tensor(1.1316, device='cuda:0', grad_fn=<DivBackward0>)\n",
            "  DET LOSS:  0.6940153094081135\n",
            "  NPS LOSS:  0.0006006781946166188\n",
            "   TV LOSS:  0.43702841153392546\n",
            "EPOCH TIME:  42.62458610534668\n"
          ]
        },
        {
          "metadata": {
            "tags": null
          },
          "name": "stderr",
          "output_type": "stream",
          "text": [
            "\n",
            "Running epoch 21: 100%|██████████| 77/77 [00:42<00:00,  2.25it/s]"
          ]
        },
        {
          "metadata": {
            "tags": null
          },
          "name": "stdout",
          "output_type": "stream",
          "text": [
            "\n",
            "\n"
          ]
        },
        {
          "metadata": {
            "tags": null
          },
          "name": "stderr",
          "output_type": "stream",
          "text": [
            "\rRunning epoch 21: 100%|██████████| 77/77 [00:42<00:00,  1.82it/s]"
          ]
        },
        {
          "metadata": {
            "tags": null
          },
          "name": "stdout",
          "output_type": "stream",
          "text": [
            "  EPOCH NR:  21\n",
            "EPOCH LOSS:  tensor(1.1292, device='cuda:0', grad_fn=<DivBackward0>)\n",
            "  DET LOSS:  0.6934615040754343\n",
            "  NPS LOSS:  0.0005993345002462337\n",
            "   TV LOSS:  0.43518241311048533\n",
            "EPOCH TIME:  42.78253149986267\n"
          ]
        },
        {
          "metadata": {
            "tags": null
          },
          "name": "stderr",
          "output_type": "stream",
          "text": [
            "\n",
            "Running epoch 22: 100%|██████████| 77/77 [00:41<00:00,  2.29it/s]"
          ]
        },
        {
          "metadata": {
            "tags": null
          },
          "name": "stdout",
          "output_type": "stream",
          "text": [
            "\n",
            "\n"
          ]
        },
        {
          "metadata": {
            "tags": null
          },
          "name": "stderr",
          "output_type": "stream",
          "text": [
            "\rRunning epoch 22: 100%|██████████| 77/77 [00:42<00:00,  1.83it/s]"
          ]
        },
        {
          "metadata": {
            "tags": null
          },
          "name": "stdout",
          "output_type": "stream",
          "text": [
            "  EPOCH NR:  22\n",
            "EPOCH LOSS:  tensor(1.1249, device='cuda:0', grad_fn=<DivBackward0>)\n",
            "  DET LOSS:  0.6901423830490607\n",
            "  NPS LOSS:  0.0005984779110166257\n",
            "   TV LOSS:  0.43420310144300583\n",
            "EPOCH TIME:  42.596760511398315\n"
          ]
        },
        {
          "metadata": {
            "tags": null
          },
          "name": "stderr",
          "output_type": "stream",
          "text": [
            "\n",
            "Running epoch 23: 100%|██████████| 77/77 [00:41<00:00,  2.30it/s]"
          ]
        },
        {
          "metadata": {
            "tags": null
          },
          "name": "stdout",
          "output_type": "stream",
          "text": [
            "\n",
            "\n"
          ]
        },
        {
          "metadata": {
            "tags": null
          },
          "name": "stderr",
          "output_type": "stream",
          "text": [
            "\rRunning epoch 23: 100%|██████████| 77/77 [00:42<00:00,  1.82it/s]"
          ]
        },
        {
          "metadata": {
            "tags": null
          },
          "name": "stdout",
          "output_type": "stream",
          "text": [
            "  EPOCH NR:  23\n",
            "EPOCH LOSS:  tensor(1.1211, device='cuda:0', grad_fn=<DivBackward0>)\n",
            "  DET LOSS:  0.6934269418964139\n",
            "  NPS LOSS:  0.0005986171180394466\n",
            "   TV LOSS:  0.42703716166607747\n",
            "EPOCH TIME:  42.68502950668335\n"
          ]
        },
        {
          "metadata": {
            "tags": null
          },
          "name": "stderr",
          "output_type": "stream",
          "text": [
            "\n",
            "Running epoch 24: 100%|██████████| 77/77 [00:42<00:00,  2.28it/s]"
          ]
        },
        {
          "metadata": {
            "tags": null
          },
          "name": "stdout",
          "output_type": "stream",
          "text": [
            "\n",
            "\n"
          ]
        },
        {
          "metadata": {
            "tags": null
          },
          "name": "stderr",
          "output_type": "stream",
          "text": [
            "\rRunning epoch 24: 100%|██████████| 77/77 [00:42<00:00,  1.82it/s]"
          ]
        },
        {
          "metadata": {
            "tags": null
          },
          "name": "stdout",
          "output_type": "stream",
          "text": [
            "  EPOCH NR:  24\n",
            "EPOCH LOSS:  tensor(1.1002, device='cuda:0', grad_fn=<DivBackward0>)\n",
            "  DET LOSS:  0.6929403226096909\n",
            "  NPS LOSS:  0.0005925642810278124\n",
            "   TV LOSS:  0.40668320268779606\n",
            "EPOCH TIME:  42.740236043930054\n"
          ]
        },
        {
          "metadata": {
            "tags": null
          },
          "name": "stderr",
          "output_type": "stream",
          "text": [
            "\n",
            "Running epoch 25: 100%|██████████| 77/77 [00:41<00:00,  2.28it/s]"
          ]
        },
        {
          "metadata": {
            "tags": null
          },
          "name": "stdout",
          "output_type": "stream",
          "text": [
            "\n",
            "\n"
          ]
        },
        {
          "metadata": {
            "tags": null
          },
          "name": "stderr",
          "output_type": "stream",
          "text": [
            "\rRunning epoch 25: 100%|██████████| 77/77 [00:42<00:00,  1.83it/s]"
          ]
        },
        {
          "metadata": {
            "tags": null
          },
          "name": "stdout",
          "output_type": "stream",
          "text": [
            "  EPOCH NR:  25\n",
            "EPOCH LOSS:  tensor(1.1159, device='cuda:0', grad_fn=<DivBackward0>)\n",
            "  DET LOSS:  0.6918475565972266\n",
            "  NPS LOSS:  0.0005950523191131651\n",
            "   TV LOSS:  0.42341130778386993\n",
            "EPOCH TIME:  42.58480453491211\n"
          ]
        },
        {
          "metadata": {
            "tags": null
          },
          "name": "stderr",
          "output_type": "stream",
          "text": [
            "\n",
            "Running epoch 26: 100%|██████████| 77/77 [00:41<00:00,  2.29it/s]"
          ]
        },
        {
          "metadata": {
            "tags": null
          },
          "name": "stdout",
          "output_type": "stream",
          "text": [
            "\n",
            "\n"
          ]
        },
        {
          "metadata": {
            "tags": null
          },
          "name": "stderr",
          "output_type": "stream",
          "text": [
            "\rRunning epoch 26: 100%|██████████| 77/77 [00:42<00:00,  1.83it/s]"
          ]
        },
        {
          "metadata": {
            "tags": null
          },
          "name": "stdout",
          "output_type": "stream",
          "text": [
            "  EPOCH NR:  26\n",
            "EPOCH LOSS:  tensor(1.1184, device='cuda:0', grad_fn=<DivBackward0>)\n",
            "  DET LOSS:  0.6888243323796756\n",
            "  NPS LOSS:  0.0005957236212629873\n",
            "   TV LOSS:  0.42897424411464047\n",
            "EPOCH TIME:  42.50456881523132\n"
          ]
        },
        {
          "metadata": {
            "tags": null
          },
          "name": "stderr",
          "output_type": "stream",
          "text": [
            "\n",
            "Running epoch 27: 100%|██████████| 77/77 [00:41<00:00,  2.27it/s]"
          ]
        },
        {
          "metadata": {
            "tags": null
          },
          "name": "stdout",
          "output_type": "stream",
          "text": [
            "\n",
            "\n"
          ]
        },
        {
          "metadata": {
            "tags": null
          },
          "name": "stderr",
          "output_type": "stream",
          "text": [
            "\rRunning epoch 27: 100%|██████████| 77/77 [00:42<00:00,  1.82it/s]"
          ]
        },
        {
          "metadata": {
            "tags": null
          },
          "name": "stdout",
          "output_type": "stream",
          "text": [
            "  EPOCH NR:  27\n",
            "EPOCH LOSS:  tensor(1.1074, device='cuda:0', grad_fn=<DivBackward0>)\n",
            "  DET LOSS:  0.6919639497608333\n",
            "  NPS LOSS:  0.0005957769190699056\n",
            "   TV LOSS:  0.41484062431694624\n",
            "EPOCH TIME:  42.67340803146362\n"
          ]
        },
        {
          "metadata": {
            "tags": null
          },
          "name": "stderr",
          "output_type": "stream",
          "text": [
            "\n",
            "Running epoch 28: 100%|██████████| 77/77 [00:41<00:00,  2.26it/s]"
          ]
        },
        {
          "metadata": {
            "tags": null
          },
          "name": "stdout",
          "output_type": "stream",
          "text": [
            "\n",
            "\n"
          ]
        },
        {
          "metadata": {
            "tags": null
          },
          "name": "stderr",
          "output_type": "stream",
          "text": [
            "\rRunning epoch 28: 100%|██████████| 77/77 [00:42<00:00,  1.83it/s]"
          ]
        },
        {
          "metadata": {
            "tags": null
          },
          "name": "stdout",
          "output_type": "stream",
          "text": [
            "  EPOCH NR:  28\n",
            "EPOCH LOSS:  tensor(1.1197, device='cuda:0', grad_fn=<DivBackward0>)\n",
            "  DET LOSS:  0.6891788886739062\n",
            "  NPS LOSS:  0.0005983594916881873\n",
            "   TV LOSS:  0.4299276014427086\n",
            "EPOCH TIME:  42.657799243927\n"
          ]
        },
        {
          "metadata": {
            "tags": null
          },
          "name": "stderr",
          "output_type": "stream",
          "text": [
            "\n",
            "Running epoch 29: 100%|██████████| 77/77 [00:42<00:00,  2.27it/s]"
          ]
        },
        {
          "metadata": {
            "tags": null
          },
          "name": "stdout",
          "output_type": "stream",
          "text": [
            "\n",
            "\n"
          ]
        },
        {
          "metadata": {
            "tags": null
          },
          "name": "stderr",
          "output_type": "stream",
          "text": [
            "\rRunning epoch 29: 100%|██████████| 77/77 [00:42<00:00,  1.82it/s]"
          ]
        },
        {
          "metadata": {
            "tags": null
          },
          "name": "stdout",
          "output_type": "stream",
          "text": [
            "  EPOCH NR:  29\n",
            "EPOCH LOSS:  tensor(1.1181, device='cuda:0', grad_fn=<DivBackward0>)\n",
            "  DET LOSS:  0.6871523957747918\n",
            "  NPS LOSS:  0.0005988257494150335\n",
            "   TV LOSS:  0.43034370030675617\n",
            "EPOCH TIME:  42.84492230415344\n"
          ]
        },
        {
          "metadata": {
            "tags": null
          },
          "name": "stderr",
          "output_type": "stream",
          "text": [
            "\n",
            "Running epoch 30: 100%|██████████| 77/77 [00:41<00:00,  2.28it/s]"
          ]
        },
        {
          "metadata": {
            "tags": null
          },
          "name": "stdout",
          "output_type": "stream",
          "text": [
            "\n",
            "\n"
          ]
        },
        {
          "metadata": {
            "tags": null
          },
          "name": "stderr",
          "output_type": "stream",
          "text": [
            "\rRunning epoch 30: 100%|██████████| 77/77 [00:41<00:00,  1.83it/s]"
          ]
        },
        {
          "metadata": {
            "tags": null
          },
          "name": "stdout",
          "output_type": "stream",
          "text": [
            "  EPOCH NR:  30\n",
            "EPOCH LOSS:  tensor(1.1333, device='cuda:0', grad_fn=<DivBackward0>)\n",
            "  DET LOSS:  0.6876497191268128\n",
            "  NPS LOSS:  0.0006050473682328382\n",
            "   TV LOSS:  0.44506401249340605\n",
            "EPOCH TIME:  42.45983290672302\n"
          ]
        },
        {
          "metadata": {
            "tags": null
          },
          "name": "stderr",
          "output_type": "stream",
          "text": [
            "\n",
            "Running epoch 31: 100%|██████████| 77/77 [00:41<00:00,  2.30it/s]"
          ]
        },
        {
          "metadata": {
            "tags": null
          },
          "name": "stdout",
          "output_type": "stream",
          "text": [
            "\n",
            "\n"
          ]
        },
        {
          "metadata": {
            "tags": null
          },
          "name": "stderr",
          "output_type": "stream",
          "text": [
            "\rRunning epoch 31: 100%|██████████| 77/77 [00:42<00:00,  1.83it/s]"
          ]
        },
        {
          "metadata": {
            "tags": null
          },
          "name": "stdout",
          "output_type": "stream",
          "text": [
            "  EPOCH NR:  31\n",
            "EPOCH LOSS:  tensor(1.1010, device='cuda:0', grad_fn=<DivBackward0>)\n",
            "  DET LOSS:  0.6883698113552936\n",
            "  NPS LOSS:  0.0005965403631910101\n",
            "   TV LOSS:  0.41206591276379373\n",
            "EPOCH TIME:  42.55588674545288\n"
          ]
        },
        {
          "metadata": {
            "tags": null
          },
          "name": "stderr",
          "output_type": "stream",
          "text": [
            "\n",
            "Running epoch 32: 100%|██████████| 77/77 [00:41<00:00,  2.27it/s]"
          ]
        },
        {
          "metadata": {
            "tags": null
          },
          "name": "stdout",
          "output_type": "stream",
          "text": [
            "\n",
            "\n"
          ]
        },
        {
          "metadata": {
            "tags": null
          },
          "name": "stderr",
          "output_type": "stream",
          "text": [
            "\rRunning epoch 32: 100%|██████████| 77/77 [00:42<00:00,  1.83it/s]"
          ]
        },
        {
          "metadata": {
            "tags": null
          },
          "name": "stdout",
          "output_type": "stream",
          "text": [
            "  EPOCH NR:  32\n",
            "EPOCH LOSS:  tensor(1.1295, device='cuda:0', grad_fn=<DivBackward0>)\n",
            "  DET LOSS:  0.6891484237336493\n",
            "  NPS LOSS:  0.0006037530951903432\n",
            "   TV LOSS:  0.4397179995264326\n",
            "EPOCH TIME:  42.58897352218628\n"
          ]
        },
        {
          "metadata": {
            "tags": null
          },
          "name": "stderr",
          "output_type": "stream",
          "text": [
            "\n",
            "Running epoch 33: 100%|██████████| 77/77 [00:42<00:00,  2.24it/s]"
          ]
        },
        {
          "metadata": {
            "tags": null
          },
          "name": "stdout",
          "output_type": "stream",
          "text": [
            "\n",
            "\n"
          ]
        },
        {
          "metadata": {
            "tags": null
          },
          "name": "stderr",
          "output_type": "stream",
          "text": [
            "\rRunning epoch 33: 100%|██████████| 77/77 [00:42<00:00,  1.82it/s]"
          ]
        },
        {
          "metadata": {
            "tags": null
          },
          "name": "stdout",
          "output_type": "stream",
          "text": [
            "  EPOCH NR:  33\n",
            "EPOCH LOSS:  tensor(1.0935, device='cuda:0', grad_fn=<DivBackward0>)\n",
            "  DET LOSS:  0.6884418555668422\n",
            "  NPS LOSS:  0.0005943124490947305\n",
            "   TV LOSS:  0.4044437907732926\n",
            "EPOCH TIME:  42.84887456893921\n"
          ]
        },
        {
          "metadata": {
            "tags": null
          },
          "name": "stderr",
          "output_type": "stream",
          "text": [
            "\n",
            "Running epoch 34: 100%|██████████| 77/77 [00:41<00:00,  2.29it/s]"
          ]
        },
        {
          "metadata": {
            "tags": null
          },
          "name": "stdout",
          "output_type": "stream",
          "text": [
            "\n",
            "\n"
          ]
        },
        {
          "metadata": {
            "tags": null
          },
          "name": "stderr",
          "output_type": "stream",
          "text": [
            "\rRunning epoch 34: 100%|██████████| 77/77 [00:42<00:00,  1.83it/s]"
          ]
        },
        {
          "metadata": {
            "tags": null
          },
          "name": "stdout",
          "output_type": "stream",
          "text": [
            "  EPOCH NR:  34\n",
            "EPOCH LOSS:  tensor(1.1169, device='cuda:0', grad_fn=<DivBackward0>)\n",
            "  DET LOSS:  0.6871954233615429\n",
            "  NPS LOSS:  0.0006026165414746706\n",
            "   TV LOSS:  0.42909074448919915\n",
            "EPOCH TIME:  42.66796517372131\n"
          ]
        },
        {
          "metadata": {
            "tags": null
          },
          "name": "stderr",
          "output_type": "stream",
          "text": [
            "\n",
            "Running epoch 35: 100%|██████████| 77/77 [00:41<00:00,  2.25it/s]"
          ]
        },
        {
          "metadata": {
            "tags": null
          },
          "name": "stdout",
          "output_type": "stream",
          "text": [
            "\n",
            "\n"
          ]
        },
        {
          "metadata": {
            "tags": null
          },
          "name": "stderr",
          "output_type": "stream",
          "text": [
            "\rRunning epoch 35: 100%|██████████| 77/77 [00:42<00:00,  1.83it/s]"
          ]
        },
        {
          "metadata": {
            "tags": null
          },
          "name": "stdout",
          "output_type": "stream",
          "text": [
            "  EPOCH NR:  35\n",
            "EPOCH LOSS:  tensor(1.1194, device='cuda:0', grad_fn=<DivBackward0>)\n",
            "  DET LOSS:  0.6878698530135217\n",
            "  NPS LOSS:  0.0006029210537188238\n",
            "   TV LOSS:  0.4308859853001384\n",
            "EPOCH TIME:  42.55632495880127\n"
          ]
        },
        {
          "metadata": {
            "tags": null
          },
          "name": "stderr",
          "output_type": "stream",
          "text": [
            "\n",
            "Running epoch 36: 100%|██████████| 77/77 [00:41<00:00,  2.29it/s]"
          ]
        },
        {
          "metadata": {
            "tags": null
          },
          "name": "stdout",
          "output_type": "stream",
          "text": [
            "\n",
            "\n"
          ]
        },
        {
          "metadata": {
            "tags": null
          },
          "name": "stderr",
          "output_type": "stream",
          "text": [
            "\rRunning epoch 36: 100%|██████████| 77/77 [00:41<00:00,  1.83it/s]"
          ]
        },
        {
          "metadata": {
            "tags": null
          },
          "name": "stdout",
          "output_type": "stream",
          "text": [
            "  EPOCH NR:  36\n",
            "EPOCH LOSS:  tensor(1.0917, device='cuda:0', grad_fn=<DivBackward0>)\n",
            "  DET LOSS:  0.686928328755614\n",
            "  NPS LOSS:  0.0005990827710113742\n",
            "   TV LOSS:  0.4041531569771952\n",
            "EPOCH TIME:  42.49225902557373\n"
          ]
        },
        {
          "metadata": {
            "tags": null
          },
          "name": "stderr",
          "output_type": "stream",
          "text": [
            "\n",
            "Running epoch 37: 100%|██████████| 77/77 [00:41<00:00,  2.28it/s]"
          ]
        },
        {
          "metadata": {
            "tags": null
          },
          "name": "stdout",
          "output_type": "stream",
          "text": [
            "\n",
            "\n"
          ]
        },
        {
          "metadata": {
            "tags": null
          },
          "name": "stderr",
          "output_type": "stream",
          "text": [
            "\rRunning epoch 37: 100%|██████████| 77/77 [00:42<00:00,  1.82it/s]"
          ]
        },
        {
          "metadata": {
            "tags": null
          },
          "name": "stdout",
          "output_type": "stream",
          "text": [
            "  EPOCH NR:  37\n",
            "EPOCH LOSS:  tensor(1.1218, device='cuda:0', grad_fn=<DivBackward0>)\n",
            "  DET LOSS:  0.6846658107522247\n",
            "  NPS LOSS:  0.0006088943163223274\n",
            "   TV LOSS:  0.43654193080864945\n",
            "EPOCH TIME:  42.749711990356445\n"
          ]
        },
        {
          "metadata": {
            "tags": null
          },
          "name": "stderr",
          "output_type": "stream",
          "text": [
            "\n",
            "Running epoch 38: 100%|██████████| 77/77 [00:42<00:00,  2.28it/s]"
          ]
        },
        {
          "metadata": {
            "tags": null
          },
          "name": "stdout",
          "output_type": "stream",
          "text": [
            "\n",
            "\n"
          ]
        },
        {
          "metadata": {
            "tags": null
          },
          "name": "stderr",
          "output_type": "stream",
          "text": [
            "\rRunning epoch 38: 100%|██████████| 77/77 [00:42<00:00,  1.82it/s]"
          ]
        },
        {
          "metadata": {
            "tags": null
          },
          "name": "stdout",
          "output_type": "stream",
          "text": [
            "  EPOCH NR:  38\n",
            "EPOCH LOSS:  tensor(1.0849, device='cuda:0', grad_fn=<DivBackward0>)\n",
            "  DET LOSS:  0.6877982500311616\n",
            "  NPS LOSS:  0.0006024913005107505\n",
            "   TV LOSS:  0.39647681488619224\n",
            "EPOCH TIME:  42.74116396903992\n"
          ]
        },
        {
          "metadata": {
            "tags": null
          },
          "name": "stderr",
          "output_type": "stream",
          "text": [
            "\n",
            "Running epoch 39: 100%|██████████| 77/77 [00:41<00:00,  2.29it/s]"
          ]
        },
        {
          "metadata": {
            "tags": null
          },
          "name": "stdout",
          "output_type": "stream",
          "text": [
            "\n",
            "\n"
          ]
        },
        {
          "metadata": {
            "tags": null
          },
          "name": "stderr",
          "output_type": "stream",
          "text": [
            "\rRunning epoch 39: 100%|██████████| 77/77 [00:42<00:00,  1.82it/s]"
          ]
        },
        {
          "metadata": {
            "tags": null
          },
          "name": "stdout",
          "output_type": "stream",
          "text": [
            "  EPOCH NR:  39\n",
            "EPOCH LOSS:  tensor(1.0708, device='cuda:0', grad_fn=<DivBackward0>)\n",
            "  DET LOSS:  0.6854096898784885\n",
            "  NPS LOSS:  0.0005979640046497444\n",
            "   TV LOSS:  0.38484189494863735\n",
            "EPOCH TIME:  42.72116422653198\n"
          ]
        },
        {
          "metadata": {
            "tags": null
          },
          "name": "stderr",
          "output_type": "stream",
          "text": [
            "\n",
            "Running epoch 40: 100%|██████████| 77/77 [00:42<00:00,  2.25it/s]"
          ]
        },
        {
          "metadata": {
            "tags": null
          },
          "name": "stdout",
          "output_type": "stream",
          "text": [
            "\n",
            "\n"
          ]
        },
        {
          "metadata": {
            "tags": null
          },
          "name": "stderr",
          "output_type": "stream",
          "text": [
            "\rRunning epoch 40: 100%|██████████| 77/77 [00:42<00:00,  1.82it/s]"
          ]
        },
        {
          "metadata": {
            "tags": null
          },
          "name": "stdout",
          "output_type": "stream",
          "text": [
            "  EPOCH NR:  40\n",
            "EPOCH LOSS:  tensor(1.0873, device='cuda:0', grad_fn=<DivBackward0>)\n",
            "  DET LOSS:  0.6884316012456819\n",
            "  NPS LOSS:  0.0006024859317989608\n",
            "   TV LOSS:  0.3982450060256116\n",
            "EPOCH TIME:  42.861268281936646\n"
          ]
        },
        {
          "metadata": {
            "tags": null
          },
          "name": "stderr",
          "output_type": "stream",
          "text": [
            "\n",
            "Running epoch 41: 100%|██████████| 77/77 [00:41<00:00,  2.27it/s]"
          ]
        },
        {
          "metadata": {
            "tags": null
          },
          "name": "stdout",
          "output_type": "stream",
          "text": [
            "\n",
            "\n"
          ]
        },
        {
          "metadata": {
            "tags": null
          },
          "name": "stderr",
          "output_type": "stream",
          "text": [
            "\rRunning epoch 41: 100%|██████████| 77/77 [00:41<00:00,  1.83it/s]"
          ]
        },
        {
          "metadata": {
            "tags": null
          },
          "name": "stdout",
          "output_type": "stream",
          "text": [
            "  EPOCH NR:  41\n",
            "EPOCH LOSS:  tensor(1.0801, device='cuda:0', grad_fn=<DivBackward0>)\n",
            "  DET LOSS:  0.6872785145586188\n",
            "  NPS LOSS:  0.0005969050969299558\n",
            "   TV LOSS:  0.3922625474341504\n",
            "EPOCH TIME:  42.474632263183594\n"
          ]
        },
        {
          "metadata": {
            "tags": null
          },
          "name": "stderr",
          "output_type": "stream",
          "text": [
            "\n",
            "Running epoch 42: 100%|██████████| 77/77 [00:41<00:00,  2.28it/s]"
          ]
        },
        {
          "metadata": {
            "tags": null
          },
          "name": "stdout",
          "output_type": "stream",
          "text": [
            "\n",
            "\n"
          ]
        },
        {
          "metadata": {
            "tags": null
          },
          "name": "stderr",
          "output_type": "stream",
          "text": [
            "\rRunning epoch 42: 100%|██████████| 77/77 [00:41<00:00,  1.84it/s]"
          ]
        },
        {
          "metadata": {
            "tags": null
          },
          "name": "stdout",
          "output_type": "stream",
          "text": [
            "  EPOCH NR:  42\n",
            "EPOCH LOSS:  tensor(1.1100, device='cuda:0', grad_fn=<DivBackward0>)\n",
            "  DET LOSS:  0.6850815856611574\n",
            "  NPS LOSS:  0.0006052133764817634\n",
            "   TV LOSS:  0.4243266779881019\n",
            "EPOCH TIME:  42.44223213195801\n"
          ]
        },
        {
          "metadata": {
            "tags": null
          },
          "name": "stderr",
          "output_type": "stream",
          "text": [
            "\n",
            "Running epoch 43: 100%|██████████| 77/77 [00:41<00:00,  2.22it/s]"
          ]
        },
        {
          "metadata": {
            "tags": null
          },
          "name": "stdout",
          "output_type": "stream",
          "text": [
            "\n",
            "\n"
          ]
        },
        {
          "metadata": {
            "tags": null
          },
          "name": "stderr",
          "output_type": "stream",
          "text": [
            "\rRunning epoch 43: 100%|██████████| 77/77 [00:42<00:00,  1.82it/s]"
          ]
        },
        {
          "metadata": {
            "tags": null
          },
          "name": "stdout",
          "output_type": "stream",
          "text": [
            "  EPOCH NR:  43\n",
            "EPOCH LOSS:  tensor(1.0993, device='cuda:0', grad_fn=<DivBackward0>)\n",
            "  DET LOSS:  0.6824777149534845\n",
            "  NPS LOSS:  0.0006064401777739358\n",
            "   TV LOSS:  0.4162163579618776\n",
            "EPOCH TIME:  42.723191022872925\n"
          ]
        },
        {
          "metadata": {
            "tags": null
          },
          "name": "stderr",
          "output_type": "stream",
          "text": [
            "\n",
            "Running epoch 44: 100%|██████████| 77/77 [00:42<00:00,  2.29it/s]"
          ]
        },
        {
          "metadata": {
            "tags": null
          },
          "name": "stdout",
          "output_type": "stream",
          "text": [
            "\n",
            "\n"
          ]
        },
        {
          "metadata": {
            "tags": null
          },
          "name": "stderr",
          "output_type": "stream",
          "text": [
            "\rRunning epoch 44: 100%|██████████| 77/77 [00:42<00:00,  1.82it/s]"
          ]
        },
        {
          "metadata": {
            "tags": null
          },
          "name": "stdout",
          "output_type": "stream",
          "text": [
            "  EPOCH NR:  44\n",
            "EPOCH LOSS:  tensor(1.0939, device='cuda:0', grad_fn=<DivBackward0>)\n",
            "  DET LOSS:  0.6851964120741014\n",
            "  NPS LOSS:  0.0006012351345875627\n",
            "   TV LOSS:  0.40810357905053474\n",
            "EPOCH TIME:  42.77856373786926\n"
          ]
        },
        {
          "metadata": {
            "tags": null
          },
          "name": "stderr",
          "output_type": "stream",
          "text": [
            "\n",
            "Running epoch 45: 100%|██████████| 77/77 [00:41<00:00,  2.28it/s]"
          ]
        },
        {
          "metadata": {
            "tags": null
          },
          "name": "stdout",
          "output_type": "stream",
          "text": [
            "\n",
            "\n"
          ]
        },
        {
          "metadata": {
            "tags": null
          },
          "name": "stderr",
          "output_type": "stream",
          "text": [
            "\rRunning epoch 45: 100%|██████████| 77/77 [00:42<00:00,  1.83it/s]"
          ]
        },
        {
          "metadata": {
            "tags": null
          },
          "name": "stdout",
          "output_type": "stream",
          "text": [
            "  EPOCH NR:  45\n",
            "EPOCH LOSS:  tensor(1.0705, device='cuda:0', grad_fn=<DivBackward0>)\n",
            "  DET LOSS:  0.6840659457367736\n",
            "  NPS LOSS:  0.0005959194983573413\n",
            "   TV LOSS:  0.38587962381251445\n",
            "EPOCH TIME:  42.57288360595703\n"
          ]
        },
        {
          "metadata": {
            "tags": null
          },
          "name": "stderr",
          "output_type": "stream",
          "text": [
            "\n",
            "Running epoch 46: 100%|██████████| 77/77 [00:41<00:00,  2.27it/s]"
          ]
        },
        {
          "metadata": {
            "tags": null
          },
          "name": "stdout",
          "output_type": "stream",
          "text": [
            "\n",
            "\n"
          ]
        },
        {
          "metadata": {
            "tags": null
          },
          "name": "stderr",
          "output_type": "stream",
          "text": [
            "\rRunning epoch 46: 100%|██████████| 77/77 [00:42<00:00,  1.83it/s]"
          ]
        },
        {
          "metadata": {
            "tags": null
          },
          "name": "stdout",
          "output_type": "stream",
          "text": [
            "  EPOCH NR:  46\n",
            "EPOCH LOSS:  tensor(1.0997, device='cuda:0', grad_fn=<DivBackward0>)\n",
            "  DET LOSS:  0.6820129744418255\n",
            "  NPS LOSS:  0.0006028521615503864\n",
            "   TV LOSS:  0.41709309622838897\n",
            "EPOCH TIME:  42.55400633811951\n"
          ]
        },
        {
          "metadata": {
            "tags": null
          },
          "name": "stderr",
          "output_type": "stream",
          "text": [
            "\n",
            "Running epoch 47: 100%|██████████| 77/77 [00:41<00:00,  2.29it/s]"
          ]
        },
        {
          "metadata": {
            "tags": null
          },
          "name": "stdout",
          "output_type": "stream",
          "text": [
            "\n",
            "\n"
          ]
        },
        {
          "metadata": {
            "tags": null
          },
          "name": "stderr",
          "output_type": "stream",
          "text": [
            "\rRunning epoch 47: 100%|██████████| 77/77 [00:42<00:00,  1.82it/s]"
          ]
        },
        {
          "metadata": {
            "tags": null
          },
          "name": "stdout",
          "output_type": "stream",
          "text": [
            "  EPOCH NR:  47\n",
            "EPOCH LOSS:  tensor(1.0830, device='cuda:0', grad_fn=<DivBackward0>)\n",
            "  DET LOSS:  0.684060715235673\n",
            "  NPS LOSS:  0.0005997127835191303\n",
            "   TV LOSS:  0.39833351350449897\n",
            "EPOCH TIME:  42.6998724937439\n"
          ]
        },
        {
          "metadata": {
            "tags": null
          },
          "name": "stderr",
          "output_type": "stream",
          "text": [
            "\n",
            "Running epoch 48: 100%|██████████| 77/77 [00:42<00:00,  2.27it/s]"
          ]
        },
        {
          "metadata": {
            "tags": null
          },
          "name": "stdout",
          "output_type": "stream",
          "text": [
            "\n",
            "\n"
          ]
        },
        {
          "metadata": {
            "tags": null
          },
          "name": "stderr",
          "output_type": "stream",
          "text": [
            "\rRunning epoch 48: 100%|██████████| 77/77 [00:42<00:00,  1.82it/s]"
          ]
        },
        {
          "metadata": {
            "tags": null
          },
          "name": "stdout",
          "output_type": "stream",
          "text": [
            "  EPOCH NR:  48\n",
            "EPOCH LOSS:  tensor(1.0623, device='cuda:0', grad_fn=<DivBackward0>)\n",
            "  DET LOSS:  0.6836950151951282\n",
            "  NPS LOSS:  0.0005930196115892236\n",
            "   TV LOSS:  0.378048389763027\n",
            "EPOCH TIME:  42.85073804855347\n"
          ]
        },
        {
          "metadata": {
            "tags": null
          },
          "name": "stderr",
          "output_type": "stream",
          "text": [
            "\n",
            "Running epoch 49: 100%|██████████| 77/77 [00:42<00:00,  2.29it/s]"
          ]
        },
        {
          "metadata": {
            "tags": null
          },
          "name": "stdout",
          "output_type": "stream",
          "text": [
            "\n",
            "\n"
          ]
        },
        {
          "metadata": {
            "tags": null
          },
          "name": "stderr",
          "output_type": "stream",
          "text": [
            "\rRunning epoch 49: 100%|██████████| 77/77 [00:42<00:00,  1.81it/s]"
          ]
        },
        {
          "metadata": {
            "tags": null
          },
          "name": "stdout",
          "output_type": "stream",
          "text": [
            "  EPOCH NR:  49\n",
            "EPOCH LOSS:  tensor(1.0825, device='cuda:0', grad_fn=<DivBackward0>)\n",
            "  DET LOSS:  0.6864390342266529\n",
            "  NPS LOSS:  0.0005965126147675147\n",
            "   TV LOSS:  0.3954169781177075\n",
            "EPOCH TIME:  43.12521457672119\n"
          ]
        },
        {
          "metadata": {
            "tags": null
          },
          "name": "stderr",
          "output_type": "stream",
          "text": [
            "\n",
            "Running epoch 50: 100%|██████████| 77/77 [00:41<00:00,  2.30it/s]"
          ]
        },
        {
          "metadata": {
            "tags": null
          },
          "name": "stdout",
          "output_type": "stream",
          "text": [
            "\n",
            "\n"
          ]
        },
        {
          "metadata": {
            "tags": null
          },
          "name": "stderr",
          "output_type": "stream",
          "text": [
            "\rRunning epoch 50: 100%|██████████| 77/77 [00:42<00:00,  1.83it/s]"
          ]
        },
        {
          "metadata": {
            "tags": null
          },
          "name": "stdout",
          "output_type": "stream",
          "text": [
            "  EPOCH NR:  50\n",
            "EPOCH LOSS:  tensor(1.0674, device='cuda:0', grad_fn=<DivBackward0>)\n",
            "  DET LOSS:  0.685160088848758\n",
            "  NPS LOSS:  0.0005958348205736415\n",
            "   TV LOSS:  0.38167395297583045\n",
            "EPOCH TIME:  42.61945128440857\n"
          ]
        },
        {
          "metadata": {
            "tags": null
          },
          "name": "stderr",
          "output_type": "stream",
          "text": [
            "\n",
            "Running epoch 51: 100%|██████████| 77/77 [00:42<00:00,  2.27it/s]"
          ]
        },
        {
          "metadata": {
            "tags": null
          },
          "name": "stdout",
          "output_type": "stream",
          "text": [
            "\n",
            "\n"
          ]
        },
        {
          "metadata": {
            "tags": null
          },
          "name": "stderr",
          "output_type": "stream",
          "text": [
            "\rRunning epoch 51: 100%|██████████| 77/77 [00:42<00:00,  1.82it/s]"
          ]
        },
        {
          "metadata": {
            "tags": null
          },
          "name": "stdout",
          "output_type": "stream",
          "text": [
            "  EPOCH NR:  51\n",
            "EPOCH LOSS:  tensor(1.0794, device='cuda:0', grad_fn=<DivBackward0>)\n",
            "  DET LOSS:  0.682318292654954\n",
            "  NPS LOSS:  0.0006012796505971195\n",
            "   TV LOSS:  0.396492796671855\n",
            "EPOCH TIME:  42.788209438323975\n"
          ]
        },
        {
          "metadata": {
            "tags": null
          },
          "name": "stderr",
          "output_type": "stream",
          "text": [
            "\n",
            "Running epoch 52: 100%|██████████| 77/77 [00:42<00:00,  2.27it/s]"
          ]
        },
        {
          "metadata": {
            "tags": null
          },
          "name": "stdout",
          "output_type": "stream",
          "text": [
            "\n",
            "\n"
          ]
        },
        {
          "metadata": {
            "tags": null
          },
          "name": "stderr",
          "output_type": "stream",
          "text": [
            "\rRunning epoch 52: 100%|██████████| 77/77 [00:42<00:00,  1.82it/s]"
          ]
        },
        {
          "metadata": {
            "tags": null
          },
          "name": "stdout",
          "output_type": "stream",
          "text": [
            "  EPOCH NR:  52\n",
            "EPOCH LOSS:  tensor(1.0252, device='cuda:0', grad_fn=<DivBackward0>)\n",
            "  DET LOSS:  0.6829572552210325\n",
            "  NPS LOSS:  0.0005942651685992521\n",
            "   TV LOSS:  0.34165123105049133\n",
            "EPOCH TIME:  42.81516623497009\n"
          ]
        },
        {
          "metadata": {
            "tags": null
          },
          "name": "stderr",
          "output_type": "stream",
          "text": [
            "\n",
            "Running epoch 53: 100%|██████████| 77/77 [00:42<00:00,  2.28it/s]"
          ]
        },
        {
          "metadata": {
            "tags": null
          },
          "name": "stdout",
          "output_type": "stream",
          "text": [
            "\n",
            "\n"
          ]
        },
        {
          "metadata": {
            "tags": null
          },
          "name": "stderr",
          "output_type": "stream",
          "text": [
            "\rRunning epoch 53: 100%|██████████| 77/77 [00:42<00:00,  1.82it/s]"
          ]
        },
        {
          "metadata": {
            "tags": null
          },
          "name": "stdout",
          "output_type": "stream",
          "text": [
            "  EPOCH NR:  53\n",
            "EPOCH LOSS:  tensor(0.9299, device='cuda:0', grad_fn=<DivBackward0>)\n",
            "  DET LOSS:  0.6820759130762769\n",
            "  NPS LOSS:  0.0005755261351753559\n",
            "   TV LOSS:  0.2472641204858755\n",
            "EPOCH TIME:  42.804126024246216\n"
          ]
        },
        {
          "metadata": {
            "tags": null
          },
          "name": "stderr",
          "output_type": "stream",
          "text": [
            "\n",
            "Running epoch 54: 100%|██████████| 77/77 [00:41<00:00,  2.29it/s]"
          ]
        },
        {
          "metadata": {
            "tags": null
          },
          "name": "stdout",
          "output_type": "stream",
          "text": [
            "\n",
            "\n"
          ]
        },
        {
          "metadata": {
            "tags": null
          },
          "name": "stderr",
          "output_type": "stream",
          "text": [
            "\rRunning epoch 54: 100%|██████████| 77/77 [00:41<00:00,  1.84it/s]"
          ]
        },
        {
          "metadata": {
            "tags": null
          },
          "name": "stdout",
          "output_type": "stream",
          "text": [
            "  EPOCH NR:  54\n",
            "EPOCH LOSS:  tensor(0.8781, device='cuda:0', grad_fn=<DivBackward0>)\n",
            "  DET LOSS:  0.6811827614709929\n",
            "  NPS LOSS:  0.0005655945006564453\n",
            "   TV LOSS:  0.19633574899914977\n",
            "EPOCH TIME:  42.25556206703186\n"
          ]
        },
        {
          "metadata": {
            "tags": null
          },
          "name": "stderr",
          "output_type": "stream",
          "text": [
            "\n",
            "Running epoch 55: 100%|██████████| 77/77 [00:41<00:00,  2.29it/s]"
          ]
        },
        {
          "metadata": {
            "tags": null
          },
          "name": "stdout",
          "output_type": "stream",
          "text": [
            "\n",
            "\n"
          ]
        },
        {
          "metadata": {
            "tags": null
          },
          "name": "stderr",
          "output_type": "stream",
          "text": [
            "\rRunning epoch 55: 100%|██████████| 77/77 [00:42<00:00,  1.83it/s]"
          ]
        },
        {
          "metadata": {
            "tags": null
          },
          "name": "stdout",
          "output_type": "stream",
          "text": [
            "  EPOCH NR:  55\n",
            "EPOCH LOSS:  tensor(0.8453, device='cuda:0', grad_fn=<DivBackward0>)\n",
            "  DET LOSS:  0.6798316108715998\n",
            "  NPS LOSS:  0.0005597459233982803\n",
            "   TV LOSS:  0.1649371228821866\n",
            "EPOCH TIME:  42.65786099433899\n"
          ]
        },
        {
          "metadata": {
            "tags": null
          },
          "name": "stderr",
          "output_type": "stream",
          "text": [
            "\n",
            "Running epoch 56: 100%|██████████| 77/77 [00:41<00:00,  2.23it/s]"
          ]
        },
        {
          "metadata": {
            "tags": null
          },
          "name": "stdout",
          "output_type": "stream",
          "text": [
            "\n",
            "\n"
          ]
        },
        {
          "metadata": {
            "tags": null
          },
          "name": "stderr",
          "output_type": "stream",
          "text": [
            "\rRunning epoch 56: 100%|██████████| 77/77 [00:41<00:00,  1.84it/s]"
          ]
        },
        {
          "metadata": {
            "tags": null
          },
          "name": "stdout",
          "output_type": "stream",
          "text": [
            "  EPOCH NR:  56\n",
            "EPOCH LOSS:  tensor(0.8257, device='cuda:0', grad_fn=<DivBackward0>)\n",
            "  DET LOSS:  0.6791393478195389\n",
            "  NPS LOSS:  0.0005555891593640017\n",
            "   TV LOSS:  0.14597117707326815\n",
            "EPOCH TIME:  42.47613048553467\n"
          ]
        },
        {
          "metadata": {
            "tags": null
          },
          "name": "stderr",
          "output_type": "stream",
          "text": [
            "\n",
            "Running epoch 57: 100%|██████████| 77/77 [00:41<00:00,  2.30it/s]"
          ]
        },
        {
          "metadata": {
            "tags": null
          },
          "name": "stdout",
          "output_type": "stream",
          "text": [
            "\n",
            "\n"
          ]
        },
        {
          "metadata": {
            "tags": null
          },
          "name": "stderr",
          "output_type": "stream",
          "text": [
            "\rRunning epoch 57: 100%|██████████| 77/77 [00:42<00:00,  1.82it/s]"
          ]
        },
        {
          "metadata": {
            "tags": null
          },
          "name": "stdout",
          "output_type": "stream",
          "text": [
            "  EPOCH NR:  57\n",
            "EPOCH LOSS:  tensor(0.8147, device='cuda:0', grad_fn=<DivBackward0>)\n",
            "  DET LOSS:  0.6809980853811487\n",
            "  NPS LOSS:  0.0005517732125235262\n",
            "   TV LOSS:  0.13312576614417038\n",
            "EPOCH TIME:  42.76037073135376\n"
          ]
        },
        {
          "metadata": {
            "tags": null
          },
          "name": "stderr",
          "output_type": "stream",
          "text": [
            "\n",
            "Running epoch 58: 100%|██████████| 77/77 [00:41<00:00,  2.25it/s]"
          ]
        },
        {
          "metadata": {
            "tags": null
          },
          "name": "stdout",
          "output_type": "stream",
          "text": [
            "\n",
            "\n"
          ]
        },
        {
          "metadata": {
            "tags": null
          },
          "name": "stderr",
          "output_type": "stream",
          "text": [
            "\rRunning epoch 58: 100%|██████████| 77/77 [00:42<00:00,  1.83it/s]"
          ]
        },
        {
          "metadata": {
            "tags": null
          },
          "name": "stdout",
          "output_type": "stream",
          "text": [
            "  EPOCH NR:  58\n",
            "EPOCH LOSS:  tensor(0.8043, device='cuda:0', grad_fn=<DivBackward0>)\n",
            "  DET LOSS:  0.681598898652312\n",
            "  NPS LOSS:  0.000548494851228769\n",
            "   TV LOSS:  0.12217657974401078\n",
            "EPOCH TIME:  42.55384016036987\n"
          ]
        },
        {
          "metadata": {
            "tags": null
          },
          "name": "stderr",
          "output_type": "stream",
          "text": [
            "\n",
            "Running epoch 59: 100%|██████████| 77/77 [00:41<00:00,  2.31it/s]"
          ]
        },
        {
          "metadata": {
            "tags": null
          },
          "name": "stdout",
          "output_type": "stream",
          "text": [
            "\n",
            "\n"
          ]
        },
        {
          "metadata": {
            "tags": null
          },
          "name": "stderr",
          "output_type": "stream",
          "text": [
            "\rRunning epoch 59: 100%|██████████| 77/77 [00:42<00:00,  1.83it/s]"
          ]
        },
        {
          "metadata": {
            "tags": null
          },
          "name": "stdout",
          "output_type": "stream",
          "text": [
            "  EPOCH NR:  59\n",
            "EPOCH LOSS:  tensor(0.7968, device='cuda:0', grad_fn=<DivBackward0>)\n",
            "  DET LOSS:  0.6792236342058553\n",
            "  NPS LOSS:  0.000546155907909156\n",
            "   TV LOSS:  0.11705048420986572\n",
            "EPOCH TIME:  42.58042907714844\n"
          ]
        },
        {
          "metadata": {
            "tags": null
          },
          "name": "stderr",
          "output_type": "stream",
          "text": [
            "\n",
            "Running epoch 60: 100%|██████████| 77/77 [00:42<00:00,  2.25it/s]"
          ]
        },
        {
          "metadata": {
            "tags": null
          },
          "name": "stdout",
          "output_type": "stream",
          "text": [
            "\n",
            "\n"
          ]
        },
        {
          "metadata": {
            "tags": null
          },
          "name": "stderr",
          "output_type": "stream",
          "text": [
            "\rRunning epoch 60: 100%|██████████| 77/77 [00:42<00:00,  1.82it/s]"
          ]
        },
        {
          "metadata": {
            "tags": null
          },
          "name": "stdout",
          "output_type": "stream",
          "text": [
            "  EPOCH NR:  60\n",
            "EPOCH LOSS:  tensor(0.7937, device='cuda:0', grad_fn=<DivBackward0>)\n",
            "  DET LOSS:  0.6804936094717546\n",
            "  NPS LOSS:  0.0005445830915546553\n",
            "   TV LOSS:  0.11270858802191623\n",
            "EPOCH TIME:  42.767439126968384\n"
          ]
        },
        {
          "metadata": {
            "tags": null
          },
          "name": "stderr",
          "output_type": "stream",
          "text": [
            "\n",
            "Running epoch 61: 100%|██████████| 77/77 [00:41<00:00,  2.28it/s]"
          ]
        },
        {
          "metadata": {
            "tags": null
          },
          "name": "stdout",
          "output_type": "stream",
          "text": [
            "\n",
            "\n"
          ]
        },
        {
          "metadata": {
            "tags": null
          },
          "name": "stderr",
          "output_type": "stream",
          "text": [
            "\rRunning epoch 61: 100%|██████████| 77/77 [00:42<00:00,  1.83it/s]"
          ]
        },
        {
          "metadata": {
            "tags": null
          },
          "name": "stdout",
          "output_type": "stream",
          "text": [
            "  EPOCH NR:  61\n",
            "EPOCH LOSS:  tensor(0.7857, device='cuda:0', grad_fn=<DivBackward0>)\n",
            "  DET LOSS:  0.6764696418464958\n",
            "  NPS LOSS:  0.0005429957520107847\n",
            "   TV LOSS:  0.10869477969872487\n",
            "EPOCH TIME:  42.57955503463745\n"
          ]
        },
        {
          "metadata": {
            "tags": null
          },
          "name": "stderr",
          "output_type": "stream",
          "text": [
            "\n",
            "Running epoch 62: 100%|██████████| 77/77 [00:42<00:00,  2.24it/s]"
          ]
        },
        {
          "metadata": {
            "tags": null
          },
          "name": "stdout",
          "output_type": "stream",
          "text": [
            "\n",
            "\n"
          ]
        },
        {
          "metadata": {
            "tags": null
          },
          "name": "stderr",
          "output_type": "stream",
          "text": [
            "\rRunning epoch 62: 100%|██████████| 77/77 [00:42<00:00,  1.82it/s]"
          ]
        },
        {
          "metadata": {
            "tags": null
          },
          "name": "stdout",
          "output_type": "stream",
          "text": [
            "  EPOCH NR:  62\n",
            "EPOCH LOSS:  tensor(0.7874, device='cuda:0', grad_fn=<DivBackward0>)\n",
            "  DET LOSS:  0.6807527038958165\n",
            "  NPS LOSS:  0.0005411869557513916\n",
            "   TV LOSS:  0.10610427900955274\n",
            "EPOCH TIME:  42.81263065338135\n"
          ]
        },
        {
          "metadata": {
            "tags": null
          },
          "name": "stderr",
          "output_type": "stream",
          "text": [
            "\n",
            "Running epoch 63: 100%|██████████| 77/77 [00:41<00:00,  2.30it/s]"
          ]
        },
        {
          "metadata": {
            "tags": null
          },
          "name": "stdout",
          "output_type": "stream",
          "text": [
            "\n",
            "\n"
          ]
        },
        {
          "metadata": {
            "tags": null
          },
          "name": "stderr",
          "output_type": "stream",
          "text": [
            "\rRunning epoch 63: 100%|██████████| 77/77 [00:42<00:00,  1.82it/s]"
          ]
        },
        {
          "metadata": {
            "tags": null
          },
          "name": "stdout",
          "output_type": "stream",
          "text": [
            "  EPOCH NR:  63\n",
            "EPOCH LOSS:  tensor(0.7837, device='cuda:0', grad_fn=<DivBackward0>)\n",
            "  DET LOSS:  0.6787102059884504\n",
            "  NPS LOSS:  0.0005397865588038966\n",
            "   TV LOSS:  0.10440962471358188\n",
            "EPOCH TIME:  42.75034046173096\n"
          ]
        },
        {
          "metadata": {
            "tags": null
          },
          "name": "stderr",
          "output_type": "stream",
          "text": [
            "\n",
            "Running epoch 64: 100%|██████████| 77/77 [00:41<00:00,  2.24it/s]"
          ]
        },
        {
          "metadata": {
            "tags": null
          },
          "name": "stdout",
          "output_type": "stream",
          "text": [
            "\n",
            "\n"
          ]
        },
        {
          "metadata": {
            "tags": null
          },
          "name": "stderr",
          "output_type": "stream",
          "text": [
            "\rRunning epoch 64: 100%|██████████| 77/77 [00:42<00:00,  1.82it/s]"
          ]
        },
        {
          "metadata": {
            "tags": null
          },
          "name": "stdout",
          "output_type": "stream",
          "text": [
            "  EPOCH NR:  64\n",
            "EPOCH LOSS:  tensor(0.7826, device='cuda:0', grad_fn=<DivBackward0>)\n",
            "  DET LOSS:  0.6804394273014812\n",
            "  NPS LOSS:  0.0005377646015545765\n",
            "   TV LOSS:  0.10164227094743158\n",
            "EPOCH TIME:  42.734808683395386\n"
          ]
        },
        {
          "metadata": {
            "tags": null
          },
          "name": "stderr",
          "output_type": "stream",
          "text": [
            "\n",
            "Running epoch 65: 100%|██████████| 77/77 [00:41<00:00,  2.29it/s]"
          ]
        },
        {
          "metadata": {
            "tags": null
          },
          "name": "stdout",
          "output_type": "stream",
          "text": [
            "\n",
            "\n"
          ]
        },
        {
          "metadata": {
            "tags": null
          },
          "name": "stderr",
          "output_type": "stream",
          "text": [
            "\rRunning epoch 65: 100%|██████████| 77/77 [00:42<00:00,  1.83it/s]"
          ]
        },
        {
          "metadata": {
            "tags": null
          },
          "name": "stdout",
          "output_type": "stream",
          "text": [
            "  EPOCH NR:  65\n",
            "EPOCH LOSS:  tensor(0.7846, device='cuda:0', grad_fn=<DivBackward0>)\n",
            "  DET LOSS:  0.6822083956235415\n",
            "  NPS LOSS:  0.0005363045372189833\n",
            "   TV LOSS:  0.10189482260060001\n",
            "EPOCH TIME:  42.53467035293579\n"
          ]
        },
        {
          "metadata": {
            "tags": null
          },
          "name": "stderr",
          "output_type": "stream",
          "text": [
            "\n",
            "Running epoch 66: 100%|██████████| 77/77 [00:41<00:00,  2.27it/s]"
          ]
        },
        {
          "metadata": {
            "tags": null
          },
          "name": "stdout",
          "output_type": "stream",
          "text": [
            "\n",
            "\n"
          ]
        },
        {
          "metadata": {
            "tags": null
          },
          "name": "stderr",
          "output_type": "stream",
          "text": [
            "\rRunning epoch 66: 100%|██████████| 77/77 [00:42<00:00,  1.83it/s]"
          ]
        },
        {
          "metadata": {
            "tags": null
          },
          "name": "stdout",
          "output_type": "stream",
          "text": [
            "  EPOCH NR:  66\n",
            "EPOCH LOSS:  tensor(0.7819, device='cuda:0', grad_fn=<DivBackward0>)\n",
            "  DET LOSS:  0.6802547365039974\n",
            "  NPS LOSS:  0.000535787695522916\n",
            "   TV LOSS:  0.10106810975771446\n",
            "EPOCH TIME:  42.6359806060791\n"
          ]
        },
        {
          "metadata": {
            "tags": null
          },
          "name": "stderr",
          "output_type": "stream",
          "text": [
            "\n",
            "Running epoch 67: 100%|██████████| 77/77 [00:41<00:00,  2.29it/s]"
          ]
        },
        {
          "metadata": {
            "tags": null
          },
          "name": "stdout",
          "output_type": "stream",
          "text": [
            "\n",
            "\n"
          ]
        },
        {
          "metadata": {
            "tags": null
          },
          "name": "stderr",
          "output_type": "stream",
          "text": [
            "\rRunning epoch 67: 100%|██████████| 77/77 [00:42<00:00,  1.83it/s]"
          ]
        },
        {
          "metadata": {
            "tags": null
          },
          "name": "stdout",
          "output_type": "stream",
          "text": [
            "  EPOCH NR:  67\n",
            "EPOCH LOSS:  tensor(0.7842, device='cuda:0', grad_fn=<DivBackward0>)\n",
            "  DET LOSS:  0.681771485836475\n",
            "  NPS LOSS:  0.0005354129100012798\n",
            "   TV LOSS:  0.10186355744863486\n",
            "EPOCH TIME:  42.56299018859863\n"
          ]
        },
        {
          "metadata": {
            "tags": null
          },
          "name": "stderr",
          "output_type": "stream",
          "text": [
            "\n",
            "Running epoch 68: 100%|██████████| 77/77 [00:42<00:00,  2.25it/s]"
          ]
        },
        {
          "metadata": {
            "tags": null
          },
          "name": "stdout",
          "output_type": "stream",
          "text": [
            "\n",
            "\n"
          ]
        },
        {
          "metadata": {
            "tags": null
          },
          "name": "stderr",
          "output_type": "stream",
          "text": [
            "\rRunning epoch 68: 100%|██████████| 77/77 [00:42<00:00,  1.82it/s]"
          ]
        },
        {
          "metadata": {
            "tags": null
          },
          "name": "stdout",
          "output_type": "stream",
          "text": [
            "  EPOCH NR:  68\n",
            "EPOCH LOSS:  tensor(0.7809, device='cuda:0', grad_fn=<DivBackward0>)\n",
            "  DET LOSS:  0.6798835458693566\n",
            "  NPS LOSS:  0.000534672281771366\n",
            "   TV LOSS:  0.10051401840014891\n",
            "EPOCH TIME:  42.76614308357239\n"
          ]
        },
        {
          "metadata": {
            "tags": null
          },
          "name": "stderr",
          "output_type": "stream",
          "text": [
            "\n",
            "Running epoch 69: 100%|██████████| 77/77 [00:41<00:00,  2.25it/s]"
          ]
        },
        {
          "metadata": {
            "tags": null
          },
          "name": "stdout",
          "output_type": "stream",
          "text": [
            "\n",
            "\n"
          ]
        },
        {
          "metadata": {
            "tags": null
          },
          "name": "stderr",
          "output_type": "stream",
          "text": [
            "\rRunning epoch 69: 100%|██████████| 77/77 [00:42<00:00,  1.83it/s]"
          ]
        },
        {
          "metadata": {
            "tags": null
          },
          "name": "stdout",
          "output_type": "stream",
          "text": [
            "  EPOCH NR:  69\n",
            "EPOCH LOSS:  tensor(0.7821, device='cuda:0', grad_fn=<DivBackward0>)\n",
            "  DET LOSS:  0.680082482951028\n",
            "  NPS LOSS:  0.0005346452628334911\n",
            "   TV LOSS:  0.10150446684716584\n",
            "EPOCH TIME:  42.56798028945923\n"
          ]
        },
        {
          "metadata": {
            "tags": null
          },
          "name": "stderr",
          "output_type": "stream",
          "text": [
            "\n",
            "Running epoch 70: 100%|██████████| 77/77 [00:41<00:00,  2.29it/s]"
          ]
        },
        {
          "metadata": {
            "tags": null
          },
          "name": "stdout",
          "output_type": "stream",
          "text": [
            "\n",
            "\n"
          ]
        },
        {
          "metadata": {
            "tags": null
          },
          "name": "stderr",
          "output_type": "stream",
          "text": [
            "\rRunning epoch 70: 100%|██████████| 77/77 [00:41<00:00,  1.84it/s]"
          ]
        },
        {
          "metadata": {
            "tags": null
          },
          "name": "stdout",
          "output_type": "stream",
          "text": [
            "  EPOCH NR:  70\n",
            "EPOCH LOSS:  tensor(0.7832, device='cuda:0', grad_fn=<DivBackward0>)\n",
            "  DET LOSS:  0.6822516685956485\n",
            "  NPS LOSS:  0.0005345611384005419\n",
            "   TV LOSS:  0.10042852792259935\n",
            "EPOCH TIME:  42.465394735336304\n"
          ]
        },
        {
          "metadata": {
            "tags": null
          },
          "name": "stderr",
          "output_type": "stream",
          "text": [
            "\n",
            "Running epoch 71: 100%|██████████| 77/77 [00:41<00:00,  2.28it/s]"
          ]
        },
        {
          "metadata": {
            "tags": null
          },
          "name": "stdout",
          "output_type": "stream",
          "text": [
            "\n",
            "\n"
          ]
        },
        {
          "metadata": {
            "tags": null
          },
          "name": "stderr",
          "output_type": "stream",
          "text": [
            "\rRunning epoch 71: 100%|██████████| 77/77 [00:42<00:00,  1.83it/s]"
          ]
        },
        {
          "metadata": {
            "tags": null
          },
          "name": "stdout",
          "output_type": "stream",
          "text": [
            "  EPOCH NR:  71\n",
            "EPOCH LOSS:  tensor(0.7836, device='cuda:0', grad_fn=<DivBackward0>)\n",
            "  DET LOSS:  0.6821035526015542\n",
            "  NPS LOSS:  0.0005343200596557422\n",
            "   TV LOSS:  0.1009120817308302\n",
            "EPOCH TIME:  42.69081234931946\n"
          ]
        },
        {
          "metadata": {
            "tags": null
          },
          "name": "stderr",
          "output_type": "stream",
          "text": [
            "\n",
            "Running epoch 72: 100%|██████████| 77/77 [00:41<00:00,  2.29it/s]"
          ]
        },
        {
          "metadata": {
            "tags": null
          },
          "name": "stdout",
          "output_type": "stream",
          "text": [
            "\n",
            "\n"
          ]
        },
        {
          "metadata": {
            "tags": null
          },
          "name": "stderr",
          "output_type": "stream",
          "text": [
            "\rRunning epoch 72: 100%|██████████| 77/77 [00:42<00:00,  1.83it/s]"
          ]
        },
        {
          "metadata": {
            "tags": null
          },
          "name": "stdout",
          "output_type": "stream",
          "text": [
            "  EPOCH NR:  72\n",
            "EPOCH LOSS:  tensor(0.7809, device='cuda:0', grad_fn=<DivBackward0>)\n",
            "  DET LOSS:  0.6800183127452801\n",
            "  NPS LOSS:  0.0005342207279044216\n",
            "   TV LOSS:  0.10034192721178005\n",
            "EPOCH TIME:  42.50534796714783\n"
          ]
        },
        {
          "metadata": {
            "tags": null
          },
          "name": "stderr",
          "output_type": "stream",
          "text": [
            "\n",
            "Running epoch 73: 100%|██████████| 77/77 [00:41<00:00,  2.30it/s]"
          ]
        },
        {
          "metadata": {
            "tags": null
          },
          "name": "stdout",
          "output_type": "stream",
          "text": [
            "\n",
            "\n"
          ]
        },
        {
          "metadata": {
            "tags": null
          },
          "name": "stderr",
          "output_type": "stream",
          "text": [
            "\rRunning epoch 73: 100%|██████████| 77/77 [00:42<00:00,  1.82it/s]"
          ]
        },
        {
          "metadata": {
            "tags": null
          },
          "name": "stdout",
          "output_type": "stream",
          "text": [
            "  EPOCH NR:  73\n",
            "EPOCH LOSS:  tensor(0.7807, device='cuda:0', grad_fn=<DivBackward0>)\n",
            "  DET LOSS:  0.6791997219060922\n",
            "  NPS LOSS:  0.0005337041507886311\n",
            "   TV LOSS:  0.10092050640226959\n",
            "EPOCH TIME:  42.771214723587036\n"
          ]
        },
        {
          "metadata": {
            "tags": null
          },
          "name": "stderr",
          "output_type": "stream",
          "text": [
            "\n",
            "Running epoch 74: 100%|██████████| 77/77 [00:41<00:00,  2.28it/s]"
          ]
        },
        {
          "metadata": {
            "tags": null
          },
          "name": "stdout",
          "output_type": "stream",
          "text": [
            "\n",
            "\n"
          ]
        },
        {
          "metadata": {
            "tags": null
          },
          "name": "stderr",
          "output_type": "stream",
          "text": [
            "\rRunning epoch 74: 100%|██████████| 77/77 [00:42<00:00,  1.82it/s]"
          ]
        },
        {
          "metadata": {
            "tags": null
          },
          "name": "stdout",
          "output_type": "stream",
          "text": [
            "  EPOCH NR:  74\n",
            "EPOCH LOSS:  tensor(0.7817, device='cuda:0', grad_fn=<DivBackward0>)\n",
            "  DET LOSS:  0.6807910869647931\n",
            "  NPS LOSS:  0.0005328703819858757\n",
            "   TV LOSS:  0.1003821561862896\n",
            "EPOCH TIME:  42.70993161201477\n"
          ]
        },
        {
          "metadata": {
            "tags": null
          },
          "name": "stderr",
          "output_type": "stream",
          "text": [
            "\n",
            "Running epoch 75: 100%|██████████| 77/77 [00:41<00:00,  2.31it/s]"
          ]
        },
        {
          "metadata": {
            "tags": null
          },
          "name": "stdout",
          "output_type": "stream",
          "text": [
            "\n",
            "\n"
          ]
        },
        {
          "metadata": {
            "tags": null
          },
          "name": "stderr",
          "output_type": "stream",
          "text": [
            "\rRunning epoch 75: 100%|██████████| 77/77 [00:42<00:00,  1.83it/s]"
          ]
        },
        {
          "metadata": {
            "tags": null
          },
          "name": "stdout",
          "output_type": "stream",
          "text": [
            "  EPOCH NR:  75\n",
            "EPOCH LOSS:  tensor(0.7802, device='cuda:0', grad_fn=<DivBackward0>)\n",
            "  DET LOSS:  0.6791878899970611\n",
            "  NPS LOSS:  0.0005330439836887473\n",
            "   TV LOSS:  0.10051151152168002\n",
            "EPOCH TIME:  42.651902198791504\n"
          ]
        },
        {
          "metadata": {
            "tags": null
          },
          "name": "stderr",
          "output_type": "stream",
          "text": [
            "\n",
            "Running epoch 76: 100%|██████████| 77/77 [00:42<00:00,  2.28it/s]"
          ]
        },
        {
          "metadata": {
            "tags": null
          },
          "name": "stdout",
          "output_type": "stream",
          "text": [
            "\n",
            "\n"
          ]
        },
        {
          "metadata": {
            "tags": null
          },
          "name": "stderr",
          "output_type": "stream",
          "text": [
            "\rRunning epoch 76: 100%|██████████| 77/77 [00:42<00:00,  1.82it/s]"
          ]
        },
        {
          "metadata": {
            "tags": null
          },
          "name": "stdout",
          "output_type": "stream",
          "text": [
            "  EPOCH NR:  76\n",
            "EPOCH LOSS:  tensor(0.7835, device='cuda:0', grad_fn=<DivBackward0>)\n",
            "  DET LOSS:  0.6822921316345016\n",
            "  NPS LOSS:  0.0005326530754009818\n",
            "   TV LOSS:  0.10067642760741247\n",
            "EPOCH TIME:  42.76740598678589\n"
          ]
        },
        {
          "metadata": {
            "tags": null
          },
          "name": "stderr",
          "output_type": "stream",
          "text": [
            "\n",
            "Running epoch 77: 100%|██████████| 77/77 [00:42<00:00,  2.28it/s]"
          ]
        },
        {
          "metadata": {
            "tags": null
          },
          "name": "stdout",
          "output_type": "stream",
          "text": [
            "\n",
            "\n"
          ]
        },
        {
          "metadata": {
            "tags": null
          },
          "name": "stderr",
          "output_type": "stream",
          "text": [
            "\rRunning epoch 77: 100%|██████████| 77/77 [00:42<00:00,  1.82it/s]"
          ]
        },
        {
          "metadata": {
            "tags": null
          },
          "name": "stdout",
          "output_type": "stream",
          "text": [
            "  EPOCH NR:  77\n",
            "EPOCH LOSS:  tensor(0.7813, device='cuda:0', grad_fn=<DivBackward0>)\n",
            "  DET LOSS:  0.6804068111754084\n",
            "  NPS LOSS:  0.0005328966412003842\n",
            "   TV LOSS:  0.10032480045572503\n",
            "EPOCH TIME:  42.73660969734192\n"
          ]
        },
        {
          "metadata": {
            "tags": null
          },
          "name": "stderr",
          "output_type": "stream",
          "text": [
            "\n",
            "Running epoch 78: 100%|██████████| 77/77 [00:41<00:00,  2.28it/s]"
          ]
        },
        {
          "metadata": {
            "tags": null
          },
          "name": "stdout",
          "output_type": "stream",
          "text": [
            "\n",
            "\n"
          ]
        },
        {
          "metadata": {
            "tags": null
          },
          "name": "stderr",
          "output_type": "stream",
          "text": [
            "\rRunning epoch 78: 100%|██████████| 77/77 [00:42<00:00,  1.83it/s]"
          ]
        },
        {
          "metadata": {
            "tags": null
          },
          "name": "stdout",
          "output_type": "stream",
          "text": [
            "  EPOCH NR:  78\n",
            "EPOCH LOSS:  tensor(0.7823, device='cuda:0', grad_fn=<DivBackward0>)\n",
            "  DET LOSS:  0.6808406052651343\n",
            "  NPS LOSS:  0.0005325830840904798\n",
            "   TV LOSS:  0.10089042318331731\n",
            "EPOCH TIME:  42.44932723045349\n"
          ]
        },
        {
          "metadata": {
            "tags": null
          },
          "name": "stderr",
          "output_type": "stream",
          "text": [
            "\n",
            "Running epoch 79: 100%|██████████| 77/77 [00:41<00:00,  2.28it/s]"
          ]
        },
        {
          "metadata": {
            "tags": null
          },
          "name": "stdout",
          "output_type": "stream",
          "text": [
            "\n",
            "\n"
          ]
        },
        {
          "metadata": {
            "tags": null
          },
          "name": "stderr",
          "output_type": "stream",
          "text": [
            "\rRunning epoch 79: 100%|██████████| 77/77 [00:42<00:00,  1.83it/s]"
          ]
        },
        {
          "metadata": {
            "tags": null
          },
          "name": "stdout",
          "output_type": "stream",
          "text": [
            "  EPOCH NR:  79\n",
            "EPOCH LOSS:  tensor(0.7827, device='cuda:0', grad_fn=<DivBackward0>)\n",
            "  DET LOSS:  0.6818401558058602\n",
            "  NPS LOSS:  0.0005325842716779512\n",
            "   TV LOSS:  0.10029217687907158\n",
            "EPOCH TIME:  42.68206477165222\n"
          ]
        },
        {
          "metadata": {
            "tags": null
          },
          "name": "stderr",
          "output_type": "stream",
          "text": [
            "\n",
            "Running epoch 80: 100%|██████████| 77/77 [00:41<00:00,  2.31it/s]"
          ]
        },
        {
          "metadata": {
            "tags": null
          },
          "name": "stdout",
          "output_type": "stream",
          "text": [
            "\n",
            "\n"
          ]
        },
        {
          "metadata": {
            "tags": null
          },
          "name": "stderr",
          "output_type": "stream",
          "text": [
            "\rRunning epoch 80: 100%|██████████| 77/77 [00:41<00:00,  1.84it/s]"
          ]
        },
        {
          "metadata": {
            "tags": null
          },
          "name": "stdout",
          "output_type": "stream",
          "text": [
            "  EPOCH NR:  80\n",
            "EPOCH LOSS:  tensor(0.7836, device='cuda:0', grad_fn=<DivBackward0>)\n",
            "  DET LOSS:  0.6828257944676783\n",
            "  NPS LOSS:  0.0005333079985197778\n",
            "   TV LOSS:  0.10018223020937536\n",
            "EPOCH TIME:  42.375593423843384\n"
          ]
        },
        {
          "metadata": {
            "tags": null
          },
          "name": "stderr",
          "output_type": "stream",
          "text": [
            "\n",
            "Running epoch 81: 100%|██████████| 77/77 [00:41<00:00,  2.29it/s]"
          ]
        },
        {
          "metadata": {
            "tags": null
          },
          "name": "stdout",
          "output_type": "stream",
          "text": [
            "\n",
            "\n"
          ]
        },
        {
          "metadata": {
            "tags": null
          },
          "name": "stderr",
          "output_type": "stream",
          "text": [
            "\rRunning epoch 81: 100%|██████████| 77/77 [00:42<00:00,  1.83it/s]"
          ]
        },
        {
          "metadata": {
            "tags": null
          },
          "name": "stdout",
          "output_type": "stream",
          "text": [
            "  EPOCH NR:  81\n",
            "EPOCH LOSS:  tensor(0.7818, device='cuda:0', grad_fn=<DivBackward0>)\n",
            "  DET LOSS:  0.6807422692125494\n",
            "  NPS LOSS:  0.0005332330527546054\n",
            "   TV LOSS:  0.10045761624713997\n",
            "EPOCH TIME:  42.519410371780396\n"
          ]
        },
        {
          "metadata": {
            "tags": null
          },
          "name": "stderr",
          "output_type": "stream",
          "text": [
            "\n",
            "Running epoch 82: 100%|██████████| 77/77 [00:41<00:00,  2.30it/s]"
          ]
        },
        {
          "metadata": {
            "tags": null
          },
          "name": "stdout",
          "output_type": "stream",
          "text": [
            "\n",
            "\n"
          ]
        },
        {
          "metadata": {
            "tags": null
          },
          "name": "stderr",
          "output_type": "stream",
          "text": [
            "\rRunning epoch 82: 100%|██████████| 77/77 [00:42<00:00,  1.82it/s]"
          ]
        },
        {
          "metadata": {
            "tags": null
          },
          "name": "stdout",
          "output_type": "stream",
          "text": [
            "  EPOCH NR:  82\n",
            "EPOCH LOSS:  tensor(0.7819, device='cuda:0', grad_fn=<DivBackward0>)\n",
            "  DET LOSS:  0.6810130004758959\n",
            "  NPS LOSS:  0.0005332410778523749\n",
            "   TV LOSS:  0.10036650774153796\n",
            "EPOCH TIME:  42.75573754310608\n"
          ]
        },
        {
          "metadata": {
            "tags": null
          },
          "name": "stderr",
          "output_type": "stream",
          "text": [
            "\n",
            "Running epoch 83: 100%|██████████| 77/77 [00:41<00:00,  2.30it/s]"
          ]
        },
        {
          "metadata": {
            "tags": null
          },
          "name": "stdout",
          "output_type": "stream",
          "text": [
            "\n",
            "\n"
          ]
        },
        {
          "metadata": {
            "tags": null
          },
          "name": "stderr",
          "output_type": "stream",
          "text": [
            "\rRunning epoch 83: 100%|██████████| 77/77 [00:41<00:00,  1.84it/s]"
          ]
        },
        {
          "metadata": {
            "tags": null
          },
          "name": "stdout",
          "output_type": "stream",
          "text": [
            "  EPOCH NR:  83\n",
            "EPOCH LOSS:  tensor(0.7811, device='cuda:0', grad_fn=<DivBackward0>)\n",
            "  DET LOSS:  0.6802866226666934\n",
            "  NPS LOSS:  0.0005330937028584349\n",
            "   TV LOSS:  0.1003185013284931\n",
            "EPOCH TIME:  42.355340242385864\n"
          ]
        },
        {
          "output_type": "stream",
          "name": "stderr",
          "text": [
            "\n",
            "Running epoch 84: 100%|██████████| 77/77 [00:41<00:00,  2.30it/s]"
          ]
        },
        {
          "output_type": "stream",
          "name": "stdout",
          "text": [
            "\n",
            "\n"
          ]
        },
        {
          "output_type": "stream",
          "name": "stderr",
          "text": [
            "\rRunning epoch 84: 100%|██████████| 77/77 [00:42<00:00,  1.82it/s]"
          ]
        },
        {
          "output_type": "stream",
          "name": "stdout",
          "text": [
            "  EPOCH NR:  84\n",
            "EPOCH LOSS:  tensor(0.7817, device='cuda:0', grad_fn=<DivBackward0>)\n",
            "  DET LOSS:  0.6810173678707767\n",
            "  NPS LOSS:  0.0005326559540343943\n",
            "   TV LOSS:  0.10017813800217269\n",
            "EPOCH TIME:  42.76537322998047\n"
          ]
        },
        {
          "output_type": "stream",
          "name": "stderr",
          "text": [
            "\n",
            "Running epoch 85: 100%|██████████| 77/77 [00:41<00:00,  2.28it/s]"
          ]
        },
        {
          "output_type": "stream",
          "name": "stdout",
          "text": [
            "\n",
            "\n"
          ]
        },
        {
          "output_type": "stream",
          "name": "stderr",
          "text": [
            "\rRunning epoch 85: 100%|██████████| 77/77 [00:42<00:00,  1.82it/s]"
          ]
        },
        {
          "output_type": "stream",
          "name": "stdout",
          "text": [
            "  EPOCH NR:  85\n",
            "EPOCH LOSS:  tensor(0.7845, device='cuda:0', grad_fn=<DivBackward0>)\n",
            "  DET LOSS:  0.6838155218533107\n",
            "  NPS LOSS:  0.0005327549304922003\n",
            "   TV LOSS:  0.10010870623511153\n",
            "EPOCH TIME:  42.734148263931274\n"
          ]
        },
        {
          "output_type": "stream",
          "name": "stderr",
          "text": [
            "\n",
            "Running epoch 86: 100%|██████████| 77/77 [00:41<00:00,  2.30it/s]"
          ]
        },
        {
          "output_type": "stream",
          "name": "stdout",
          "text": [
            "\n",
            "\n"
          ]
        },
        {
          "output_type": "stream",
          "name": "stderr",
          "text": [
            "\rRunning epoch 86: 100%|██████████| 77/77 [00:42<00:00,  1.83it/s]"
          ]
        },
        {
          "output_type": "stream",
          "name": "stdout",
          "text": [
            "  EPOCH NR:  86\n",
            "EPOCH LOSS:  tensor(0.7821, device='cuda:0', grad_fn=<DivBackward0>)\n",
            "  DET LOSS:  0.6814156089510236\n",
            "  NPS LOSS:  0.0005335208911497098\n",
            "   TV LOSS:  0.10012613894877495\n",
            "EPOCH TIME:  42.61648774147034\n"
          ]
        },
        {
          "output_type": "stream",
          "name": "stderr",
          "text": [
            "\n",
            "Running epoch 87: 100%|██████████| 77/77 [00:41<00:00,  2.29it/s]"
          ]
        },
        {
          "output_type": "stream",
          "name": "stdout",
          "text": [
            "\n",
            "\n"
          ]
        },
        {
          "output_type": "stream",
          "name": "stderr",
          "text": [
            "\rRunning epoch 87: 100%|██████████| 77/77 [00:41<00:00,  1.84it/s]"
          ]
        },
        {
          "output_type": "stream",
          "name": "stdout",
          "text": [
            "  EPOCH NR:  87\n",
            "EPOCH LOSS:  tensor(0.7811, device='cuda:0', grad_fn=<DivBackward0>)\n",
            "  DET LOSS:  0.6802040779745424\n",
            "  NPS LOSS:  0.0005338710661699342\n",
            "   TV LOSS:  0.10034895785056151\n",
            "EPOCH TIME:  42.439799785614014\n"
          ]
        },
        {
          "output_type": "stream",
          "name": "stderr",
          "text": [
            "\n",
            "Running epoch 88: 100%|██████████| 77/77 [00:41<00:00,  2.30it/s]"
          ]
        },
        {
          "output_type": "stream",
          "name": "stdout",
          "text": [
            "\n",
            "\n"
          ]
        },
        {
          "output_type": "stream",
          "name": "stderr",
          "text": [
            "\rRunning epoch 88: 100%|██████████| 77/77 [00:41<00:00,  1.84it/s]"
          ]
        },
        {
          "output_type": "stream",
          "name": "stdout",
          "text": [
            "  EPOCH NR:  88\n",
            "EPOCH LOSS:  tensor(0.7824, device='cuda:0', grad_fn=<DivBackward0>)\n",
            "  DET LOSS:  0.6814149076288397\n",
            "  NPS LOSS:  0.0005337328199514901\n",
            "   TV LOSS:  0.1004099842015799\n",
            "EPOCH TIME:  42.472129106521606\n"
          ]
        },
        {
          "output_type": "stream",
          "name": "stderr",
          "text": [
            "\n",
            "Running epoch 89: 100%|██████████| 77/77 [00:41<00:00,  2.29it/s]"
          ]
        },
        {
          "output_type": "stream",
          "name": "stdout",
          "text": [
            "\n",
            "\n"
          ]
        },
        {
          "output_type": "stream",
          "name": "stderr",
          "text": [
            "\rRunning epoch 89: 100%|██████████| 77/77 [00:42<00:00,  1.83it/s]"
          ]
        },
        {
          "output_type": "stream",
          "name": "stdout",
          "text": [
            "  EPOCH NR:  89\n",
            "EPOCH LOSS:  tensor(0.7819, device='cuda:0', grad_fn=<DivBackward0>)\n",
            "  DET LOSS:  0.6811975844494709\n",
            "  NPS LOSS:  0.0005338609894411033\n",
            "   TV LOSS:  0.10016619597936606\n",
            "EPOCH TIME:  42.653122663497925\n"
          ]
        },
        {
          "output_type": "stream",
          "name": "stderr",
          "text": [
            "\n",
            "Running epoch 90: 100%|██████████| 77/77 [00:41<00:00,  2.29it/s]"
          ]
        },
        {
          "output_type": "stream",
          "name": "stdout",
          "text": [
            "\n",
            "\n"
          ]
        },
        {
          "output_type": "stream",
          "name": "stderr",
          "text": [
            "\rRunning epoch 90: 100%|██████████| 77/77 [00:41<00:00,  1.84it/s]"
          ]
        },
        {
          "output_type": "stream",
          "name": "stdout",
          "text": [
            "  EPOCH NR:  90\n",
            "EPOCH LOSS:  tensor(0.7823, device='cuda:0', grad_fn=<DivBackward0>)\n",
            "  DET LOSS:  0.6817056614083129\n",
            "  NPS LOSS:  0.000533930298134491\n",
            "   TV LOSS:  0.10008700646750339\n",
            "EPOCH TIME:  42.36645579338074\n"
          ]
        },
        {
          "output_type": "stream",
          "name": "stderr",
          "text": [
            "\n",
            "Running epoch 91: 100%|██████████| 77/77 [00:41<00:00,  2.27it/s]"
          ]
        },
        {
          "output_type": "stream",
          "name": "stdout",
          "text": [
            "\n",
            "\n"
          ]
        },
        {
          "output_type": "stream",
          "name": "stderr",
          "text": [
            "\rRunning epoch 91: 100%|██████████| 77/77 [00:42<00:00,  1.83it/s]"
          ]
        },
        {
          "output_type": "stream",
          "name": "stdout",
          "text": [
            "  EPOCH NR:  91\n",
            "EPOCH LOSS:  tensor(0.7810, device='cuda:0', grad_fn=<DivBackward0>)\n",
            "  DET LOSS:  0.6802917393771085\n",
            "  NPS LOSS:  0.0005339729341121947\n",
            "   TV LOSS:  0.10018121112476695\n",
            "EPOCH TIME:  42.57415819168091\n"
          ]
        },
        {
          "output_type": "stream",
          "name": "stderr",
          "text": [
            "\n",
            "Running epoch 92: 100%|██████████| 77/77 [00:41<00:00,  2.28it/s]"
          ]
        },
        {
          "output_type": "stream",
          "name": "stdout",
          "text": [
            "\n",
            "\n"
          ]
        },
        {
          "output_type": "stream",
          "name": "stderr",
          "text": [
            "\rRunning epoch 92: 100%|██████████| 77/77 [00:42<00:00,  1.83it/s]"
          ]
        },
        {
          "output_type": "stream",
          "name": "stdout",
          "text": [
            "  EPOCH NR:  92\n",
            "EPOCH LOSS:  tensor(0.7820, device='cuda:0', grad_fn=<DivBackward0>)\n",
            "  DET LOSS:  0.6809629914048431\n",
            "  NPS LOSS:  0.0005342873182244502\n",
            "   TV LOSS:  0.10045483379394977\n",
            "EPOCH TIME:  42.46657991409302\n"
          ]
        },
        {
          "output_type": "stream",
          "name": "stderr",
          "text": [
            "\n",
            "Running epoch 93: 100%|██████████| 77/77 [00:41<00:00,  2.27it/s]"
          ]
        },
        {
          "output_type": "stream",
          "name": "stdout",
          "text": [
            "\n",
            "\n"
          ]
        },
        {
          "output_type": "stream",
          "name": "stderr",
          "text": [
            "\rRunning epoch 93: 100%|██████████| 77/77 [00:42<00:00,  1.83it/s]"
          ]
        },
        {
          "output_type": "stream",
          "name": "stdout",
          "text": [
            "  EPOCH NR:  93\n",
            "EPOCH LOSS:  tensor(0.7786, device='cuda:0', grad_fn=<DivBackward0>)\n",
            "  DET LOSS:  0.677811408197725\n",
            "  NPS LOSS:  0.000534292641579621\n",
            "   TV LOSS:  0.1002322237019415\n",
            "EPOCH TIME:  42.56159472465515\n"
          ]
        },
        {
          "output_type": "stream",
          "name": "stderr",
          "text": [
            "\n",
            "Running epoch 94: 100%|██████████| 77/77 [00:41<00:00,  2.29it/s]"
          ]
        },
        {
          "output_type": "stream",
          "name": "stdout",
          "text": [
            "\n",
            "\n"
          ]
        },
        {
          "output_type": "stream",
          "name": "stderr",
          "text": [
            "\rRunning epoch 94: 100%|██████████| 77/77 [00:41<00:00,  1.84it/s]"
          ]
        },
        {
          "output_type": "stream",
          "name": "stdout",
          "text": [
            "  EPOCH NR:  94\n",
            "EPOCH LOSS:  tensor(0.7820, device='cuda:0', grad_fn=<DivBackward0>)\n",
            "  DET LOSS:  0.6812405632687853\n",
            "  NPS LOSS:  0.0005343565414962057\n",
            "   TV LOSS:  0.10019749257858697\n",
            "EPOCH TIME:  42.37112522125244\n"
          ]
        },
        {
          "output_type": "stream",
          "name": "stderr",
          "text": [
            "\n",
            "Running epoch 95: 100%|██████████| 77/77 [00:41<00:00,  2.28it/s]"
          ]
        },
        {
          "output_type": "stream",
          "name": "stdout",
          "text": [
            "\n",
            "\n"
          ]
        },
        {
          "output_type": "stream",
          "name": "stderr",
          "text": [
            "\rRunning epoch 95: 100%|██████████| 77/77 [00:42<00:00,  1.83it/s]"
          ]
        },
        {
          "output_type": "stream",
          "name": "stdout",
          "text": [
            "  EPOCH NR:  95\n",
            "EPOCH LOSS:  tensor(0.7801, device='cuda:0', grad_fn=<DivBackward0>)\n",
            "  DET LOSS:  0.6794279705394398\n",
            "  NPS LOSS:  0.0005348290622161774\n",
            "   TV LOSS:  0.10015974232515731\n",
            "EPOCH TIME:  42.6277232170105\n"
          ]
        },
        {
          "output_type": "stream",
          "name": "stderr",
          "text": [
            "\n",
            "Running epoch 96: 100%|██████████| 77/77 [00:41<00:00,  2.31it/s]"
          ]
        },
        {
          "output_type": "stream",
          "name": "stdout",
          "text": [
            "\n",
            "\n"
          ]
        },
        {
          "output_type": "stream",
          "name": "stderr",
          "text": [
            "\rRunning epoch 96: 100%|██████████| 77/77 [00:42<00:00,  1.83it/s]"
          ]
        },
        {
          "output_type": "stream",
          "name": "stdout",
          "text": [
            "  EPOCH NR:  96\n",
            "EPOCH LOSS:  tensor(0.7803, device='cuda:0', grad_fn=<DivBackward0>)\n",
            "  DET LOSS:  0.6794299235591641\n",
            "  NPS LOSS:  0.0005349558090198447\n",
            "   TV LOSS:  0.10029010319864595\n",
            "EPOCH TIME:  42.539568185806274\n"
          ]
        },
        {
          "output_type": "stream",
          "name": "stderr",
          "text": [
            "\n",
            "Running epoch 97: 100%|██████████| 77/77 [00:41<00:00,  2.30it/s]"
          ]
        },
        {
          "output_type": "stream",
          "name": "stdout",
          "text": [
            "\n",
            "\n"
          ]
        },
        {
          "output_type": "stream",
          "name": "stderr",
          "text": [
            "\rRunning epoch 97: 100%|██████████| 77/77 [00:41<00:00,  1.83it/s]"
          ]
        },
        {
          "output_type": "stream",
          "name": "stdout",
          "text": [
            "  EPOCH NR:  97\n",
            "EPOCH LOSS:  tensor(0.7793, device='cuda:0', grad_fn=<DivBackward0>)\n",
            "  DET LOSS:  0.678306355104818\n",
            "  NPS LOSS:  0.0005349701795085974\n",
            "   TV LOSS:  0.1004824386788653\n",
            "EPOCH TIME:  42.4973840713501\n"
          ]
        },
        {
          "output_type": "stream",
          "name": "stderr",
          "text": [
            "\n",
            "Running epoch 98: 100%|██████████| 77/77 [00:41<00:00,  2.19it/s]"
          ]
        },
        {
          "output_type": "stream",
          "name": "stdout",
          "text": [
            "\n",
            "\n"
          ]
        },
        {
          "output_type": "stream",
          "name": "stderr",
          "text": [
            "\rRunning epoch 98: 100%|██████████| 77/77 [00:41<00:00,  1.84it/s]"
          ]
        },
        {
          "output_type": "stream",
          "name": "stdout",
          "text": [
            "  EPOCH NR:  98\n",
            "EPOCH LOSS:  tensor(0.7802, device='cuda:0', grad_fn=<DivBackward0>)\n",
            "  DET LOSS:  0.6794300063863977\n",
            "  NPS LOSS:  0.000535269679846363\n",
            "   TV LOSS:  0.10020269985709872\n",
            "EPOCH TIME:  42.38275933265686\n"
          ]
        },
        {
          "output_type": "stream",
          "name": "stderr",
          "text": [
            "\n",
            "Running epoch 99: 100%|██████████| 77/77 [00:41<00:00,  2.27it/s]"
          ]
        },
        {
          "output_type": "stream",
          "name": "stdout",
          "text": [
            "\n",
            "\n"
          ]
        },
        {
          "output_type": "stream",
          "name": "stderr",
          "text": [
            "\rRunning epoch 99: 100%|██████████| 77/77 [00:42<00:00,  1.83it/s]"
          ]
        },
        {
          "output_type": "stream",
          "name": "stdout",
          "text": [
            "  EPOCH NR:  99\n",
            "EPOCH LOSS:  tensor(0.7815, device='cuda:0', grad_fn=<DivBackward0>)\n",
            "  DET LOSS:  0.6806473252061126\n",
            "  NPS LOSS:  0.0005357993272278313\n",
            "   TV LOSS:  0.10026564971580133\n",
            "EPOCH TIME:  42.6247718334198\n"
          ]
        },
        {
          "output_type": "stream",
          "name": "stderr",
          "text": [
            "\n",
            "Running epoch 100: 100%|██████████| 77/77 [00:41<00:00,  2.26it/s]"
          ]
        },
        {
          "output_type": "stream",
          "name": "stdout",
          "text": [
            "\n",
            "\n"
          ]
        },
        {
          "output_type": "stream",
          "name": "stderr",
          "text": [
            "\rRunning epoch 100: 100%|██████████| 77/77 [00:42<00:00,  1.83it/s]"
          ]
        },
        {
          "output_type": "stream",
          "name": "stdout",
          "text": [
            "  EPOCH NR:  100\n",
            "EPOCH LOSS:  tensor(0.7793, device='cuda:0', grad_fn=<DivBackward0>)\n",
            "  DET LOSS:  0.6786364332422034\n",
            "  NPS LOSS:  0.0005364620222032747\n",
            "   TV LOSS:  0.10014848885211078\n",
            "EPOCH TIME:  42.55986022949219\n"
          ]
        },
        {
          "output_type": "stream",
          "name": "stderr",
          "text": [
            "\n",
            "Running epoch 101: 100%|██████████| 77/77 [00:41<00:00,  2.30it/s]"
          ]
        },
        {
          "output_type": "stream",
          "name": "stdout",
          "text": [
            "\n",
            "\n"
          ]
        },
        {
          "output_type": "stream",
          "name": "stderr",
          "text": [
            "\rRunning epoch 101: 100%|██████████| 77/77 [00:42<00:00,  1.83it/s]"
          ]
        },
        {
          "output_type": "stream",
          "name": "stdout",
          "text": [
            "  EPOCH NR:  101\n",
            "EPOCH LOSS:  tensor(0.7793, device='cuda:0', grad_fn=<DivBackward0>)\n",
            "  DET LOSS:  0.6784445511830317\n",
            "  NPS LOSS:  0.0005365107049742205\n",
            "   TV LOSS:  0.10025224108974655\n",
            "EPOCH TIME:  42.53582954406738\n"
          ]
        },
        {
          "output_type": "stream",
          "name": "stderr",
          "text": [
            "\n",
            "Running epoch 102: 100%|██████████| 77/77 [00:41<00:00,  2.30it/s]"
          ]
        },
        {
          "output_type": "stream",
          "name": "stdout",
          "text": [
            "\n",
            "\n"
          ]
        },
        {
          "output_type": "stream",
          "name": "stderr",
          "text": [
            "\rRunning epoch 102: 100%|██████████| 77/77 [00:42<00:00,  1.82it/s]"
          ]
        },
        {
          "output_type": "stream",
          "name": "stdout",
          "text": [
            "  EPOCH NR:  102\n",
            "EPOCH LOSS:  tensor(0.7803, device='cuda:0', grad_fn=<DivBackward0>)\n",
            "  DET LOSS:  0.6796770699612507\n",
            "  NPS LOSS:  0.0005369497955982368\n",
            "   TV LOSS:  0.1001088788563555\n",
            "EPOCH TIME:  42.786680459976196\n"
          ]
        },
        {
          "output_type": "stream",
          "name": "stderr",
          "text": [
            "\n",
            "Running epoch 103: 100%|██████████| 77/77 [00:41<00:00,  2.31it/s]"
          ]
        },
        {
          "output_type": "stream",
          "name": "stdout",
          "text": [
            "\n",
            "\n"
          ]
        },
        {
          "output_type": "stream",
          "name": "stderr",
          "text": [
            "\rRunning epoch 103: 100%|██████████| 77/77 [00:41<00:00,  1.84it/s]"
          ]
        },
        {
          "output_type": "stream",
          "name": "stdout",
          "text": [
            "  EPOCH NR:  103\n",
            "EPOCH LOSS:  tensor(0.7827, device='cuda:0', grad_fn=<DivBackward0>)\n",
            "  DET LOSS:  0.6819639043374495\n",
            "  NPS LOSS:  0.0005373201868194457\n",
            "   TV LOSS:  0.10016441132341113\n",
            "EPOCH TIME:  42.44996476173401\n"
          ]
        },
        {
          "output_type": "stream",
          "name": "stderr",
          "text": [
            "\n",
            "Running epoch 104: 100%|██████████| 77/77 [00:41<00:00,  2.29it/s]"
          ]
        },
        {
          "output_type": "stream",
          "name": "stdout",
          "text": [
            "\n",
            "\n"
          ]
        },
        {
          "output_type": "stream",
          "name": "stderr",
          "text": [
            "\rRunning epoch 104: 100%|██████████| 77/77 [00:41<00:00,  1.84it/s]"
          ]
        },
        {
          "output_type": "stream",
          "name": "stdout",
          "text": [
            "  EPOCH NR:  104\n",
            "EPOCH LOSS:  tensor(0.7813, device='cuda:0', grad_fn=<DivBackward0>)\n",
            "  DET LOSS:  0.6804813247222405\n",
            "  NPS LOSS:  0.0005371826693306785\n",
            "   TV LOSS:  0.10025564397310281\n",
            "EPOCH TIME:  42.33032250404358\n"
          ]
        },
        {
          "output_type": "stream",
          "name": "stderr",
          "text": [
            "\n",
            "Running epoch 105: 100%|██████████| 77/77 [00:41<00:00,  2.29it/s]"
          ]
        },
        {
          "output_type": "stream",
          "name": "stdout",
          "text": [
            "\n",
            "\n"
          ]
        },
        {
          "output_type": "stream",
          "name": "stderr",
          "text": [
            "\rRunning epoch 105: 100%|██████████| 77/77 [00:41<00:00,  1.83it/s]"
          ]
        },
        {
          "output_type": "stream",
          "name": "stdout",
          "text": [
            "  EPOCH NR:  105\n",
            "EPOCH LOSS:  tensor(0.7784, device='cuda:0', grad_fn=<DivBackward0>)\n",
            "  DET LOSS:  0.6777500603106115\n",
            "  NPS LOSS:  0.0005366378962727529\n",
            "   TV LOSS:  0.10009577812312485\n",
            "EPOCH TIME:  42.48945450782776\n"
          ]
        },
        {
          "output_type": "stream",
          "name": "stderr",
          "text": [
            "\n",
            "Running epoch 106: 100%|██████████| 77/77 [00:41<00:00,  2.28it/s]"
          ]
        },
        {
          "output_type": "stream",
          "name": "stdout",
          "text": [
            "\n",
            "\n"
          ]
        },
        {
          "output_type": "stream",
          "name": "stderr",
          "text": [
            "\rRunning epoch 106: 100%|██████████| 77/77 [00:42<00:00,  1.83it/s]"
          ]
        },
        {
          "output_type": "stream",
          "name": "stdout",
          "text": [
            "  EPOCH NR:  106\n",
            "EPOCH LOSS:  tensor(0.7802, device='cuda:0', grad_fn=<DivBackward0>)\n",
            "  DET LOSS:  0.679480589829482\n",
            "  NPS LOSS:  0.000537267210288578\n",
            "   TV LOSS:  0.10014774447137659\n",
            "EPOCH TIME:  42.551908016204834\n"
          ]
        },
        {
          "output_type": "stream",
          "name": "stderr",
          "text": [
            "\n",
            "Running epoch 107: 100%|██████████| 77/77 [00:41<00:00,  2.30it/s]"
          ]
        },
        {
          "output_type": "stream",
          "name": "stdout",
          "text": [
            "\n",
            "\n"
          ]
        },
        {
          "output_type": "stream",
          "name": "stderr",
          "text": [
            "\rRunning epoch 107: 100%|██████████| 77/77 [00:41<00:00,  1.84it/s]"
          ]
        },
        {
          "output_type": "stream",
          "name": "stdout",
          "text": [
            "  EPOCH NR:  107\n",
            "EPOCH LOSS:  tensor(0.7785, device='cuda:0', grad_fn=<DivBackward0>)\n",
            "  DET LOSS:  0.677878282286904\n",
            "  NPS LOSS:  0.0005373844117917991\n",
            "   TV LOSS:  0.1000868845489118\n",
            "EPOCH TIME:  42.47045302391052\n"
          ]
        },
        {
          "output_type": "stream",
          "name": "stderr",
          "text": [
            "\n",
            "Running epoch 108: 100%|██████████| 77/77 [00:41<00:00,  2.28it/s]"
          ]
        },
        {
          "output_type": "stream",
          "name": "stdout",
          "text": [
            "\n",
            "\n"
          ]
        },
        {
          "output_type": "stream",
          "name": "stderr",
          "text": [
            "\rRunning epoch 108: 100%|██████████| 77/77 [00:41<00:00,  1.84it/s]"
          ]
        },
        {
          "output_type": "stream",
          "name": "stdout",
          "text": [
            "  EPOCH NR:  108\n",
            "EPOCH LOSS:  tensor(0.7785, device='cuda:0', grad_fn=<DivBackward0>)\n",
            "  DET LOSS:  0.6777388701191196\n",
            "  NPS LOSS:  0.000537833669857884\n",
            "   TV LOSS:  0.10018222285555554\n",
            "EPOCH TIME:  42.347795724868774\n"
          ]
        },
        {
          "output_type": "stream",
          "name": "stderr",
          "text": [
            "\n",
            "Running epoch 109: 100%|██████████| 77/77 [00:41<00:00,  2.28it/s]"
          ]
        },
        {
          "output_type": "stream",
          "name": "stdout",
          "text": [
            "\n",
            "\n"
          ]
        },
        {
          "output_type": "stream",
          "name": "stderr",
          "text": [
            "\rRunning epoch 109: 100%|██████████| 77/77 [00:41<00:00,  1.84it/s]"
          ]
        },
        {
          "output_type": "stream",
          "name": "stdout",
          "text": [
            "  EPOCH NR:  109\n",
            "EPOCH LOSS:  tensor(0.7808, device='cuda:0', grad_fn=<DivBackward0>)\n",
            "  DET LOSS:  0.680133018400762\n",
            "  NPS LOSS:  0.0005374338588217733\n",
            "   TV LOSS:  0.10015399821779945\n",
            "EPOCH TIME:  42.39571690559387\n"
          ]
        },
        {
          "output_type": "stream",
          "name": "stderr",
          "text": [
            "\n",
            "Running epoch 110: 100%|██████████| 77/77 [00:41<00:00,  2.27it/s]"
          ]
        },
        {
          "output_type": "stream",
          "name": "stdout",
          "text": [
            "\n",
            "\n"
          ]
        },
        {
          "output_type": "stream",
          "name": "stderr",
          "text": [
            "\rRunning epoch 110: 100%|██████████| 77/77 [00:42<00:00,  1.83it/s]"
          ]
        },
        {
          "output_type": "stream",
          "name": "stdout",
          "text": [
            "  EPOCH NR:  110\n",
            "EPOCH LOSS:  tensor(0.7817, device='cuda:0', grad_fn=<DivBackward0>)\n",
            "  DET LOSS:  0.6809476792038262\n",
            "  NPS LOSS:  0.0005370534823409148\n",
            "   TV LOSS:  0.10015070390004616\n",
            "EPOCH TIME:  42.62364411354065\n"
          ]
        },
        {
          "output_type": "stream",
          "name": "stderr",
          "text": [
            "\n",
            "Running epoch 111: 100%|██████████| 77/77 [00:41<00:00,  2.30it/s]"
          ]
        },
        {
          "output_type": "stream",
          "name": "stdout",
          "text": [
            "\n",
            "\n"
          ]
        },
        {
          "output_type": "stream",
          "name": "stderr",
          "text": [
            "\rRunning epoch 111: 100%|██████████| 77/77 [00:41<00:00,  1.83it/s]"
          ]
        },
        {
          "output_type": "stream",
          "name": "stdout",
          "text": [
            "  EPOCH NR:  111\n",
            "EPOCH LOSS:  tensor(0.7787, device='cuda:0', grad_fn=<DivBackward0>)\n",
            "  DET LOSS:  0.6780964414794723\n",
            "  NPS LOSS:  0.0005368350584713089\n",
            "   TV LOSS:  0.10006346698705253\n",
            "EPOCH TIME:  42.49331784248352\n"
          ]
        },
        {
          "output_type": "stream",
          "name": "stderr",
          "text": [
            "\n",
            "Running epoch 112: 100%|██████████| 77/77 [00:41<00:00,  2.29it/s]"
          ]
        },
        {
          "output_type": "stream",
          "name": "stdout",
          "text": [
            "\n",
            "\n"
          ]
        },
        {
          "output_type": "stream",
          "name": "stderr",
          "text": [
            "\rRunning epoch 112: 100%|██████████| 77/77 [00:41<00:00,  1.84it/s]"
          ]
        },
        {
          "output_type": "stream",
          "name": "stdout",
          "text": [
            "  EPOCH NR:  112\n",
            "EPOCH LOSS:  tensor(0.7813, device='cuda:0', grad_fn=<DivBackward0>)\n",
            "  DET LOSS:  0.6806408708745783\n",
            "  NPS LOSS:  0.0005373196153260477\n",
            "   TV LOSS:  0.10014463486996564\n",
            "EPOCH TIME:  42.44969129562378\n"
          ]
        },
        {
          "output_type": "stream",
          "name": "stderr",
          "text": [
            "\n",
            "Running epoch 113: 100%|██████████| 77/77 [00:42<00:00,  2.26it/s]"
          ]
        },
        {
          "output_type": "stream",
          "name": "stdout",
          "text": [
            "\n",
            "\n"
          ]
        },
        {
          "output_type": "stream",
          "name": "stderr",
          "text": [
            "\rRunning epoch 113: 100%|██████████| 77/77 [00:42<00:00,  1.82it/s]"
          ]
        },
        {
          "output_type": "stream",
          "name": "stdout",
          "text": [
            "  EPOCH NR:  113\n",
            "EPOCH LOSS:  tensor(0.7805, device='cuda:0', grad_fn=<DivBackward0>)\n",
            "  DET LOSS:  0.6797941427726251\n",
            "  NPS LOSS:  0.0005380633837458762\n",
            "   TV LOSS:  0.10016942469330577\n",
            "EPOCH TIME:  42.85808563232422\n"
          ]
        },
        {
          "output_type": "stream",
          "name": "stderr",
          "text": [
            "\n",
            "Running epoch 114: 100%|██████████| 77/77 [00:41<00:00,  2.31it/s]"
          ]
        },
        {
          "output_type": "stream",
          "name": "stdout",
          "text": [
            "\n",
            "\n"
          ]
        },
        {
          "output_type": "stream",
          "name": "stderr",
          "text": [
            "\rRunning epoch 114: 100%|██████████| 77/77 [00:42<00:00,  1.83it/s]"
          ]
        },
        {
          "output_type": "stream",
          "name": "stdout",
          "text": [
            "  EPOCH NR:  114\n",
            "EPOCH LOSS:  tensor(0.7801, device='cuda:0', grad_fn=<DivBackward0>)\n",
            "  DET LOSS:  0.6793734446748511\n",
            "  NPS LOSS:  0.0005386240898280756\n",
            "   TV LOSS:  0.10020326048909843\n",
            "EPOCH TIME:  42.5009388923645\n"
          ]
        },
        {
          "output_type": "stream",
          "name": "stderr",
          "text": [
            "\n",
            "Running epoch 115: 100%|██████████| 77/77 [00:41<00:00,  2.27it/s]"
          ]
        },
        {
          "output_type": "stream",
          "name": "stdout",
          "text": [
            "\n",
            "\n"
          ]
        },
        {
          "output_type": "stream",
          "name": "stderr",
          "text": [
            "\rRunning epoch 115: 100%|██████████| 77/77 [00:42<00:00,  1.83it/s]"
          ]
        },
        {
          "output_type": "stream",
          "name": "stdout",
          "text": [
            "  EPOCH NR:  115\n",
            "EPOCH LOSS:  tensor(0.7803, device='cuda:0', grad_fn=<DivBackward0>)\n",
            "  DET LOSS:  0.6795578924092379\n",
            "  NPS LOSS:  0.0005393490919468368\n",
            "   TV LOSS:  0.10014786687377211\n",
            "EPOCH TIME:  42.5828652381897\n"
          ]
        },
        {
          "output_type": "stream",
          "name": "stderr",
          "text": [
            "\n",
            "Running epoch 116: 100%|██████████| 77/77 [00:41<00:00,  2.30it/s]"
          ]
        },
        {
          "output_type": "stream",
          "name": "stdout",
          "text": [
            "\n",
            "\n"
          ]
        },
        {
          "output_type": "stream",
          "name": "stderr",
          "text": [
            "\rRunning epoch 116: 100%|██████████| 77/77 [00:41<00:00,  1.83it/s]"
          ]
        },
        {
          "output_type": "stream",
          "name": "stdout",
          "text": [
            "  EPOCH NR:  116\n",
            "EPOCH LOSS:  tensor(0.7834, device='cuda:0', grad_fn=<DivBackward0>)\n",
            "  DET LOSS:  0.6827272122556513\n",
            "  NPS LOSS:  0.0005403804886094355\n",
            "   TV LOSS:  0.10007387651251508\n",
            "EPOCH TIME:  42.52033472061157\n"
          ]
        },
        {
          "output_type": "stream",
          "name": "stderr",
          "text": [
            "\n",
            "Running epoch 117: 100%|██████████| 77/77 [00:41<00:00,  2.28it/s]"
          ]
        },
        {
          "output_type": "stream",
          "name": "stdout",
          "text": [
            "\n",
            "\n"
          ]
        },
        {
          "output_type": "stream",
          "name": "stderr",
          "text": [
            "\rRunning epoch 117: 100%|██████████| 77/77 [00:42<00:00,  1.83it/s]"
          ]
        },
        {
          "output_type": "stream",
          "name": "stdout",
          "text": [
            "  EPOCH NR:  117\n",
            "EPOCH LOSS:  tensor(0.7804, device='cuda:0', grad_fn=<DivBackward0>)\n",
            "  DET LOSS:  0.6797230986805706\n",
            "  NPS LOSS:  0.0005406337456064081\n",
            "   TV LOSS:  0.10010388029086126\n",
            "EPOCH TIME:  42.56649351119995\n"
          ]
        },
        {
          "output_type": "stream",
          "name": "stderr",
          "text": [
            "\n",
            "Running epoch 118: 100%|██████████| 77/77 [00:41<00:00,  2.29it/s]"
          ]
        },
        {
          "output_type": "stream",
          "name": "stdout",
          "text": [
            "\n",
            "\n"
          ]
        },
        {
          "output_type": "stream",
          "name": "stderr",
          "text": [
            "\rRunning epoch 118: 100%|██████████| 77/77 [00:41<00:00,  1.84it/s]"
          ]
        },
        {
          "output_type": "stream",
          "name": "stdout",
          "text": [
            "  EPOCH NR:  118\n",
            "EPOCH LOSS:  tensor(0.7823, device='cuda:0', grad_fn=<DivBackward0>)\n",
            "  DET LOSS:  0.6814495534091801\n",
            "  NPS LOSS:  0.0005413585262336805\n",
            "   TV LOSS:  0.10023715259966912\n",
            "EPOCH TIME:  42.418951749801636\n"
          ]
        },
        {
          "output_type": "stream",
          "name": "stderr",
          "text": [
            "\n",
            "Running epoch 119: 100%|██████████| 77/77 [00:42<00:00,  2.30it/s]"
          ]
        },
        {
          "output_type": "stream",
          "name": "stdout",
          "text": [
            "\n",
            "\n"
          ]
        },
        {
          "output_type": "stream",
          "name": "stderr",
          "text": [
            "\rRunning epoch 119: 100%|██████████| 77/77 [00:42<00:00,  1.82it/s]"
          ]
        },
        {
          "output_type": "stream",
          "name": "stdout",
          "text": [
            "  EPOCH NR:  119\n",
            "EPOCH LOSS:  tensor(0.7800, device='cuda:0', grad_fn=<DivBackward0>)\n",
            "  DET LOSS:  0.6792094753934191\n",
            "  NPS LOSS:  0.0005414143035357648\n",
            "   TV LOSS:  0.10021017307971979\n",
            "EPOCH TIME:  42.83269786834717\n"
          ]
        },
        {
          "output_type": "stream",
          "name": "stderr",
          "text": [
            "\n",
            "Running epoch 120: 100%|██████████| 77/77 [00:41<00:00,  2.28it/s]"
          ]
        },
        {
          "output_type": "stream",
          "name": "stdout",
          "text": [
            "\n",
            "\n"
          ]
        },
        {
          "output_type": "stream",
          "name": "stderr",
          "text": [
            "\rRunning epoch 120: 100%|██████████| 77/77 [00:42<00:00,  1.83it/s]"
          ]
        },
        {
          "output_type": "stream",
          "name": "stdout",
          "text": [
            "  EPOCH NR:  120\n",
            "EPOCH LOSS:  tensor(0.7807, device='cuda:0', grad_fn=<DivBackward0>)\n",
            "  DET LOSS:  0.6799977669468174\n",
            "  NPS LOSS:  0.0005418069822435545\n",
            "   TV LOSS:  0.10015147624464778\n",
            "EPOCH TIME:  42.54380679130554\n"
          ]
        },
        {
          "output_type": "stream",
          "name": "stderr",
          "text": [
            "\n",
            "Running epoch 121: 100%|██████████| 77/77 [00:41<00:00,  2.28it/s]"
          ]
        },
        {
          "output_type": "stream",
          "name": "stdout",
          "text": [
            "\n",
            "\n"
          ]
        },
        {
          "output_type": "stream",
          "name": "stderr",
          "text": [
            "\rRunning epoch 121: 100%|██████████| 77/77 [00:42<00:00,  1.83it/s]"
          ]
        },
        {
          "output_type": "stream",
          "name": "stdout",
          "text": [
            "  EPOCH NR:  121\n",
            "EPOCH LOSS:  tensor(0.7807, device='cuda:0', grad_fn=<DivBackward0>)\n",
            "  DET LOSS:  0.680026904329077\n",
            "  NPS LOSS:  0.0005423669928575974\n",
            "   TV LOSS:  0.10010340867878555\n",
            "EPOCH TIME:  42.57217216491699\n"
          ]
        },
        {
          "output_type": "stream",
          "name": "stderr",
          "text": [
            "\n",
            "Running epoch 122: 100%|██████████| 77/77 [00:41<00:00,  2.28it/s]"
          ]
        },
        {
          "output_type": "stream",
          "name": "stdout",
          "text": [
            "\n",
            "\n"
          ]
        },
        {
          "output_type": "stream",
          "name": "stderr",
          "text": [
            "\rRunning epoch 122: 100%|██████████| 77/77 [00:41<00:00,  1.83it/s]"
          ]
        },
        {
          "output_type": "stream",
          "name": "stdout",
          "text": [
            "  EPOCH NR:  122\n",
            "EPOCH LOSS:  tensor(0.7773, device='cuda:0', grad_fn=<DivBackward0>)\n",
            "  DET LOSS:  0.6764055784646567\n",
            "  NPS LOSS:  0.0005424721778805864\n",
            "   TV LOSS:  0.10030736493599879\n",
            "EPOCH TIME:  42.46479797363281\n"
          ]
        },
        {
          "output_type": "stream",
          "name": "stderr",
          "text": [
            "\n",
            "Running epoch 123: 100%|██████████| 77/77 [00:42<00:00,  2.30it/s]"
          ]
        },
        {
          "output_type": "stream",
          "name": "stdout",
          "text": [
            "\n",
            "\n"
          ]
        },
        {
          "output_type": "stream",
          "name": "stderr",
          "text": [
            "\rRunning epoch 123: 100%|██████████| 77/77 [00:42<00:00,  1.82it/s]"
          ]
        },
        {
          "output_type": "stream",
          "name": "stdout",
          "text": [
            "  EPOCH NR:  123\n",
            "EPOCH LOSS:  tensor(0.7818, device='cuda:0', grad_fn=<DivBackward0>)\n",
            "  DET LOSS:  0.6809658052085282\n",
            "  NPS LOSS:  0.0005426345938852952\n",
            "   TV LOSS:  0.10026733132151815\n",
            "EPOCH TIME:  42.79651188850403\n"
          ]
        },
        {
          "output_type": "stream",
          "name": "stderr",
          "text": [
            "\n",
            "Running epoch 124: 100%|██████████| 77/77 [00:41<00:00,  2.28it/s]"
          ]
        },
        {
          "output_type": "stream",
          "name": "stdout",
          "text": [
            "\n",
            "\n"
          ]
        },
        {
          "output_type": "stream",
          "name": "stderr",
          "text": [
            "\rRunning epoch 124: 100%|██████████| 77/77 [00:42<00:00,  1.83it/s]"
          ]
        },
        {
          "output_type": "stream",
          "name": "stdout",
          "text": [
            "  EPOCH NR:  124\n",
            "EPOCH LOSS:  tensor(0.7809, device='cuda:0', grad_fn=<DivBackward0>)\n",
            "  DET LOSS:  0.6802355120708417\n",
            "  NPS LOSS:  0.0005428748335326453\n",
            "   TV LOSS:  0.10008853141750608\n",
            "EPOCH TIME:  42.62656044960022\n"
          ]
        },
        {
          "output_type": "stream",
          "name": "stderr",
          "text": [
            "\n",
            "Running epoch 125: 100%|██████████| 77/77 [00:41<00:00,  2.29it/s]"
          ]
        },
        {
          "output_type": "stream",
          "name": "stdout",
          "text": [
            "\n",
            "\n"
          ]
        },
        {
          "output_type": "stream",
          "name": "stderr",
          "text": [
            "\rRunning epoch 125: 100%|██████████| 77/77 [00:42<00:00,  1.83it/s]"
          ]
        },
        {
          "output_type": "stream",
          "name": "stdout",
          "text": [
            "  EPOCH NR:  125\n",
            "EPOCH LOSS:  tensor(0.7811, device='cuda:0', grad_fn=<DivBackward0>)\n",
            "  DET LOSS:  0.6803971196149851\n",
            "  NPS LOSS:  0.0005437185308992766\n",
            "   TV LOSS:  0.10015451985520202\n",
            "EPOCH TIME:  42.6943724155426\n"
          ]
        },
        {
          "output_type": "stream",
          "name": "stderr",
          "text": [
            "\n",
            "Running epoch 126: 100%|██████████| 77/77 [00:41<00:00,  2.30it/s]"
          ]
        },
        {
          "output_type": "stream",
          "name": "stdout",
          "text": [
            "\n",
            "\n"
          ]
        },
        {
          "output_type": "stream",
          "name": "stderr",
          "text": [
            "\rRunning epoch 126: 100%|██████████| 77/77 [00:41<00:00,  1.83it/s]"
          ]
        },
        {
          "output_type": "stream",
          "name": "stdout",
          "text": [
            "  EPOCH NR:  126\n",
            "EPOCH LOSS:  tensor(0.7793, device='cuda:0', grad_fn=<DivBackward0>)\n",
            "  DET LOSS:  0.6784918927527094\n",
            "  NPS LOSS:  0.000544348484443428\n",
            "   TV LOSS:  0.10019612428429839\n",
            "EPOCH TIME:  42.48539423942566\n"
          ]
        },
        {
          "output_type": "stream",
          "name": "stderr",
          "text": [
            "\n",
            "Running epoch 127: 100%|██████████| 77/77 [00:41<00:00,  2.17it/s]"
          ]
        },
        {
          "output_type": "stream",
          "name": "stdout",
          "text": [
            "\n",
            "\n"
          ]
        },
        {
          "output_type": "stream",
          "name": "stderr",
          "text": [
            "\rRunning epoch 127: 100%|██████████| 77/77 [00:42<00:00,  1.82it/s]"
          ]
        },
        {
          "output_type": "stream",
          "name": "stdout",
          "text": [
            "  EPOCH NR:  127\n",
            "EPOCH LOSS:  tensor(0.7818, device='cuda:0', grad_fn=<DivBackward0>)\n",
            "  DET LOSS:  0.6811150227274213\n",
            "  NPS LOSS:  0.0005440981075917552\n",
            "   TV LOSS:  0.10012356317662574\n",
            "EPOCH TIME:  42.735674142837524\n"
          ]
        },
        {
          "output_type": "stream",
          "name": "stderr",
          "text": [
            "\n",
            "Running epoch 128: 100%|██████████| 77/77 [00:41<00:00,  2.30it/s]"
          ]
        },
        {
          "output_type": "stream",
          "name": "stdout",
          "text": [
            "\n",
            "\n"
          ]
        },
        {
          "output_type": "stream",
          "name": "stderr",
          "text": [
            "\rRunning epoch 128: 100%|██████████| 77/77 [00:41<00:00,  1.84it/s]"
          ]
        },
        {
          "output_type": "stream",
          "name": "stdout",
          "text": [
            "  EPOCH NR:  128\n",
            "EPOCH LOSS:  tensor(0.7813, device='cuda:0', grad_fn=<DivBackward0>)\n",
            "  DET LOSS:  0.6806126461400615\n",
            "  NPS LOSS:  0.0005438544971916777\n",
            "   TV LOSS:  0.1001716974106702\n",
            "EPOCH TIME:  42.47707176208496\n"
          ]
        },
        {
          "output_type": "stream",
          "name": "stderr",
          "text": [
            "\n",
            "Running epoch 129: 100%|██████████| 77/77 [00:41<00:00,  2.28it/s]"
          ]
        },
        {
          "output_type": "stream",
          "name": "stdout",
          "text": [
            "\n",
            "\n"
          ]
        },
        {
          "output_type": "stream",
          "name": "stderr",
          "text": [
            "\rRunning epoch 129: 100%|██████████| 77/77 [00:41<00:00,  1.84it/s]"
          ]
        },
        {
          "output_type": "stream",
          "name": "stdout",
          "text": [
            "  EPOCH NR:  129\n",
            "EPOCH LOSS:  tensor(0.7801, device='cuda:0', grad_fn=<DivBackward0>)\n",
            "  DET LOSS:  0.6791587680965275\n",
            "  NPS LOSS:  0.000543825868093832\n",
            "   TV LOSS:  0.10036287408370476\n",
            "EPOCH TIME:  42.46376156806946\n"
          ]
        },
        {
          "output_type": "stream",
          "name": "stderr",
          "text": [
            "\n",
            "Running epoch 130: 100%|██████████| 77/77 [00:41<00:00,  2.28it/s]"
          ]
        },
        {
          "output_type": "stream",
          "name": "stdout",
          "text": [
            "\n",
            "\n"
          ]
        },
        {
          "output_type": "stream",
          "name": "stderr",
          "text": [
            "\rRunning epoch 130: 100%|██████████| 77/77 [00:41<00:00,  1.84it/s]"
          ]
        },
        {
          "output_type": "stream",
          "name": "stdout",
          "text": [
            "  EPOCH NR:  130\n",
            "EPOCH LOSS:  tensor(0.7804, device='cuda:0', grad_fn=<DivBackward0>)\n",
            "  DET LOSS:  0.6796564181129654\n",
            "  NPS LOSS:  0.0005434078788808124\n",
            "   TV LOSS:  0.10019865370803065\n",
            "EPOCH TIME:  42.52034544944763\n"
          ]
        },
        {
          "output_type": "stream",
          "name": "stderr",
          "text": [
            "\n",
            "Running epoch 131: 100%|██████████| 77/77 [00:41<00:00,  2.29it/s]"
          ]
        },
        {
          "output_type": "stream",
          "name": "stdout",
          "text": [
            "\n",
            "\n"
          ]
        },
        {
          "output_type": "stream",
          "name": "stderr",
          "text": [
            "\rRunning epoch 131: 100%|██████████| 77/77 [00:42<00:00,  1.83it/s]"
          ]
        },
        {
          "output_type": "stream",
          "name": "stdout",
          "text": [
            "  EPOCH NR:  131\n",
            "EPOCH LOSS:  tensor(0.7787, device='cuda:0', grad_fn=<DivBackward0>)\n",
            "  DET LOSS:  0.6780254926000323\n",
            "  NPS LOSS:  0.0005434077171088716\n",
            "   TV LOSS:  0.10012217465933267\n",
            "EPOCH TIME:  42.58027124404907\n"
          ]
        },
        {
          "output_type": "stream",
          "name": "stderr",
          "text": [
            "\n",
            "Running epoch 132: 100%|██████████| 77/77 [00:41<00:00,  2.30it/s]"
          ]
        },
        {
          "output_type": "stream",
          "name": "stdout",
          "text": [
            "\n",
            "\n"
          ]
        },
        {
          "output_type": "stream",
          "name": "stderr",
          "text": [
            "\rRunning epoch 132: 100%|██████████| 77/77 [00:42<00:00,  1.83it/s]"
          ]
        },
        {
          "output_type": "stream",
          "name": "stdout",
          "text": [
            "  EPOCH NR:  132\n",
            "EPOCH LOSS:  tensor(0.7813, device='cuda:0', grad_fn=<DivBackward0>)\n",
            "  DET LOSS:  0.6805997150284904\n",
            "  NPS LOSS:  0.0005435640507909868\n",
            "   TV LOSS:  0.10017039588132462\n",
            "EPOCH TIME:  42.53388476371765\n"
          ]
        },
        {
          "output_type": "stream",
          "name": "stderr",
          "text": [
            "\n",
            "Running epoch 133: 100%|██████████| 77/77 [00:41<00:00,  2.30it/s]"
          ]
        },
        {
          "output_type": "stream",
          "name": "stdout",
          "text": [
            "\n",
            "\n"
          ]
        },
        {
          "output_type": "stream",
          "name": "stderr",
          "text": [
            "\rRunning epoch 133: 100%|██████████| 77/77 [00:42<00:00,  1.83it/s]"
          ]
        },
        {
          "output_type": "stream",
          "name": "stdout",
          "text": [
            "  EPOCH NR:  133\n",
            "EPOCH LOSS:  tensor(0.7812, device='cuda:0', grad_fn=<DivBackward0>)\n",
            "  DET LOSS:  0.6805453509479374\n",
            "  NPS LOSS:  0.0005444927744313397\n",
            "   TV LOSS:  0.10008851158154475\n",
            "EPOCH TIME:  42.606123208999634\n"
          ]
        },
        {
          "output_type": "stream",
          "name": "stderr",
          "text": [
            "\n",
            "Running epoch 134: 100%|██████████| 77/77 [00:42<00:00,  2.27it/s]"
          ]
        },
        {
          "output_type": "stream",
          "name": "stdout",
          "text": [
            "\n",
            "\n"
          ]
        },
        {
          "output_type": "stream",
          "name": "stderr",
          "text": [
            "\rRunning epoch 134: 100%|██████████| 77/77 [00:42<00:00,  1.82it/s]"
          ]
        },
        {
          "output_type": "stream",
          "name": "stdout",
          "text": [
            "  EPOCH NR:  134\n",
            "EPOCH LOSS:  tensor(0.7778, device='cuda:0', grad_fn=<DivBackward0>)\n",
            "  DET LOSS:  0.6769682285073516\n",
            "  NPS LOSS:  0.0005452271676380429\n",
            "   TV LOSS:  0.10025975272640006\n",
            "EPOCH TIME:  42.882845401763916\n"
          ]
        },
        {
          "output_type": "stream",
          "name": "stderr",
          "text": [
            "\n",
            "Running epoch 135: 100%|██████████| 77/77 [00:42<00:00,  2.29it/s]"
          ]
        },
        {
          "output_type": "stream",
          "name": "stdout",
          "text": [
            "\n",
            "\n"
          ]
        },
        {
          "output_type": "stream",
          "name": "stderr",
          "text": [
            "\rRunning epoch 135: 100%|██████████| 77/77 [00:42<00:00,  1.82it/s]"
          ]
        },
        {
          "output_type": "stream",
          "name": "stdout",
          "text": [
            "  EPOCH NR:  135\n",
            "EPOCH LOSS:  tensor(0.7803, device='cuda:0', grad_fn=<DivBackward0>)\n",
            "  DET LOSS:  0.6795687358100693\n",
            "  NPS LOSS:  0.0005461187767130988\n",
            "   TV LOSS:  0.10012417393071311\n",
            "EPOCH TIME:  42.86792254447937\n"
          ]
        },
        {
          "output_type": "stream",
          "name": "stderr",
          "text": [
            "\n",
            "Running epoch 136: 100%|██████████| 77/77 [00:41<00:00,  2.27it/s]"
          ]
        },
        {
          "output_type": "stream",
          "name": "stdout",
          "text": [
            "\n",
            "\n"
          ]
        },
        {
          "output_type": "stream",
          "name": "stderr",
          "text": [
            "\rRunning epoch 136: 100%|██████████| 77/77 [00:41<00:00,  1.84it/s]"
          ]
        },
        {
          "output_type": "stream",
          "name": "stdout",
          "text": [
            "  EPOCH NR:  136\n",
            "EPOCH LOSS:  tensor(0.7776, device='cuda:0', grad_fn=<DivBackward0>)\n",
            "  DET LOSS:  0.6769364004011278\n",
            "  NPS LOSS:  0.0005469679599627852\n",
            "   TV LOSS:  0.1000746666611015\n",
            "EPOCH TIME:  42.37066292762756\n"
          ]
        },
        {
          "output_type": "stream",
          "name": "stderr",
          "text": [
            "\n",
            "Running epoch 137: 100%|██████████| 77/77 [00:42<00:00,  2.29it/s]"
          ]
        },
        {
          "output_type": "stream",
          "name": "stdout",
          "text": [
            "\n",
            "\n"
          ]
        },
        {
          "output_type": "stream",
          "name": "stderr",
          "text": [
            "\rRunning epoch 137: 100%|██████████| 77/77 [00:42<00:00,  1.82it/s]"
          ]
        },
        {
          "output_type": "stream",
          "name": "stdout",
          "text": [
            "  EPOCH NR:  137\n",
            "EPOCH LOSS:  tensor(0.7758, device='cuda:0', grad_fn=<DivBackward0>)\n",
            "  DET LOSS:  0.6751692658895022\n",
            "  NPS LOSS:  0.0005472866718524269\n",
            "   TV LOSS:  0.10009904612194408\n",
            "EPOCH TIME:  42.797834396362305\n"
          ]
        },
        {
          "output_type": "stream",
          "name": "stderr",
          "text": [
            "\n",
            "Running epoch 138: 100%|██████████| 77/77 [00:41<00:00,  2.26it/s]"
          ]
        },
        {
          "output_type": "stream",
          "name": "stdout",
          "text": [
            "\n",
            "\n"
          ]
        },
        {
          "output_type": "stream",
          "name": "stderr",
          "text": [
            "\rRunning epoch 138: 100%|██████████| 77/77 [00:41<00:00,  1.83it/s]"
          ]
        },
        {
          "output_type": "stream",
          "name": "stdout",
          "text": [
            "  EPOCH NR:  138\n",
            "EPOCH LOSS:  tensor(0.7791, device='cuda:0', grad_fn=<DivBackward0>)\n",
            "  DET LOSS:  0.6784677157154331\n",
            "  NPS LOSS:  0.0005473393928743416\n",
            "   TV LOSS:  0.1000783938866157\n",
            "EPOCH TIME:  42.52849268913269\n"
          ]
        },
        {
          "output_type": "stream",
          "name": "stderr",
          "text": [
            "\n",
            "Running epoch 139: 100%|██████████| 77/77 [00:41<00:00,  2.28it/s]"
          ]
        },
        {
          "output_type": "stream",
          "name": "stdout",
          "text": [
            "\n",
            "\n"
          ]
        },
        {
          "output_type": "stream",
          "name": "stderr",
          "text": [
            "\rRunning epoch 139: 100%|██████████| 77/77 [00:42<00:00,  1.83it/s]"
          ]
        },
        {
          "output_type": "stream",
          "name": "stdout",
          "text": [
            "  EPOCH NR:  139\n",
            "EPOCH LOSS:  tensor(0.7790, device='cuda:0', grad_fn=<DivBackward0>)\n",
            "  DET LOSS:  0.6783481712465163\n",
            "  NPS LOSS:  0.0005471136817079667\n",
            "   TV LOSS:  0.10009954453675778\n",
            "EPOCH TIME:  42.56185817718506\n"
          ]
        },
        {
          "output_type": "stream",
          "name": "stderr",
          "text": [
            "\n",
            "Running epoch 140: 100%|██████████| 77/77 [00:41<00:00,  2.26it/s]"
          ]
        },
        {
          "output_type": "stream",
          "name": "stdout",
          "text": [
            "\n",
            "\n"
          ]
        },
        {
          "output_type": "stream",
          "name": "stderr",
          "text": [
            "\rRunning epoch 140: 100%|██████████| 77/77 [00:42<00:00,  1.83it/s]"
          ]
        },
        {
          "output_type": "stream",
          "name": "stdout",
          "text": [
            "  EPOCH NR:  140\n",
            "EPOCH LOSS:  tensor(0.7812, device='cuda:0', grad_fn=<DivBackward0>)\n",
            "  DET LOSS:  0.6805445350609817\n",
            "  NPS LOSS:  0.0005468193558044732\n",
            "   TV LOSS:  0.10006736760789697\n",
            "EPOCH TIME:  42.55329155921936\n"
          ]
        },
        {
          "output_type": "stream",
          "name": "stderr",
          "text": [
            "\n",
            "Running epoch 141: 100%|██████████| 77/77 [00:41<00:00,  2.28it/s]"
          ]
        },
        {
          "output_type": "stream",
          "name": "stdout",
          "text": [
            "\n",
            "\n"
          ]
        },
        {
          "output_type": "stream",
          "name": "stderr",
          "text": [
            "\rRunning epoch 141: 100%|██████████| 77/77 [00:42<00:00,  1.83it/s]"
          ]
        },
        {
          "output_type": "stream",
          "name": "stdout",
          "text": [
            "  EPOCH NR:  141\n",
            "EPOCH LOSS:  tensor(0.7778, device='cuda:0', grad_fn=<DivBackward0>)\n",
            "  DET LOSS:  0.6771690233961328\n",
            "  NPS LOSS:  0.0005471491649468708\n",
            "   TV LOSS:  0.10007304175720587\n",
            "EPOCH TIME:  42.62934589385986\n"
          ]
        },
        {
          "output_type": "stream",
          "name": "stderr",
          "text": [
            "\n",
            "Running epoch 142: 100%|██████████| 77/77 [00:41<00:00,  2.22it/s]"
          ]
        },
        {
          "output_type": "stream",
          "name": "stdout",
          "text": [
            "\n",
            "\n"
          ]
        },
        {
          "output_type": "stream",
          "name": "stderr",
          "text": [
            "\rRunning epoch 142: 100%|██████████| 77/77 [00:42<00:00,  1.83it/s]"
          ]
        },
        {
          "output_type": "stream",
          "name": "stdout",
          "text": [
            "  EPOCH NR:  142\n",
            "EPOCH LOSS:  tensor(0.7778, device='cuda:0', grad_fn=<DivBackward0>)\n",
            "  DET LOSS:  0.6770745082335039\n",
            "  NPS LOSS:  0.0005481337875962354\n",
            "   TV LOSS:  0.10013566572557796\n",
            "EPOCH TIME:  42.63390851020813\n"
          ]
        },
        {
          "output_type": "stream",
          "name": "stderr",
          "text": [
            "\n",
            "Running epoch 143: 100%|██████████| 77/77 [00:41<00:00,  2.31it/s]"
          ]
        },
        {
          "output_type": "stream",
          "name": "stdout",
          "text": [
            "\n",
            "\n"
          ]
        },
        {
          "output_type": "stream",
          "name": "stderr",
          "text": [
            "\rRunning epoch 143: 100%|██████████| 77/77 [00:42<00:00,  1.83it/s]"
          ]
        },
        {
          "output_type": "stream",
          "name": "stdout",
          "text": [
            "  EPOCH NR:  143\n",
            "EPOCH LOSS:  tensor(0.7783, device='cuda:0', grad_fn=<DivBackward0>)\n",
            "  DET LOSS:  0.6775947584734334\n",
            "  NPS LOSS:  0.000548036032743365\n",
            "   TV LOSS:  0.10013937321189162\n",
            "EPOCH TIME:  42.63273501396179\n"
          ]
        },
        {
          "output_type": "stream",
          "name": "stderr",
          "text": [
            "\n",
            "Running epoch 144: 100%|██████████| 77/77 [00:41<00:00,  2.27it/s]"
          ]
        },
        {
          "output_type": "stream",
          "name": "stdout",
          "text": [
            "\n",
            "\n"
          ]
        },
        {
          "output_type": "stream",
          "name": "stderr",
          "text": [
            "\rRunning epoch 144: 100%|██████████| 77/77 [00:42<00:00,  1.83it/s]"
          ]
        },
        {
          "output_type": "stream",
          "name": "stdout",
          "text": [
            "  EPOCH NR:  144\n",
            "EPOCH LOSS:  tensor(0.7797, device='cuda:0', grad_fn=<DivBackward0>)\n",
            "  DET LOSS:  0.679043270550765\n",
            "  NPS LOSS:  0.0005479678322633655\n",
            "   TV LOSS:  0.10009137618464309\n",
            "EPOCH TIME:  42.57623291015625\n"
          ]
        },
        {
          "output_type": "stream",
          "name": "stderr",
          "text": [
            "\n",
            "Running epoch 145: 100%|██████████| 77/77 [00:41<00:00,  2.29it/s]"
          ]
        },
        {
          "output_type": "stream",
          "name": "stdout",
          "text": [
            "\n",
            "\n"
          ]
        },
        {
          "output_type": "stream",
          "name": "stderr",
          "text": [
            "\rRunning epoch 145: 100%|██████████| 77/77 [00:42<00:00,  1.83it/s]"
          ]
        },
        {
          "output_type": "stream",
          "name": "stdout",
          "text": [
            "  EPOCH NR:  145\n",
            "EPOCH LOSS:  tensor(0.7794, device='cuda:0', grad_fn=<DivBackward0>)\n",
            "  DET LOSS:  0.6786902701699888\n",
            "  NPS LOSS:  0.0005482048568823798\n",
            "   TV LOSS:  0.10013867546985676\n",
            "EPOCH TIME:  42.567819118499756\n"
          ]
        },
        {
          "output_type": "stream",
          "name": "stderr",
          "text": [
            "\n",
            "Running epoch 146: 100%|██████████| 77/77 [00:42<00:00,  2.22it/s]"
          ]
        },
        {
          "output_type": "stream",
          "name": "stdout",
          "text": [
            "\n",
            "\n"
          ]
        },
        {
          "output_type": "stream",
          "name": "stderr",
          "text": [
            "\rRunning epoch 146: 100%|██████████| 77/77 [00:42<00:00,  1.82it/s]"
          ]
        },
        {
          "output_type": "stream",
          "name": "stdout",
          "text": [
            "  EPOCH NR:  146\n",
            "EPOCH LOSS:  tensor(0.7797, device='cuda:0', grad_fn=<DivBackward0>)\n",
            "  DET LOSS:  0.6791045774113048\n",
            "  NPS LOSS:  0.0005484700313309667\n",
            "   TV LOSS:  0.10005734241628028\n",
            "EPOCH TIME:  42.937363624572754\n"
          ]
        },
        {
          "output_type": "stream",
          "name": "stderr",
          "text": [
            "\n",
            "Running epoch 147: 100%|██████████| 77/77 [00:41<00:00,  2.30it/s]"
          ]
        },
        {
          "output_type": "stream",
          "name": "stdout",
          "text": [
            "\n",
            "\n"
          ]
        },
        {
          "output_type": "stream",
          "name": "stderr",
          "text": [
            "\rRunning epoch 147: 100%|██████████| 77/77 [00:42<00:00,  1.83it/s]"
          ]
        },
        {
          "output_type": "stream",
          "name": "stdout",
          "text": [
            "  EPOCH NR:  147\n",
            "EPOCH LOSS:  tensor(0.7811, device='cuda:0', grad_fn=<DivBackward0>)\n",
            "  DET LOSS:  0.680426318150062\n",
            "  NPS LOSS:  0.0005489169406801365\n",
            "   TV LOSS:  0.10015046461061998\n",
            "EPOCH TIME:  42.66865110397339\n"
          ]
        },
        {
          "output_type": "stream",
          "name": "stderr",
          "text": [
            "\n",
            "Running epoch 148: 100%|██████████| 77/77 [00:41<00:00,  2.30it/s]"
          ]
        },
        {
          "output_type": "stream",
          "name": "stdout",
          "text": [
            "\n",
            "\n"
          ]
        },
        {
          "output_type": "stream",
          "name": "stderr",
          "text": [
            "\rRunning epoch 148: 100%|██████████| 77/77 [00:42<00:00,  1.83it/s]"
          ]
        },
        {
          "output_type": "stream",
          "name": "stdout",
          "text": [
            "  EPOCH NR:  148\n",
            "EPOCH LOSS:  tensor(0.7785, device='cuda:0', grad_fn=<DivBackward0>)\n",
            "  DET LOSS:  0.6777943388208166\n",
            "  NPS LOSS:  0.0005490902868740551\n",
            "   TV LOSS:  0.10012177735954136\n",
            "EPOCH TIME:  42.519607067108154\n"
          ]
        },
        {
          "output_type": "stream",
          "name": "stderr",
          "text": [
            "\n",
            "Running epoch 149: 100%|██████████| 77/77 [00:41<00:00,  2.29it/s]"
          ]
        },
        {
          "output_type": "stream",
          "name": "stdout",
          "text": [
            "\n",
            "\n"
          ]
        },
        {
          "output_type": "stream",
          "name": "stderr",
          "text": [
            "\rRunning epoch 149: 100%|██████████| 77/77 [00:41<00:00,  1.84it/s]"
          ]
        },
        {
          "output_type": "stream",
          "name": "stdout",
          "text": [
            "  EPOCH NR:  149\n",
            "EPOCH LOSS:  tensor(0.7759, device='cuda:0', grad_fn=<DivBackward0>)\n",
            "  DET LOSS:  0.6753207545775872\n",
            "  NPS LOSS:  0.0005495377578893556\n",
            "   TV LOSS:  0.10006700040071041\n",
            "EPOCH TIME:  42.48365592956543\n"
          ]
        },
        {
          "output_type": "stream",
          "name": "stderr",
          "text": [
            "\n",
            "Running epoch 150: 100%|██████████| 77/77 [00:41<00:00,  2.26it/s]"
          ]
        },
        {
          "output_type": "stream",
          "name": "stdout",
          "text": [
            "\n",
            "\n"
          ]
        },
        {
          "output_type": "stream",
          "name": "stderr",
          "text": [
            "\rRunning epoch 150: 100%|██████████| 77/77 [00:41<00:00,  1.84it/s]"
          ]
        },
        {
          "output_type": "stream",
          "name": "stdout",
          "text": [
            "  EPOCH NR:  150\n",
            "EPOCH LOSS:  tensor(0.7814, device='cuda:0', grad_fn=<DivBackward0>)\n",
            "  DET LOSS:  0.6805323888729145\n",
            "  NPS LOSS:  0.000549949537025305\n",
            "   TV LOSS:  0.10029254253808555\n",
            "EPOCH TIME:  42.50087380409241\n"
          ]
        },
        {
          "output_type": "stream",
          "name": "stderr",
          "text": [
            "\n",
            "Running epoch 151: 100%|██████████| 77/77 [00:41<00:00,  2.28it/s]"
          ]
        },
        {
          "output_type": "stream",
          "name": "stdout",
          "text": [
            "\n",
            "\n"
          ]
        },
        {
          "output_type": "stream",
          "name": "stderr",
          "text": [
            "\rRunning epoch 151: 100%|██████████| 77/77 [00:41<00:00,  1.84it/s]"
          ]
        },
        {
          "output_type": "stream",
          "name": "stdout",
          "text": [
            "  EPOCH NR:  151\n",
            "EPOCH LOSS:  tensor(0.7778, device='cuda:0', grad_fn=<DivBackward0>)\n",
            "  DET LOSS:  0.6771217143380797\n",
            "  NPS LOSS:  0.0005496983550936467\n",
            "   TV LOSS:  0.10010948351451329\n",
            "EPOCH TIME:  42.41424036026001\n"
          ]
        },
        {
          "output_type": "stream",
          "name": "stderr",
          "text": [
            "\n",
            "Running epoch 152: 100%|██████████| 77/77 [00:41<00:00,  2.25it/s]"
          ]
        },
        {
          "output_type": "stream",
          "name": "stdout",
          "text": [
            "\n",
            "\n"
          ]
        },
        {
          "output_type": "stream",
          "name": "stderr",
          "text": [
            "\rRunning epoch 152: 100%|██████████| 77/77 [00:42<00:00,  1.83it/s]"
          ]
        },
        {
          "output_type": "stream",
          "name": "stdout",
          "text": [
            "  EPOCH NR:  152\n",
            "EPOCH LOSS:  tensor(0.7786, device='cuda:0', grad_fn=<DivBackward0>)\n",
            "  DET LOSS:  0.6777807063870616\n",
            "  NPS LOSS:  0.0005497069342981105\n",
            "   TV LOSS:  0.10020067523439209\n",
            "EPOCH TIME:  42.54694747924805\n"
          ]
        },
        {
          "output_type": "stream",
          "name": "stderr",
          "text": [
            "\n",
            "Running epoch 153: 100%|██████████| 77/77 [00:41<00:00,  2.29it/s]"
          ]
        },
        {
          "output_type": "stream",
          "name": "stdout",
          "text": [
            "\n",
            "\n"
          ]
        },
        {
          "output_type": "stream",
          "name": "stderr",
          "text": [
            "\rRunning epoch 153: 100%|██████████| 77/77 [00:42<00:00,  1.83it/s]"
          ]
        },
        {
          "output_type": "stream",
          "name": "stdout",
          "text": [
            "  EPOCH NR:  153\n",
            "EPOCH LOSS:  tensor(0.7768, device='cuda:0', grad_fn=<DivBackward0>)\n",
            "  DET LOSS:  0.6761063917890772\n",
            "  NPS LOSS:  0.0005499094062448516\n",
            "   TV LOSS:  0.10015676122207146\n",
            "EPOCH TIME:  42.56436562538147\n"
          ]
        },
        {
          "output_type": "stream",
          "name": "stderr",
          "text": [
            "\n",
            "Running epoch 154: 100%|██████████| 77/77 [00:41<00:00,  2.27it/s]"
          ]
        },
        {
          "output_type": "stream",
          "name": "stdout",
          "text": [
            "\n",
            "\n"
          ]
        },
        {
          "output_type": "stream",
          "name": "stderr",
          "text": [
            "\rRunning epoch 154: 100%|██████████| 77/77 [00:42<00:00,  1.83it/s]"
          ]
        },
        {
          "output_type": "stream",
          "name": "stdout",
          "text": [
            "  EPOCH NR:  154\n",
            "EPOCH LOSS:  tensor(0.7771, device='cuda:0', grad_fn=<DivBackward0>)\n",
            "  DET LOSS:  0.6764535478183201\n",
            "  NPS LOSS:  0.0005499502022557154\n",
            "   TV LOSS:  0.10013460222776834\n",
            "EPOCH TIME:  42.58773612976074\n"
          ]
        },
        {
          "output_type": "stream",
          "name": "stderr",
          "text": [
            "\n",
            "Running epoch 155: 100%|██████████| 77/77 [00:41<00:00,  2.30it/s]"
          ]
        },
        {
          "output_type": "stream",
          "name": "stdout",
          "text": [
            "\n",
            "\n"
          ]
        },
        {
          "output_type": "stream",
          "name": "stderr",
          "text": [
            "\rRunning epoch 155: 100%|██████████| 77/77 [00:42<00:00,  1.83it/s]"
          ]
        },
        {
          "output_type": "stream",
          "name": "stdout",
          "text": [
            "  EPOCH NR:  155\n",
            "EPOCH LOSS:  tensor(0.7798, device='cuda:0', grad_fn=<DivBackward0>)\n",
            "  DET LOSS:  0.6791567539239859\n",
            "  NPS LOSS:  0.0005496443829849943\n",
            "   TV LOSS:  0.1000501752480284\n",
            "EPOCH TIME:  42.64684295654297\n"
          ]
        },
        {
          "output_type": "stream",
          "name": "stderr",
          "text": [
            "\n",
            "Running epoch 156: 100%|██████████| 77/77 [00:41<00:00,  2.25it/s]"
          ]
        },
        {
          "output_type": "stream",
          "name": "stdout",
          "text": [
            "\n",
            "\n"
          ]
        },
        {
          "output_type": "stream",
          "name": "stderr",
          "text": [
            "\rRunning epoch 156: 100%|██████████| 77/77 [00:42<00:00,  1.82it/s]"
          ]
        },
        {
          "output_type": "stream",
          "name": "stdout",
          "text": [
            "  EPOCH NR:  156\n",
            "EPOCH LOSS:  tensor(0.7812, device='cuda:0', grad_fn=<DivBackward0>)\n",
            "  DET LOSS:  0.6805405748354925\n",
            "  NPS LOSS:  0.0005503664769885408\n",
            "   TV LOSS:  0.1000961930333794\n",
            "EPOCH TIME:  42.7473566532135\n"
          ]
        },
        {
          "output_type": "stream",
          "name": "stderr",
          "text": [
            "\n",
            "Running epoch 157: 100%|██████████| 77/77 [00:41<00:00,  2.29it/s]"
          ]
        },
        {
          "output_type": "stream",
          "name": "stdout",
          "text": [
            "\n",
            "\n"
          ]
        },
        {
          "output_type": "stream",
          "name": "stderr",
          "text": [
            "\rRunning epoch 157: 100%|██████████| 77/77 [00:42<00:00,  1.83it/s]"
          ]
        },
        {
          "output_type": "stream",
          "name": "stdout",
          "text": [
            "  EPOCH NR:  157\n",
            "EPOCH LOSS:  tensor(0.7796, device='cuda:0', grad_fn=<DivBackward0>)\n",
            "  DET LOSS:  0.6788624238658261\n",
            "  NPS LOSS:  0.0005506701811289342\n",
            "   TV LOSS:  0.10017055418197211\n",
            "EPOCH TIME:  42.52568793296814\n"
          ]
        },
        {
          "output_type": "stream",
          "name": "stderr",
          "text": [
            "\n",
            "Running epoch 158: 100%|██████████| 77/77 [00:41<00:00,  2.29it/s]"
          ]
        },
        {
          "output_type": "stream",
          "name": "stdout",
          "text": [
            "\n",
            "\n"
          ]
        },
        {
          "output_type": "stream",
          "name": "stderr",
          "text": [
            "\rRunning epoch 158: 100%|██████████| 77/77 [00:41<00:00,  1.84it/s]"
          ]
        },
        {
          "output_type": "stream",
          "name": "stdout",
          "text": [
            "  EPOCH NR:  158\n",
            "EPOCH LOSS:  tensor(0.7793, device='cuda:0', grad_fn=<DivBackward0>)\n",
            "  DET LOSS:  0.678666863348577\n",
            "  NPS LOSS:  0.0005511271823258079\n",
            "   TV LOSS:  0.10007651701763079\n",
            "EPOCH TIME:  42.30442547798157\n"
          ]
        },
        {
          "output_type": "stream",
          "name": "stderr",
          "text": [
            "\n",
            "Running epoch 159: 100%|██████████| 77/77 [00:41<00:00,  2.30it/s]"
          ]
        },
        {
          "output_type": "stream",
          "name": "stdout",
          "text": [
            "\n",
            "\n"
          ]
        },
        {
          "output_type": "stream",
          "name": "stderr",
          "text": [
            "\rRunning epoch 159: 100%|██████████| 77/77 [00:42<00:00,  1.83it/s]"
          ]
        },
        {
          "output_type": "stream",
          "name": "stdout",
          "text": [
            "  EPOCH NR:  159\n",
            "EPOCH LOSS:  tensor(0.7753, device='cuda:0', grad_fn=<DivBackward0>)\n",
            "  DET LOSS:  0.6745752212289092\n",
            "  NPS LOSS:  0.0005507666833831795\n",
            "   TV LOSS:  0.10013814434989707\n",
            "EPOCH TIME:  42.58922243118286\n"
          ]
        },
        {
          "output_type": "stream",
          "name": "stderr",
          "text": [
            "\n",
            "Running epoch 160: 100%|██████████| 77/77 [00:41<00:00,  2.30it/s]"
          ]
        },
        {
          "output_type": "stream",
          "name": "stdout",
          "text": [
            "\n",
            "\n"
          ]
        },
        {
          "output_type": "stream",
          "name": "stderr",
          "text": [
            "\rRunning epoch 160: 100%|██████████| 77/77 [00:42<00:00,  1.83it/s]"
          ]
        },
        {
          "output_type": "stream",
          "name": "stdout",
          "text": [
            "  EPOCH NR:  160\n",
            "EPOCH LOSS:  tensor(0.7802, device='cuda:0', grad_fn=<DivBackward0>)\n",
            "  DET LOSS:  0.6794383115582652\n",
            "  NPS LOSS:  0.0005506776566556715\n",
            "   TV LOSS:  0.10013513566998693\n",
            "EPOCH TIME:  42.7460663318634\n"
          ]
        },
        {
          "output_type": "stream",
          "name": "stderr",
          "text": [
            "\n",
            "Running epoch 161: 100%|██████████| 77/77 [00:41<00:00,  2.30it/s]"
          ]
        },
        {
          "output_type": "stream",
          "name": "stdout",
          "text": [
            "\n",
            "\n"
          ]
        },
        {
          "output_type": "stream",
          "name": "stderr",
          "text": [
            "\rRunning epoch 161: 100%|██████████| 77/77 [00:42<00:00,  1.83it/s]"
          ]
        },
        {
          "output_type": "stream",
          "name": "stdout",
          "text": [
            "  EPOCH NR:  161\n",
            "EPOCH LOSS:  tensor(0.7789, device='cuda:0', grad_fn=<DivBackward0>)\n",
            "  DET LOSS:  0.678161285914384\n",
            "  NPS LOSS:  0.0005506550819105046\n",
            "   TV LOSS:  0.1001511819950946\n",
            "EPOCH TIME:  42.59811282157898\n"
          ]
        },
        {
          "output_type": "stream",
          "name": "stderr",
          "text": [
            "\n",
            "Running epoch 162: 100%|██████████| 77/77 [00:41<00:00,  2.28it/s]"
          ]
        },
        {
          "output_type": "stream",
          "name": "stdout",
          "text": [
            "\n",
            "\n"
          ]
        },
        {
          "output_type": "stream",
          "name": "stderr",
          "text": [
            "\rRunning epoch 162: 100%|██████████| 77/77 [00:42<00:00,  1.82it/s]"
          ]
        },
        {
          "output_type": "stream",
          "name": "stdout",
          "text": [
            "  EPOCH NR:  162\n",
            "EPOCH LOSS:  tensor(0.7775, device='cuda:0', grad_fn=<DivBackward0>)\n",
            "  DET LOSS:  0.6767993205553525\n",
            "  NPS LOSS:  0.000550244972654074\n",
            "   TV LOSS:  0.10013041771077491\n",
            "EPOCH TIME:  42.821799755096436\n"
          ]
        },
        {
          "output_type": "stream",
          "name": "stderr",
          "text": [
            "\n",
            "Running epoch 163: 100%|██████████| 77/77 [00:41<00:00,  2.28it/s]"
          ]
        },
        {
          "output_type": "stream",
          "name": "stdout",
          "text": [
            "\n",
            "\n"
          ]
        },
        {
          "output_type": "stream",
          "name": "stderr",
          "text": [
            "\rRunning epoch 163: 100%|██████████| 77/77 [00:41<00:00,  1.83it/s]"
          ]
        },
        {
          "output_type": "stream",
          "name": "stdout",
          "text": [
            "  EPOCH NR:  163\n",
            "EPOCH LOSS:  tensor(0.7758, device='cuda:0', grad_fn=<DivBackward0>)\n",
            "  DET LOSS:  0.6750905854361398\n",
            "  NPS LOSS:  0.0005511191496686018\n",
            "   TV LOSS:  0.10008808070576036\n",
            "EPOCH TIME:  42.528074741363525\n"
          ]
        },
        {
          "output_type": "stream",
          "name": "stderr",
          "text": [
            "\n",
            "Running epoch 164: 100%|██████████| 77/77 [00:41<00:00,  2.24it/s]"
          ]
        },
        {
          "output_type": "stream",
          "name": "stdout",
          "text": [
            "\n",
            "\n"
          ]
        },
        {
          "output_type": "stream",
          "name": "stderr",
          "text": [
            "\rRunning epoch 164: 100%|██████████| 77/77 [00:42<00:00,  1.83it/s]"
          ]
        },
        {
          "output_type": "stream",
          "name": "stdout",
          "text": [
            "  EPOCH NR:  164\n",
            "EPOCH LOSS:  tensor(0.7786, device='cuda:0', grad_fn=<DivBackward0>)\n",
            "  DET LOSS:  0.6779437963064615\n",
            "  NPS LOSS:  0.0005517724399491177\n",
            "   TV LOSS:  0.10012524991066425\n",
            "EPOCH TIME:  42.71959352493286\n"
          ]
        },
        {
          "output_type": "stream",
          "name": "stderr",
          "text": [
            "\n",
            "Running epoch 165: 100%|██████████| 77/77 [00:41<00:00,  2.27it/s]"
          ]
        },
        {
          "output_type": "stream",
          "name": "stdout",
          "text": [
            "\n",
            "\n"
          ]
        },
        {
          "output_type": "stream",
          "name": "stderr",
          "text": [
            "\rRunning epoch 165: 100%|██████████| 77/77 [00:41<00:00,  1.84it/s]"
          ]
        },
        {
          "output_type": "stream",
          "name": "stdout",
          "text": [
            "  EPOCH NR:  165\n",
            "EPOCH LOSS:  tensor(0.7760, device='cuda:0', grad_fn=<DivBackward0>)\n",
            "  DET LOSS:  0.6753408777249323\n",
            "  NPS LOSS:  0.0005518932117741894\n",
            "   TV LOSS:  0.10006538188302672\n",
            "EPOCH TIME:  42.49247074127197\n"
          ]
        },
        {
          "output_type": "stream",
          "name": "stderr",
          "text": [
            "\n",
            "Running epoch 166: 100%|██████████| 77/77 [00:41<00:00,  2.29it/s]"
          ]
        },
        {
          "output_type": "stream",
          "name": "stdout",
          "text": [
            "\n",
            "\n"
          ]
        },
        {
          "output_type": "stream",
          "name": "stderr",
          "text": [
            "\rRunning epoch 166: 100%|██████████| 77/77 [00:41<00:00,  1.84it/s]"
          ]
        },
        {
          "output_type": "stream",
          "name": "stdout",
          "text": [
            "  EPOCH NR:  166\n",
            "EPOCH LOSS:  tensor(0.7781, device='cuda:0', grad_fn=<DivBackward0>)\n",
            "  DET LOSS:  0.677311931337629\n",
            "  NPS LOSS:  0.0005521619036285715\n",
            "   TV LOSS:  0.10022215574205696\n",
            "EPOCH TIME:  42.46017909049988\n"
          ]
        },
        {
          "output_type": "stream",
          "name": "stderr",
          "text": [
            "\n",
            "Running epoch 167: 100%|██████████| 77/77 [00:41<00:00,  2.28it/s]"
          ]
        },
        {
          "output_type": "stream",
          "name": "stdout",
          "text": [
            "\n",
            "\n"
          ]
        },
        {
          "output_type": "stream",
          "name": "stderr",
          "text": [
            "\rRunning epoch 167: 100%|██████████| 77/77 [00:41<00:00,  1.84it/s]"
          ]
        },
        {
          "output_type": "stream",
          "name": "stdout",
          "text": [
            "  EPOCH NR:  167\n",
            "EPOCH LOSS:  tensor(0.7771, device='cuda:0', grad_fn=<DivBackward0>)\n",
            "  DET LOSS:  0.6764717009160426\n",
            "  NPS LOSS:  0.000552083540998109\n",
            "   TV LOSS:  0.10007124132924265\n",
            "EPOCH TIME:  42.482367753982544\n"
          ]
        },
        {
          "output_type": "stream",
          "name": "stderr",
          "text": [
            "\n",
            "Running epoch 168: 100%|██████████| 77/77 [00:41<00:00,  2.26it/s]"
          ]
        },
        {
          "output_type": "stream",
          "name": "stdout",
          "text": [
            "\n",
            "\n"
          ]
        },
        {
          "output_type": "stream",
          "name": "stderr",
          "text": [
            "\rRunning epoch 168: 100%|██████████| 77/77 [00:42<00:00,  1.83it/s]"
          ]
        },
        {
          "output_type": "stream",
          "name": "stdout",
          "text": [
            "  EPOCH NR:  168\n",
            "EPOCH LOSS:  tensor(0.7816, device='cuda:0', grad_fn=<DivBackward0>)\n",
            "  DET LOSS:  0.6809716634936147\n",
            "  NPS LOSS:  0.0005525139344904524\n",
            "   TV LOSS:  0.10011418192804634\n",
            "EPOCH TIME:  42.67903161048889\n"
          ]
        },
        {
          "output_type": "stream",
          "name": "stderr",
          "text": [
            "\n",
            "Running epoch 169: 100%|██████████| 77/77 [00:41<00:00,  2.29it/s]"
          ]
        },
        {
          "output_type": "stream",
          "name": "stdout",
          "text": [
            "\n",
            "\n"
          ]
        },
        {
          "output_type": "stream",
          "name": "stderr",
          "text": [
            "\rRunning epoch 169: 100%|██████████| 77/77 [00:42<00:00,  1.83it/s]"
          ]
        },
        {
          "output_type": "stream",
          "name": "stdout",
          "text": [
            "  EPOCH NR:  169\n",
            "EPOCH LOSS:  tensor(0.7780, device='cuda:0', grad_fn=<DivBackward0>)\n",
            "  DET LOSS:  0.6771291378256562\n",
            "  NPS LOSS:  0.0005523259917806302\n",
            "   TV LOSS:  0.10023541187311148\n",
            "EPOCH TIME:  42.55629515647888\n"
          ]
        },
        {
          "output_type": "stream",
          "name": "stderr",
          "text": [
            "\n",
            "Running epoch 170: 100%|██████████| 77/77 [00:41<00:00,  2.29it/s]"
          ]
        },
        {
          "output_type": "stream",
          "name": "stdout",
          "text": [
            "\n",
            "\n"
          ]
        },
        {
          "output_type": "stream",
          "name": "stderr",
          "text": [
            "\rRunning epoch 170: 100%|██████████| 77/77 [00:41<00:00,  1.84it/s]"
          ]
        },
        {
          "output_type": "stream",
          "name": "stdout",
          "text": [
            "  EPOCH NR:  170\n",
            "EPOCH LOSS:  tensor(0.7774, device='cuda:0', grad_fn=<DivBackward0>)\n",
            "  DET LOSS:  0.6767460309065781\n",
            "  NPS LOSS:  0.0005514019474314599\n",
            "   TV LOSS:  0.10011687739328905\n",
            "EPOCH TIME:  42.45081329345703\n"
          ]
        },
        {
          "output_type": "stream",
          "name": "stderr",
          "text": [
            "\n",
            "Running epoch 171: 100%|██████████| 77/77 [00:41<00:00,  2.26it/s]"
          ]
        },
        {
          "output_type": "stream",
          "name": "stdout",
          "text": [
            "\n",
            "\n"
          ]
        },
        {
          "output_type": "stream",
          "name": "stderr",
          "text": [
            "\rRunning epoch 171: 100%|██████████| 77/77 [00:41<00:00,  1.83it/s]"
          ]
        },
        {
          "output_type": "stream",
          "name": "stdout",
          "text": [
            "  EPOCH NR:  171\n",
            "EPOCH LOSS:  tensor(0.7754, device='cuda:0', grad_fn=<DivBackward0>)\n",
            "  DET LOSS:  0.674529519174006\n",
            "  NPS LOSS:  0.0005520112463273108\n",
            "   TV LOSS:  0.10026795736380986\n",
            "EPOCH TIME:  42.527931213378906\n"
          ]
        },
        {
          "output_type": "stream",
          "name": "stderr",
          "text": [
            "\n",
            "Running epoch 172: 100%|██████████| 77/77 [00:41<00:00,  2.27it/s]"
          ]
        },
        {
          "output_type": "stream",
          "name": "stdout",
          "text": [
            "\n",
            "\n"
          ]
        },
        {
          "output_type": "stream",
          "name": "stderr",
          "text": [
            "\rRunning epoch 172: 100%|██████████| 77/77 [00:42<00:00,  1.83it/s]"
          ]
        },
        {
          "output_type": "stream",
          "name": "stdout",
          "text": [
            "  EPOCH NR:  172\n",
            "EPOCH LOSS:  tensor(0.7780, device='cuda:0', grad_fn=<DivBackward0>)\n",
            "  DET LOSS:  0.677298450624788\n",
            "  NPS LOSS:  0.0005526195655201937\n",
            "   TV LOSS:  0.10014199426808915\n",
            "EPOCH TIME:  42.710853576660156\n"
          ]
        },
        {
          "output_type": "stream",
          "name": "stderr",
          "text": [
            "\n",
            "Running epoch 173: 100%|██████████| 77/77 [00:41<00:00,  2.30it/s]"
          ]
        },
        {
          "output_type": "stream",
          "name": "stdout",
          "text": [
            "\n",
            "\n"
          ]
        },
        {
          "output_type": "stream",
          "name": "stderr",
          "text": [
            "\rRunning epoch 173: 100%|██████████| 77/77 [00:42<00:00,  1.83it/s]"
          ]
        },
        {
          "output_type": "stream",
          "name": "stdout",
          "text": [
            "  EPOCH NR:  173\n",
            "EPOCH LOSS:  tensor(0.7806, device='cuda:0', grad_fn=<DivBackward0>)\n",
            "  DET LOSS:  0.6799349947409197\n",
            "  NPS LOSS:  0.000552790582651732\n",
            "   TV LOSS:  0.10009801155560977\n",
            "EPOCH TIME:  42.56000351905823\n"
          ]
        },
        {
          "output_type": "stream",
          "name": "stderr",
          "text": [
            "\n",
            "Running epoch 174: 100%|██████████| 77/77 [00:41<00:00,  2.27it/s]"
          ]
        },
        {
          "output_type": "stream",
          "name": "stdout",
          "text": [
            "\n",
            "\n"
          ]
        },
        {
          "output_type": "stream",
          "name": "stderr",
          "text": [
            "\rRunning epoch 174: 100%|██████████| 77/77 [00:42<00:00,  1.83it/s]"
          ]
        },
        {
          "output_type": "stream",
          "name": "stdout",
          "text": [
            "  EPOCH NR:  174\n",
            "EPOCH LOSS:  tensor(0.7797, device='cuda:0', grad_fn=<DivBackward0>)\n",
            "  DET LOSS:  0.6789704940535806\n",
            "  NPS LOSS:  0.0005535545324991373\n",
            "   TV LOSS:  0.1001145157527614\n",
            "EPOCH TIME:  42.72228288650513\n"
          ]
        },
        {
          "output_type": "stream",
          "name": "stderr",
          "text": [
            "\n",
            "Running epoch 175: 100%|██████████| 77/77 [00:41<00:00,  2.29it/s]"
          ]
        },
        {
          "output_type": "stream",
          "name": "stdout",
          "text": [
            "\n",
            "\n"
          ]
        },
        {
          "output_type": "stream",
          "name": "stderr",
          "text": [
            "\rRunning epoch 175: 100%|██████████| 77/77 [00:41<00:00,  1.84it/s]"
          ]
        },
        {
          "output_type": "stream",
          "name": "stdout",
          "text": [
            "  EPOCH NR:  175\n",
            "EPOCH LOSS:  tensor(0.7773, device='cuda:0', grad_fn=<DivBackward0>)\n",
            "  DET LOSS:  0.6765630229727014\n",
            "  NPS LOSS:  0.000554288221922304\n",
            "   TV LOSS:  0.10012033233394871\n",
            "EPOCH TIME:  42.391560792922974\n"
          ]
        },
        {
          "output_type": "stream",
          "name": "stderr",
          "text": [
            "\n",
            "Running epoch 176: 100%|██████████| 77/77 [00:42<00:00,  2.27it/s]"
          ]
        },
        {
          "output_type": "stream",
          "name": "stdout",
          "text": [
            "\n",
            "\n"
          ]
        },
        {
          "output_type": "stream",
          "name": "stderr",
          "text": [
            "\rRunning epoch 176: 100%|██████████| 77/77 [00:42<00:00,  1.82it/s]"
          ]
        },
        {
          "output_type": "stream",
          "name": "stdout",
          "text": [
            "  EPOCH NR:  176\n",
            "EPOCH LOSS:  tensor(0.7766, device='cuda:0', grad_fn=<DivBackward0>)\n",
            "  DET LOSS:  0.6758105003988588\n",
            "  NPS LOSS:  0.0005550491752090876\n",
            "   TV LOSS:  0.10020314331178541\n",
            "EPOCH TIME:  42.90852999687195\n"
          ]
        },
        {
          "output_type": "stream",
          "name": "stderr",
          "text": [
            "\n",
            "Running epoch 177: 100%|██████████| 77/77 [00:41<00:00,  2.28it/s]"
          ]
        },
        {
          "output_type": "stream",
          "name": "stdout",
          "text": [
            "\n",
            "\n"
          ]
        },
        {
          "output_type": "stream",
          "name": "stderr",
          "text": [
            "\rRunning epoch 177: 100%|██████████| 77/77 [00:42<00:00,  1.83it/s]"
          ]
        },
        {
          "output_type": "stream",
          "name": "stdout",
          "text": [
            "  EPOCH NR:  177\n",
            "EPOCH LOSS:  tensor(0.7782, device='cuda:0', grad_fn=<DivBackward0>)\n",
            "  DET LOSS:  0.6775496137606634\n",
            "  NPS LOSS:  0.0005551153089391527\n",
            "   TV LOSS:  0.10006123297400289\n",
            "EPOCH TIME:  42.72551870346069\n"
          ]
        },
        {
          "output_type": "stream",
          "name": "stderr",
          "text": [
            "\n",
            "Running epoch 178: 100%|██████████| 77/77 [00:41<00:00,  2.30it/s]"
          ]
        },
        {
          "output_type": "stream",
          "name": "stdout",
          "text": [
            "\n",
            "\n"
          ]
        },
        {
          "output_type": "stream",
          "name": "stderr",
          "text": [
            "\rRunning epoch 178: 100%|██████████| 77/77 [00:41<00:00,  1.84it/s]"
          ]
        },
        {
          "output_type": "stream",
          "name": "stdout",
          "text": [
            "  EPOCH NR:  178\n",
            "EPOCH LOSS:  tensor(0.7773, device='cuda:0', grad_fn=<DivBackward0>)\n",
            "  DET LOSS:  0.6766550680259605\n",
            "  NPS LOSS:  0.0005551123078428692\n",
            "   TV LOSS:  0.10008584485425577\n",
            "EPOCH TIME:  42.46994590759277\n"
          ]
        },
        {
          "output_type": "stream",
          "name": "stderr",
          "text": [
            "\n",
            "Running epoch 179: 100%|██████████| 77/77 [00:41<00:00,  2.29it/s]"
          ]
        },
        {
          "output_type": "stream",
          "name": "stdout",
          "text": [
            "\n",
            "\n"
          ]
        },
        {
          "output_type": "stream",
          "name": "stderr",
          "text": [
            "\rRunning epoch 179: 100%|██████████| 77/77 [00:42<00:00,  1.83it/s]"
          ]
        },
        {
          "output_type": "stream",
          "name": "stdout",
          "text": [
            "  EPOCH NR:  179\n",
            "EPOCH LOSS:  tensor(0.7764, device='cuda:0', grad_fn=<DivBackward0>)\n",
            "  DET LOSS:  0.6757030804435928\n",
            "  NPS LOSS:  0.0005546973892729488\n",
            "   TV LOSS:  0.10007100097544781\n",
            "EPOCH TIME:  42.716291427612305\n"
          ]
        },
        {
          "output_type": "stream",
          "name": "stderr",
          "text": [
            "\n",
            "Running epoch 180: 100%|██████████| 77/77 [00:41<00:00,  2.27it/s]"
          ]
        },
        {
          "output_type": "stream",
          "name": "stdout",
          "text": [
            "\n",
            "\n"
          ]
        },
        {
          "output_type": "stream",
          "name": "stderr",
          "text": [
            "\rRunning epoch 180: 100%|██████████| 77/77 [00:41<00:00,  1.84it/s]"
          ]
        },
        {
          "output_type": "stream",
          "name": "stdout",
          "text": [
            "  EPOCH NR:  180\n",
            "EPOCH LOSS:  tensor(0.7777, device='cuda:0', grad_fn=<DivBackward0>)\n",
            "  DET LOSS:  0.6770422930841322\n",
            "  NPS LOSS:  0.000554547677657192\n",
            "   TV LOSS:  0.1001010225577788\n",
            "EPOCH TIME:  42.487384557724\n"
          ]
        },
        {
          "output_type": "stream",
          "name": "stderr",
          "text": [
            "\n",
            "Running epoch 181: 100%|██████████| 77/77 [00:41<00:00,  2.29it/s]"
          ]
        },
        {
          "output_type": "stream",
          "name": "stdout",
          "text": [
            "\n",
            "\n"
          ]
        },
        {
          "output_type": "stream",
          "name": "stderr",
          "text": [
            "\rRunning epoch 181: 100%|██████████| 77/77 [00:42<00:00,  1.83it/s]"
          ]
        },
        {
          "output_type": "stream",
          "name": "stdout",
          "text": [
            "  EPOCH NR:  181\n",
            "EPOCH LOSS:  tensor(0.7784, device='cuda:0', grad_fn=<DivBackward0>)\n",
            "  DET LOSS:  0.6776700089504193\n",
            "  NPS LOSS:  0.0005546196669267563\n",
            "   TV LOSS:  0.10015827339965028\n",
            "EPOCH TIME:  42.71517872810364\n"
          ]
        },
        {
          "output_type": "stream",
          "name": "stderr",
          "text": [
            "\n",
            "Running epoch 182: 100%|██████████| 77/77 [00:42<00:00,  2.29it/s]"
          ]
        },
        {
          "output_type": "stream",
          "name": "stdout",
          "text": [
            "\n",
            "\n"
          ]
        },
        {
          "output_type": "stream",
          "name": "stderr",
          "text": [
            "\rRunning epoch 182: 100%|██████████| 77/77 [00:42<00:00,  1.82it/s]"
          ]
        },
        {
          "output_type": "stream",
          "name": "stdout",
          "text": [
            "  EPOCH NR:  182\n",
            "EPOCH LOSS:  tensor(0.7775, device='cuda:0', grad_fn=<DivBackward0>)\n",
            "  DET LOSS:  0.6767122745513916\n",
            "  NPS LOSS:  0.0005544097791728262\n",
            "   TV LOSS:  0.10026351062508372\n",
            "EPOCH TIME:  42.95126128196716\n"
          ]
        },
        {
          "output_type": "stream",
          "name": "stderr",
          "text": [
            "\n",
            "Running epoch 183: 100%|██████████| 77/77 [00:41<00:00,  2.30it/s]"
          ]
        },
        {
          "output_type": "stream",
          "name": "stdout",
          "text": [
            "\n",
            "\n"
          ]
        },
        {
          "output_type": "stream",
          "name": "stderr",
          "text": [
            "\rRunning epoch 183: 100%|██████████| 77/77 [00:41<00:00,  1.84it/s]"
          ]
        },
        {
          "output_type": "stream",
          "name": "stdout",
          "text": [
            "  EPOCH NR:  183\n",
            "EPOCH LOSS:  tensor(0.7748, device='cuda:0', grad_fn=<DivBackward0>)\n",
            "  DET LOSS:  0.6739953493143057\n",
            "  NPS LOSS:  0.0005544717892302901\n",
            "   TV LOSS:  0.1002794240008701\n",
            "EPOCH TIME:  42.46578407287598\n"
          ]
        },
        {
          "output_type": "stream",
          "name": "stderr",
          "text": [
            "\n",
            "Running epoch 184: 100%|██████████| 77/77 [00:41<00:00,  2.27it/s]"
          ]
        },
        {
          "output_type": "stream",
          "name": "stdout",
          "text": [
            "\n",
            "\n"
          ]
        },
        {
          "output_type": "stream",
          "name": "stderr",
          "text": [
            "\rRunning epoch 184: 100%|██████████| 77/77 [00:41<00:00,  1.83it/s]"
          ]
        },
        {
          "output_type": "stream",
          "name": "stdout",
          "text": [
            "  EPOCH NR:  184\n",
            "EPOCH LOSS:  tensor(0.7777, device='cuda:0', grad_fn=<DivBackward0>)\n",
            "  DET LOSS:  0.6769940342221942\n",
            "  NPS LOSS:  0.0005545367807295029\n",
            "   TV LOSS:  0.10010308365930211\n",
            "EPOCH TIME:  42.54719352722168\n"
          ]
        },
        {
          "output_type": "stream",
          "name": "stderr",
          "text": [
            "\n",
            "Running epoch 185: 100%|██████████| 77/77 [00:41<00:00,  2.28it/s]"
          ]
        },
        {
          "output_type": "stream",
          "name": "stdout",
          "text": [
            "\n",
            "\n"
          ]
        },
        {
          "output_type": "stream",
          "name": "stderr",
          "text": [
            "\rRunning epoch 185: 100%|██████████| 77/77 [00:42<00:00,  1.83it/s]"
          ]
        },
        {
          "output_type": "stream",
          "name": "stdout",
          "text": [
            "  EPOCH NR:  185\n",
            "EPOCH LOSS:  tensor(0.7788, device='cuda:0', grad_fn=<DivBackward0>)\n",
            "  DET LOSS:  0.6781489965203521\n",
            "  NPS LOSS:  0.0005545828532270313\n",
            "   TV LOSS:  0.10004429277274515\n",
            "EPOCH TIME:  42.72329497337341\n"
          ]
        },
        {
          "output_type": "stream",
          "name": "stderr",
          "text": [
            "\n",
            "Running epoch 186: 100%|██████████| 77/77 [00:41<00:00,  2.27it/s]"
          ]
        },
        {
          "output_type": "stream",
          "name": "stdout",
          "text": [
            "\n",
            "\n"
          ]
        },
        {
          "output_type": "stream",
          "name": "stderr",
          "text": [
            "\rRunning epoch 186: 100%|██████████| 77/77 [00:42<00:00,  1.83it/s]"
          ]
        },
        {
          "output_type": "stream",
          "name": "stdout",
          "text": [
            "  EPOCH NR:  186\n",
            "EPOCH LOSS:  tensor(0.7811, device='cuda:0', grad_fn=<DivBackward0>)\n",
            "  DET LOSS:  0.6805031322813654\n",
            "  NPS LOSS:  0.0005550880034986351\n",
            "   TV LOSS:  0.10007152706384659\n",
            "EPOCH TIME:  42.71832323074341\n"
          ]
        },
        {
          "output_type": "stream",
          "name": "stderr",
          "text": [
            "\n",
            "Running epoch 187: 100%|██████████| 77/77 [00:41<00:00,  2.29it/s]"
          ]
        },
        {
          "output_type": "stream",
          "name": "stdout",
          "text": [
            "\n",
            "\n"
          ]
        },
        {
          "output_type": "stream",
          "name": "stderr",
          "text": [
            "\rRunning epoch 187: 100%|██████████| 77/77 [00:42<00:00,  1.82it/s]"
          ]
        },
        {
          "output_type": "stream",
          "name": "stdout",
          "text": [
            "  EPOCH NR:  187\n",
            "EPOCH LOSS:  tensor(0.7794, device='cuda:0', grad_fn=<DivBackward0>)\n",
            "  DET LOSS:  0.6787425178986091\n",
            "  NPS LOSS:  0.0005558110197534325\n",
            "   TV LOSS:  0.10008032349022952\n",
            "EPOCH TIME:  42.84404921531677\n"
          ]
        },
        {
          "output_type": "stream",
          "name": "stderr",
          "text": [
            "\n",
            "Running epoch 188: 100%|██████████| 77/77 [00:41<00:00,  2.27it/s]"
          ]
        },
        {
          "output_type": "stream",
          "name": "stdout",
          "text": [
            "\n",
            "\n"
          ]
        },
        {
          "output_type": "stream",
          "name": "stderr",
          "text": [
            "\rRunning epoch 188: 100%|██████████| 77/77 [00:42<00:00,  1.82it/s]"
          ]
        },
        {
          "output_type": "stream",
          "name": "stdout",
          "text": [
            "  EPOCH NR:  188\n",
            "EPOCH LOSS:  tensor(0.7755, device='cuda:0', grad_fn=<DivBackward0>)\n",
            "  DET LOSS:  0.6748577929162359\n",
            "  NPS LOSS:  0.0005560016838603883\n",
            "   TV LOSS:  0.10007885775782845\n",
            "EPOCH TIME:  42.74777102470398\n"
          ]
        },
        {
          "output_type": "stream",
          "name": "stderr",
          "text": [
            "\n",
            "Running epoch 189: 100%|██████████| 77/77 [00:41<00:00,  2.29it/s]"
          ]
        },
        {
          "output_type": "stream",
          "name": "stdout",
          "text": [
            "\n",
            "\n"
          ]
        },
        {
          "output_type": "stream",
          "name": "stderr",
          "text": [
            "\rRunning epoch 189: 100%|██████████| 77/77 [00:42<00:00,  1.83it/s]"
          ]
        },
        {
          "output_type": "stream",
          "name": "stdout",
          "text": [
            "  EPOCH NR:  189\n",
            "EPOCH LOSS:  tensor(0.7766, device='cuda:0', grad_fn=<DivBackward0>)\n",
            "  DET LOSS:  0.6759456674773971\n",
            "  NPS LOSS:  0.0005560645367950201\n",
            "   TV LOSS:  0.10008676804892429\n",
            "EPOCH TIME:  42.7456955909729\n"
          ]
        },
        {
          "output_type": "stream",
          "name": "stderr",
          "text": [
            "\n",
            "Running epoch 190: 100%|██████████| 77/77 [00:41<00:00,  2.28it/s]"
          ]
        },
        {
          "output_type": "stream",
          "name": "stdout",
          "text": [
            "\n",
            "\n"
          ]
        },
        {
          "output_type": "stream",
          "name": "stderr",
          "text": [
            "\rRunning epoch 190: 100%|██████████| 77/77 [00:42<00:00,  1.83it/s]"
          ]
        },
        {
          "output_type": "stream",
          "name": "stdout",
          "text": [
            "  EPOCH NR:  190\n",
            "EPOCH LOSS:  tensor(0.7776, device='cuda:0', grad_fn=<DivBackward0>)\n",
            "  DET LOSS:  0.6769018707337318\n",
            "  NPS LOSS:  0.0005564132248740885\n",
            "   TV LOSS:  0.10015897617324607\n",
            "EPOCH TIME:  42.60368275642395\n"
          ]
        },
        {
          "output_type": "stream",
          "name": "stderr",
          "text": [
            "\n",
            "Running epoch 191: 100%|██████████| 77/77 [00:41<00:00,  2.29it/s]"
          ]
        },
        {
          "output_type": "stream",
          "name": "stdout",
          "text": [
            "\n",
            "\n"
          ]
        },
        {
          "output_type": "stream",
          "name": "stderr",
          "text": [
            "\rRunning epoch 191: 100%|██████████| 77/77 [00:42<00:00,  1.83it/s]"
          ]
        },
        {
          "output_type": "stream",
          "name": "stdout",
          "text": [
            "  EPOCH NR:  191\n",
            "EPOCH LOSS:  tensor(0.7787, device='cuda:0', grad_fn=<DivBackward0>)\n",
            "  DET LOSS:  0.6780429056712559\n",
            "  NPS LOSS:  0.0005568818252703005\n",
            "   TV LOSS:  0.10006484418333352\n",
            "EPOCH TIME:  42.71935558319092\n"
          ]
        },
        {
          "output_type": "stream",
          "name": "stderr",
          "text": [
            "\n",
            "Running epoch 192: 100%|██████████| 77/77 [00:42<00:00,  2.26it/s]"
          ]
        },
        {
          "output_type": "stream",
          "name": "stdout",
          "text": [
            "\n",
            "\n"
          ]
        },
        {
          "output_type": "stream",
          "name": "stderr",
          "text": [
            "\rRunning epoch 192: 100%|██████████| 77/77 [00:42<00:00,  1.82it/s]"
          ]
        },
        {
          "output_type": "stream",
          "name": "stdout",
          "text": [
            "  EPOCH NR:  192\n",
            "EPOCH LOSS:  tensor(0.7786, device='cuda:0', grad_fn=<DivBackward0>)\n",
            "  DET LOSS:  0.6779388011275947\n",
            "  NPS LOSS:  0.0005571464728261646\n",
            "   TV LOSS:  0.10009615713512743\n",
            "EPOCH TIME:  42.888314962387085\n"
          ]
        },
        {
          "output_type": "stream",
          "name": "stderr",
          "text": [
            "\n",
            "Running epoch 193: 100%|██████████| 77/77 [00:41<00:00,  2.27it/s]"
          ]
        },
        {
          "output_type": "stream",
          "name": "stdout",
          "text": [
            "\n",
            "\n"
          ]
        },
        {
          "output_type": "stream",
          "name": "stderr",
          "text": [
            "\rRunning epoch 193: 100%|██████████| 77/77 [00:42<00:00,  1.82it/s]"
          ]
        },
        {
          "output_type": "stream",
          "name": "stdout",
          "text": [
            "  EPOCH NR:  193\n",
            "EPOCH LOSS:  tensor(0.7766, device='cuda:0', grad_fn=<DivBackward0>)\n",
            "  DET LOSS:  0.6759451681917364\n",
            "  NPS LOSS:  0.0005572534698460783\n",
            "   TV LOSS:  0.10009996128546728\n",
            "EPOCH TIME:  42.82550048828125\n"
          ]
        },
        {
          "output_type": "stream",
          "name": "stderr",
          "text": [
            "\n",
            "Running epoch 194: 100%|██████████| 77/77 [00:41<00:00,  2.27it/s]"
          ]
        },
        {
          "output_type": "stream",
          "name": "stdout",
          "text": [
            "\n",
            "\n"
          ]
        },
        {
          "output_type": "stream",
          "name": "stderr",
          "text": [
            "\rRunning epoch 194: 100%|██████████| 77/77 [00:41<00:00,  1.84it/s]"
          ]
        },
        {
          "output_type": "stream",
          "name": "stdout",
          "text": [
            "  EPOCH NR:  194\n",
            "EPOCH LOSS:  tensor(0.7808, device='cuda:0', grad_fn=<DivBackward0>)\n",
            "  DET LOSS:  0.6800979631287711\n",
            "  NPS LOSS:  0.0005570996360696078\n",
            "   TV LOSS:  0.10010391357657197\n",
            "EPOCH TIME:  42.48394465446472\n"
          ]
        },
        {
          "output_type": "stream",
          "name": "stderr",
          "text": [
            "\n",
            "Running epoch 195: 100%|██████████| 77/77 [00:41<00:00,  2.28it/s]"
          ]
        },
        {
          "output_type": "stream",
          "name": "stdout",
          "text": [
            "\n",
            "\n"
          ]
        },
        {
          "output_type": "stream",
          "name": "stderr",
          "text": [
            "\rRunning epoch 195: 100%|██████████| 77/77 [00:42<00:00,  1.82it/s]"
          ]
        },
        {
          "output_type": "stream",
          "name": "stdout",
          "text": [
            "  EPOCH NR:  195\n",
            "EPOCH LOSS:  tensor(0.7782, device='cuda:0', grad_fn=<DivBackward0>)\n",
            "  DET LOSS:  0.6774415691177567\n",
            "  NPS LOSS:  0.0005573849949695461\n",
            "   TV LOSS:  0.10013690039321974\n",
            "EPOCH TIME:  42.768014907836914\n"
          ]
        },
        {
          "output_type": "stream",
          "name": "stderr",
          "text": [
            "\n",
            "Running epoch 196: 100%|██████████| 77/77 [00:41<00:00,  2.28it/s]"
          ]
        },
        {
          "output_type": "stream",
          "name": "stdout",
          "text": [
            "\n",
            "\n"
          ]
        },
        {
          "output_type": "stream",
          "name": "stderr",
          "text": [
            "\rRunning epoch 196: 100%|██████████| 77/77 [00:42<00:00,  1.83it/s]"
          ]
        },
        {
          "output_type": "stream",
          "name": "stdout",
          "text": [
            "  EPOCH NR:  196\n",
            "EPOCH LOSS:  tensor(0.7766, device='cuda:0', grad_fn=<DivBackward0>)\n",
            "  DET LOSS:  0.6757428452566072\n",
            "  NPS LOSS:  0.0005572739045147772\n",
            "   TV LOSS:  0.10025878647318134\n",
            "EPOCH TIME:  42.66087818145752\n"
          ]
        },
        {
          "output_type": "stream",
          "name": "stderr",
          "text": [
            "\n",
            "Running epoch 197: 100%|██████████| 77/77 [00:41<00:00,  2.30it/s]"
          ]
        },
        {
          "output_type": "stream",
          "name": "stdout",
          "text": [
            "\n",
            "\n"
          ]
        },
        {
          "output_type": "stream",
          "name": "stderr",
          "text": [
            "\rRunning epoch 197: 100%|██████████| 77/77 [00:42<00:00,  1.83it/s]"
          ]
        },
        {
          "output_type": "stream",
          "name": "stdout",
          "text": [
            "  EPOCH NR:  197\n",
            "EPOCH LOSS:  tensor(0.7778, device='cuda:0', grad_fn=<DivBackward0>)\n",
            "  DET LOSS:  0.6770527254451405\n",
            "  NPS LOSS:  0.0005573152546323352\n",
            "   TV LOSS:  0.10011183141500919\n",
            "EPOCH TIME:  42.723458766937256\n"
          ]
        },
        {
          "output_type": "stream",
          "name": "stderr",
          "text": [
            "\n",
            "Running epoch 198: 100%|██████████| 77/77 [00:42<00:00,  2.31it/s]"
          ]
        },
        {
          "output_type": "stream",
          "name": "stdout",
          "text": [
            "\n",
            "\n"
          ]
        },
        {
          "output_type": "stream",
          "name": "stderr",
          "text": [
            "\rRunning epoch 198: 100%|██████████| 77/77 [00:42<00:00,  1.82it/s]"
          ]
        },
        {
          "output_type": "stream",
          "name": "stdout",
          "text": [
            "  EPOCH NR:  198\n",
            "EPOCH LOSS:  tensor(0.7799, device='cuda:0', grad_fn=<DivBackward0>)\n",
            "  DET LOSS:  0.6791323895578261\n",
            "  NPS LOSS:  0.0005576353060541215\n",
            "   TV LOSS:  0.10015926490743439\n",
            "EPOCH TIME:  42.981645822525024\n"
          ]
        },
        {
          "output_type": "stream",
          "name": "stderr",
          "text": [
            "\n",
            "Running epoch 199: 100%|██████████| 77/77 [00:41<00:00,  2.29it/s]"
          ]
        },
        {
          "output_type": "stream",
          "name": "stdout",
          "text": [
            "\n",
            "\n"
          ]
        },
        {
          "output_type": "stream",
          "name": "stderr",
          "text": [
            "\rRunning epoch 199: 100%|██████████| 77/77 [00:42<00:00,  1.83it/s]"
          ]
        },
        {
          "output_type": "stream",
          "name": "stdout",
          "text": [
            "  EPOCH NR:  199\n",
            "EPOCH LOSS:  tensor(0.7800, device='cuda:0', grad_fn=<DivBackward0>)\n",
            "  DET LOSS:  0.6793083904625533\n",
            "  NPS LOSS:  0.000557805948993554\n",
            "   TV LOSS:  0.10011318084094431\n",
            "EPOCH TIME:  42.71518015861511\n"
          ]
        },
        {
          "output_type": "stream",
          "name": "stderr",
          "text": [
            "\n"
          ]
        }
      ]
    },
    {
      "cell_type": "code",
      "source": [
        "# Call patch_training_caller to generate a patch without starter image\n",
        "# Your code starts here\n",
        "patch_training_caller('no')"
      ],
      "metadata": {
        "id": "SLZyBqf5tORs"
      },
      "execution_count": null,
      "outputs": []
    },
    {
      "cell_type": "markdown",
      "source": [
        "### (3) Detect people with patches\n",
        "Use the same api in detect.py as section 2.1 (1) to detect people who hold the patch picture you generated in 2.1 (2). The model should not recognize the people in this case. \n"
      ],
      "metadata": {
        "id": "-fKx3bN5uPTh"
      }
    },
    {
      "cell_type": "code",
      "source": [
        "# Your code starts here\n",
        "%run detect.py cfg/yolov2.cfg weights/yolo.weights person_0061.jpg"
      ],
      "metadata": {
        "id": "JYbls7kEugLg",
        "colab": {
          "base_uri": "https://localhost:8080/"
        },
        "outputId": "f34ba818-fd46-415c-cb32-8b77cc908e7f"
      },
      "execution_count": 6,
      "outputs": [
        {
          "output_type": "stream",
          "name": "stdout",
          "text": [
            "layer     filters    size              input                output\n",
            "    0 conv     32  3 x 3 / 1   608 x 608 x   3   ->   608 x 608 x  32\n",
            "    1 max          2 x 2 / 2   608 x 608 x  32   ->   304 x 304 x  32\n",
            "    2 conv     64  3 x 3 / 1   304 x 304 x  32   ->   304 x 304 x  64\n",
            "    3 max          2 x 2 / 2   304 x 304 x  64   ->   152 x 152 x  64\n",
            "    4 conv    128  3 x 3 / 1   152 x 152 x  64   ->   152 x 152 x 128\n",
            "    5 conv     64  1 x 1 / 1   152 x 152 x 128   ->   152 x 152 x  64\n",
            "    6 conv    128  3 x 3 / 1   152 x 152 x  64   ->   152 x 152 x 128\n",
            "    7 max          2 x 2 / 2   152 x 152 x 128   ->    76 x  76 x 128\n",
            "    8 conv    256  3 x 3 / 1    76 x  76 x 128   ->    76 x  76 x 256\n",
            "    9 conv    128  1 x 1 / 1    76 x  76 x 256   ->    76 x  76 x 128\n",
            "   10 conv    256  3 x 3 / 1    76 x  76 x 128   ->    76 x  76 x 256\n",
            "   11 max          2 x 2 / 2    76 x  76 x 256   ->    38 x  38 x 256\n",
            "   12 conv    512  3 x 3 / 1    38 x  38 x 256   ->    38 x  38 x 512\n",
            "   13 conv    256  1 x 1 / 1    38 x  38 x 512   ->    38 x  38 x 256\n",
            "   14 conv    512  3 x 3 / 1    38 x  38 x 256   ->    38 x  38 x 512\n",
            "   15 conv    256  1 x 1 / 1    38 x  38 x 512   ->    38 x  38 x 256\n",
            "   16 conv    512  3 x 3 / 1    38 x  38 x 256   ->    38 x  38 x 512\n",
            "   17 max          2 x 2 / 2    38 x  38 x 512   ->    19 x  19 x 512\n",
            "   18 conv   1024  3 x 3 / 1    19 x  19 x 512   ->    19 x  19 x1024\n",
            "   19 conv    512  1 x 1 / 1    19 x  19 x1024   ->    19 x  19 x 512\n",
            "   20 conv   1024  3 x 3 / 1    19 x  19 x 512   ->    19 x  19 x1024\n",
            "   21 conv    512  1 x 1 / 1    19 x  19 x1024   ->    19 x  19 x 512\n",
            "   22 conv   1024  3 x 3 / 1    19 x  19 x 512   ->    19 x  19 x1024\n",
            "   23 conv   1024  3 x 3 / 1    19 x  19 x1024   ->    19 x  19 x1024\n",
            "   24 conv   1024  3 x 3 / 1    19 x  19 x1024   ->    19 x  19 x1024\n",
            "   25 route  16\n",
            "   26 conv     64  1 x 1 / 1    38 x  38 x 512   ->    38 x  38 x  64\n",
            "   27 reorg              / 2    38 x  38 x  64   ->    19 x  19 x 256\n",
            "   28 route  27 24\n",
            "   29 conv   1024  3 x 3 / 1    19 x  19 x1280   ->    19 x  19 x1024\n",
            "   30 conv    425  1 x 1 / 1    19 x  19 x1024   ->    19 x  19 x 425\n",
            "   31 detection\n",
            "Loading weights from weights/yolo.weights... Done!\n",
            "torch.Size([1805, 80])\n",
            "person_0061.jpg: Predicted in 0.057190 seconds.\n",
            "[2]car: 0.954122\n",
            "save plot results to predictions.jpg\n"
          ]
        },
        {
          "output_type": "stream",
          "name": "stderr",
          "text": [
            "/content/drive/MyDrive/adversarial-yolo/utils.py:146: UserWarning: Implicit dimension choice for softmax has been deprecated. Change the call to include dim=X as an argument.\n",
            "  cls_confs = torch.nn.Softmax()(Variable(output[5:5+num_classes].transpose(0,1))).data\n"
          ]
        }
      ]
    },
    {
      "cell_type": "markdown",
      "source": [
        "## 2.2 Attack Stop Signs-Detection"
      ],
      "metadata": {
        "id": "gcL-eMMzurSX"
      }
    },
    {
      "cell_type": "markdown",
      "source": [
        "### (1) Detect without patch\n",
        "Similar to 2.1 (1), first we need to use apis in detect.py to recognize images of stop signs."
      ],
      "metadata": {
        "id": "tFhNYzc-uuAI"
      }
    },
    {
      "cell_type": "code",
      "source": [
        "# Your code starts here"
      ],
      "metadata": {
        "id": "rOZ7-kthuzu2"
      },
      "execution_count": null,
      "outputs": []
    },
    {
      "cell_type": "markdown",
      "source": [
        "## (2) Patch stop signs\n",
        "* Edit the source code involved in the patch-sticking control flow to attach the patch image on all the stop sign images. Images belonging to any other class (i.e. people, horses, etc.) should not be patched.\n",
        "* Write a wrapped-up api for sticking patches on stop signs.\n",
        "* Call the api to stick patch on stop sign. You should specify which patch is used in parameter.\n"
      ],
      "metadata": {
        "id": "jAFzefl4u1Ri"
      }
    },
    {
      "cell_type": "code",
      "source": [
        "def patch_sticking_caller(patch_img, ...):\n",
        "  # If there's no stop sign in the image, the image should not be patched.\n",
        "  # Your code starts here"
      ],
      "metadata": {
        "id": "SkmilxYP02VA"
      },
      "execution_count": null,
      "outputs": []
    },
    {
      "cell_type": "code",
      "source": [
        "# Call patch_sticking_caller to stick a patch on stop sign image. \n",
        "# Your code starts here"
      ],
      "metadata": {
        "id": "IgGtiJw20HXP"
      },
      "execution_count": null,
      "outputs": []
    },
    {
      "cell_type": "markdown",
      "source": [
        "### (3) Detect stop sign with patch\n",
        "Use the same api in detect.py as section 2.2 (1) to detect the patched stop sign. The model should not recognize the stop sign in this case. "
      ],
      "metadata": {
        "id": "kYOEy7Ce0A0d"
      }
    },
    {
      "cell_type": "code",
      "source": [
        "# Your code starts here"
      ],
      "metadata": {
        "id": "ScyH85Oo0FF0"
      },
      "execution_count": null,
      "outputs": []
    }
  ]
}